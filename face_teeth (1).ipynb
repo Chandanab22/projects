{
  "nbformat": 4,
  "nbformat_minor": 0,
  "metadata": {
    "colab": {
      "provenance": [],
      "gpuType": "T4"
    },
    "kernelspec": {
      "name": "python3",
      "display_name": "Python 3"
    },
    "language_info": {
      "name": "python"
    },
    "accelerator": "GPU"
  },
  "cells": [
    {
      "cell_type": "code",
      "execution_count": 1,
      "metadata": {
        "colab": {
          "base_uri": "https://localhost:8080/"
        },
        "id": "UQwAkRxYl8ho",
        "outputId": "bfefb178-8e83-4c13-c852-2021b788bb6b"
      },
      "outputs": [
        {
          "output_type": "stream",
          "name": "stdout",
          "text": [
            "Mounted at /content/drive\n"
          ]
        }
      ],
      "source": [
        "from google.colab import drive\n",
        "drive.mount('/content/drive')"
      ]
    },
    {
      "cell_type": "code",
      "source": [
        "!pip install ultralytics"
      ],
      "metadata": {
        "colab": {
          "base_uri": "https://localhost:8080/"
        },
        "id": "nn1hhc4Bm-pP",
        "outputId": "7743c0bb-af68-4455-8d8a-445baffba3ad"
      },
      "execution_count": 2,
      "outputs": [
        {
          "output_type": "stream",
          "name": "stdout",
          "text": [
            "Collecting ultralytics\n",
            "  Downloading ultralytics-8.3.21-py3-none-any.whl.metadata (34 kB)\n",
            "Requirement already satisfied: numpy>=1.23.0 in /usr/local/lib/python3.10/dist-packages (from ultralytics) (1.26.4)\n",
            "Requirement already satisfied: matplotlib>=3.3.0 in /usr/local/lib/python3.10/dist-packages (from ultralytics) (3.7.1)\n",
            "Requirement already satisfied: opencv-python>=4.6.0 in /usr/local/lib/python3.10/dist-packages (from ultralytics) (4.10.0.84)\n",
            "Requirement already satisfied: pillow>=7.1.2 in /usr/local/lib/python3.10/dist-packages (from ultralytics) (10.4.0)\n",
            "Requirement already satisfied: pyyaml>=5.3.1 in /usr/local/lib/python3.10/dist-packages (from ultralytics) (6.0.2)\n",
            "Requirement already satisfied: requests>=2.23.0 in /usr/local/lib/python3.10/dist-packages (from ultralytics) (2.32.3)\n",
            "Requirement already satisfied: scipy>=1.4.1 in /usr/local/lib/python3.10/dist-packages (from ultralytics) (1.13.1)\n",
            "Requirement already satisfied: torch>=1.8.0 in /usr/local/lib/python3.10/dist-packages (from ultralytics) (2.5.0+cu121)\n",
            "Requirement already satisfied: torchvision>=0.9.0 in /usr/local/lib/python3.10/dist-packages (from ultralytics) (0.20.0+cu121)\n",
            "Requirement already satisfied: tqdm>=4.64.0 in /usr/local/lib/python3.10/dist-packages (from ultralytics) (4.66.5)\n",
            "Requirement already satisfied: psutil in /usr/local/lib/python3.10/dist-packages (from ultralytics) (5.9.5)\n",
            "Requirement already satisfied: py-cpuinfo in /usr/local/lib/python3.10/dist-packages (from ultralytics) (9.0.0)\n",
            "Requirement already satisfied: pandas>=1.1.4 in /usr/local/lib/python3.10/dist-packages (from ultralytics) (2.2.2)\n",
            "Requirement already satisfied: seaborn>=0.11.0 in /usr/local/lib/python3.10/dist-packages (from ultralytics) (0.13.2)\n",
            "Collecting ultralytics-thop>=2.0.0 (from ultralytics)\n",
            "  Downloading ultralytics_thop-2.0.9-py3-none-any.whl.metadata (9.3 kB)\n",
            "Requirement already satisfied: contourpy>=1.0.1 in /usr/local/lib/python3.10/dist-packages (from matplotlib>=3.3.0->ultralytics) (1.3.0)\n",
            "Requirement already satisfied: cycler>=0.10 in /usr/local/lib/python3.10/dist-packages (from matplotlib>=3.3.0->ultralytics) (0.12.1)\n",
            "Requirement already satisfied: fonttools>=4.22.0 in /usr/local/lib/python3.10/dist-packages (from matplotlib>=3.3.0->ultralytics) (4.54.1)\n",
            "Requirement already satisfied: kiwisolver>=1.0.1 in /usr/local/lib/python3.10/dist-packages (from matplotlib>=3.3.0->ultralytics) (1.4.7)\n",
            "Requirement already satisfied: packaging>=20.0 in /usr/local/lib/python3.10/dist-packages (from matplotlib>=3.3.0->ultralytics) (24.1)\n",
            "Requirement already satisfied: pyparsing>=2.3.1 in /usr/local/lib/python3.10/dist-packages (from matplotlib>=3.3.0->ultralytics) (3.2.0)\n",
            "Requirement already satisfied: python-dateutil>=2.7 in /usr/local/lib/python3.10/dist-packages (from matplotlib>=3.3.0->ultralytics) (2.8.2)\n",
            "Requirement already satisfied: pytz>=2020.1 in /usr/local/lib/python3.10/dist-packages (from pandas>=1.1.4->ultralytics) (2024.2)\n",
            "Requirement already satisfied: tzdata>=2022.7 in /usr/local/lib/python3.10/dist-packages (from pandas>=1.1.4->ultralytics) (2024.2)\n",
            "Requirement already satisfied: charset-normalizer<4,>=2 in /usr/local/lib/python3.10/dist-packages (from requests>=2.23.0->ultralytics) (3.4.0)\n",
            "Requirement already satisfied: idna<4,>=2.5 in /usr/local/lib/python3.10/dist-packages (from requests>=2.23.0->ultralytics) (3.10)\n",
            "Requirement already satisfied: urllib3<3,>=1.21.1 in /usr/local/lib/python3.10/dist-packages (from requests>=2.23.0->ultralytics) (2.2.3)\n",
            "Requirement already satisfied: certifi>=2017.4.17 in /usr/local/lib/python3.10/dist-packages (from requests>=2.23.0->ultralytics) (2024.8.30)\n",
            "Requirement already satisfied: filelock in /usr/local/lib/python3.10/dist-packages (from torch>=1.8.0->ultralytics) (3.16.1)\n",
            "Requirement already satisfied: typing-extensions>=4.8.0 in /usr/local/lib/python3.10/dist-packages (from torch>=1.8.0->ultralytics) (4.12.2)\n",
            "Requirement already satisfied: networkx in /usr/local/lib/python3.10/dist-packages (from torch>=1.8.0->ultralytics) (3.4.2)\n",
            "Requirement already satisfied: jinja2 in /usr/local/lib/python3.10/dist-packages (from torch>=1.8.0->ultralytics) (3.1.4)\n",
            "Requirement already satisfied: fsspec in /usr/local/lib/python3.10/dist-packages (from torch>=1.8.0->ultralytics) (2024.6.1)\n",
            "Requirement already satisfied: sympy==1.13.1 in /usr/local/lib/python3.10/dist-packages (from torch>=1.8.0->ultralytics) (1.13.1)\n",
            "Requirement already satisfied: mpmath<1.4,>=1.1.0 in /usr/local/lib/python3.10/dist-packages (from sympy==1.13.1->torch>=1.8.0->ultralytics) (1.3.0)\n",
            "Requirement already satisfied: six>=1.5 in /usr/local/lib/python3.10/dist-packages (from python-dateutil>=2.7->matplotlib>=3.3.0->ultralytics) (1.16.0)\n",
            "Requirement already satisfied: MarkupSafe>=2.0 in /usr/local/lib/python3.10/dist-packages (from jinja2->torch>=1.8.0->ultralytics) (3.0.2)\n",
            "Downloading ultralytics-8.3.21-py3-none-any.whl (877 kB)\n",
            "\u001b[2K   \u001b[90m━━━━━━━━━━━━━━━━━━━━━━━━━━━━━━━━━━━━━━━━\u001b[0m \u001b[32m877.1/877.1 kB\u001b[0m \u001b[31m24.8 MB/s\u001b[0m eta \u001b[36m0:00:00\u001b[0m\n",
            "\u001b[?25hDownloading ultralytics_thop-2.0.9-py3-none-any.whl (26 kB)\n",
            "Installing collected packages: ultralytics-thop, ultralytics\n",
            "Successfully installed ultralytics-8.3.21 ultralytics-thop-2.0.9\n"
          ]
        }
      ]
    },
    {
      "cell_type": "code",
      "source": [
        "from ultralytics import YOLO\n",
        "\n",
        "# Load and train the braces detection model\n",
        "braces_model = YOLO('yolov8n.pt')\n",
        "braces_model.train(data='/content/drive/MyDrive/bracket instance segmentation.v1i.yolov8/data.yaml', epochs=30, imgsz=640)\n"
      ],
      "metadata": {
        "colab": {
          "base_uri": "https://localhost:8080/",
          "height": 1000
        },
        "id": "xxaX4YalmrxD",
        "outputId": "588de535-a149-47ef-df3a-1e5d1874bda3"
      },
      "execution_count": 3,
      "outputs": [
        {
          "output_type": "stream",
          "name": "stdout",
          "text": [
            "Creating new Ultralytics Settings v0.0.6 file ✅ \n",
            "View Ultralytics Settings with 'yolo settings' or at '/root/.config/Ultralytics/settings.json'\n",
            "Update Settings with 'yolo settings key=value', i.e. 'yolo settings runs_dir=path/to/dir'. For help see https://docs.ultralytics.com/quickstart/#ultralytics-settings.\n",
            "Downloading https://github.com/ultralytics/assets/releases/download/v8.3.0/yolov8n.pt to 'yolov8n.pt'...\n"
          ]
        },
        {
          "output_type": "stream",
          "name": "stderr",
          "text": [
            "100%|██████████| 6.25M/6.25M [00:00<00:00, 116MB/s]\n"
          ]
        },
        {
          "output_type": "stream",
          "name": "stdout",
          "text": [
            "Ultralytics 8.3.21 🚀 Python-3.10.12 torch-2.5.0+cu121 CUDA:0 (Tesla T4, 15102MiB)\n",
            "\u001b[34m\u001b[1mengine/trainer: \u001b[0mtask=detect, mode=train, model=yolov8n.pt, data=/content/drive/MyDrive/bracket instance segmentation.v1i.yolov8/data.yaml, epochs=30, time=None, patience=100, batch=16, imgsz=640, save=True, save_period=-1, cache=False, device=None, workers=8, project=None, name=train, exist_ok=False, pretrained=True, optimizer=auto, verbose=True, seed=0, deterministic=True, single_cls=False, rect=False, cos_lr=False, close_mosaic=10, resume=False, amp=True, fraction=1.0, profile=False, freeze=None, multi_scale=False, overlap_mask=True, mask_ratio=4, dropout=0.0, val=True, split=val, save_json=False, save_hybrid=False, conf=None, iou=0.7, max_det=300, half=False, dnn=False, plots=True, source=None, vid_stride=1, stream_buffer=False, visualize=False, augment=False, agnostic_nms=False, classes=None, retina_masks=False, embed=None, show=False, save_frames=False, save_txt=False, save_conf=False, save_crop=False, show_labels=True, show_conf=True, show_boxes=True, line_width=None, format=torchscript, keras=False, optimize=False, int8=False, dynamic=False, simplify=True, opset=None, workspace=4, nms=False, lr0=0.01, lrf=0.01, momentum=0.937, weight_decay=0.0005, warmup_epochs=3.0, warmup_momentum=0.8, warmup_bias_lr=0.1, box=7.5, cls=0.5, dfl=1.5, pose=12.0, kobj=1.0, label_smoothing=0.0, nbs=64, hsv_h=0.015, hsv_s=0.7, hsv_v=0.4, degrees=0.0, translate=0.1, scale=0.5, shear=0.0, perspective=0.0, flipud=0.0, fliplr=0.5, bgr=0.0, mosaic=1.0, mixup=0.0, copy_paste=0.0, copy_paste_mode=flip, auto_augment=randaugment, erasing=0.4, crop_fraction=1.0, cfg=None, tracker=botsort.yaml, save_dir=runs/detect/train\n",
            "Downloading https://ultralytics.com/assets/Arial.ttf to '/root/.config/Ultralytics/Arial.ttf'...\n"
          ]
        },
        {
          "output_type": "stream",
          "name": "stderr",
          "text": [
            "100%|██████████| 755k/755k [00:00<00:00, 21.3MB/s]\n"
          ]
        },
        {
          "output_type": "stream",
          "name": "stdout",
          "text": [
            "Overriding model.yaml nc=80 with nc=1\n",
            "\n",
            "                   from  n    params  module                                       arguments                     \n",
            "  0                  -1  1       464  ultralytics.nn.modules.conv.Conv             [3, 16, 3, 2]                 \n",
            "  1                  -1  1      4672  ultralytics.nn.modules.conv.Conv             [16, 32, 3, 2]                \n",
            "  2                  -1  1      7360  ultralytics.nn.modules.block.C2f             [32, 32, 1, True]             \n",
            "  3                  -1  1     18560  ultralytics.nn.modules.conv.Conv             [32, 64, 3, 2]                \n",
            "  4                  -1  2     49664  ultralytics.nn.modules.block.C2f             [64, 64, 2, True]             \n",
            "  5                  -1  1     73984  ultralytics.nn.modules.conv.Conv             [64, 128, 3, 2]               \n",
            "  6                  -1  2    197632  ultralytics.nn.modules.block.C2f             [128, 128, 2, True]           \n",
            "  7                  -1  1    295424  ultralytics.nn.modules.conv.Conv             [128, 256, 3, 2]              \n",
            "  8                  -1  1    460288  ultralytics.nn.modules.block.C2f             [256, 256, 1, True]           \n",
            "  9                  -1  1    164608  ultralytics.nn.modules.block.SPPF            [256, 256, 5]                 \n",
            " 10                  -1  1         0  torch.nn.modules.upsampling.Upsample         [None, 2, 'nearest']          \n",
            " 11             [-1, 6]  1         0  ultralytics.nn.modules.conv.Concat           [1]                           \n",
            " 12                  -1  1    148224  ultralytics.nn.modules.block.C2f             [384, 128, 1]                 \n",
            " 13                  -1  1         0  torch.nn.modules.upsampling.Upsample         [None, 2, 'nearest']          \n",
            " 14             [-1, 4]  1         0  ultralytics.nn.modules.conv.Concat           [1]                           \n",
            " 15                  -1  1     37248  ultralytics.nn.modules.block.C2f             [192, 64, 1]                  \n",
            " 16                  -1  1     36992  ultralytics.nn.modules.conv.Conv             [64, 64, 3, 2]                \n",
            " 17            [-1, 12]  1         0  ultralytics.nn.modules.conv.Concat           [1]                           \n",
            " 18                  -1  1    123648  ultralytics.nn.modules.block.C2f             [192, 128, 1]                 \n",
            " 19                  -1  1    147712  ultralytics.nn.modules.conv.Conv             [128, 128, 3, 2]              \n",
            " 20             [-1, 9]  1         0  ultralytics.nn.modules.conv.Concat           [1]                           \n",
            " 21                  -1  1    493056  ultralytics.nn.modules.block.C2f             [384, 256, 1]                 \n",
            " 22        [15, 18, 21]  1    751507  ultralytics.nn.modules.head.Detect           [1, [64, 128, 256]]           \n",
            "Model summary: 225 layers, 3,011,043 parameters, 3,011,027 gradients, 8.2 GFLOPs\n",
            "\n",
            "Transferred 319/355 items from pretrained weights\n",
            "\u001b[34m\u001b[1mTensorBoard: \u001b[0mStart with 'tensorboard --logdir runs/detect/train', view at http://localhost:6006/\n"
          ]
        },
        {
          "output_type": "stream",
          "name": "stderr",
          "text": [
            "\u001b[34m\u001b[1mwandb\u001b[0m: Using wandb-core as the SDK backend. Please refer to https://wandb.me/wandb-core for more information.\n"
          ]
        },
        {
          "output_type": "display_data",
          "data": {
            "text/plain": [
              "<IPython.core.display.Javascript object>"
            ],
            "application/javascript": [
              "\n",
              "        window._wandbApiKey = new Promise((resolve, reject) => {\n",
              "            function loadScript(url) {\n",
              "            return new Promise(function(resolve, reject) {\n",
              "                let newScript = document.createElement(\"script\");\n",
              "                newScript.onerror = reject;\n",
              "                newScript.onload = resolve;\n",
              "                document.body.appendChild(newScript);\n",
              "                newScript.src = url;\n",
              "            });\n",
              "            }\n",
              "            loadScript(\"https://cdn.jsdelivr.net/npm/postmate/build/postmate.min.js\").then(() => {\n",
              "            const iframe = document.createElement('iframe')\n",
              "            iframe.style.cssText = \"width:0;height:0;border:none\"\n",
              "            document.body.appendChild(iframe)\n",
              "            const handshake = new Postmate({\n",
              "                container: iframe,\n",
              "                url: 'https://wandb.ai/authorize'\n",
              "            });\n",
              "            const timeout = setTimeout(() => reject(\"Couldn't auto authenticate\"), 5000)\n",
              "            handshake.then(function(child) {\n",
              "                child.on('authorize', data => {\n",
              "                    clearTimeout(timeout)\n",
              "                    resolve(data)\n",
              "                });\n",
              "            });\n",
              "            })\n",
              "        });\n",
              "    "
            ]
          },
          "metadata": {}
        },
        {
          "output_type": "stream",
          "name": "stderr",
          "text": [
            "\u001b[34m\u001b[1mwandb\u001b[0m: Logging into wandb.ai. (Learn how to deploy a W&B server locally: https://wandb.me/wandb-server)\n",
            "\u001b[34m\u001b[1mwandb\u001b[0m: You can find your API key in your browser here: https://wandb.ai/authorize\n",
            "wandb: Paste an API key from your profile and hit enter, or press ctrl+c to quit:"
          ]
        },
        {
          "name": "stdout",
          "output_type": "stream",
          "text": [
            " ··········\n"
          ]
        },
        {
          "output_type": "stream",
          "name": "stderr",
          "text": [
            "\u001b[34m\u001b[1mwandb\u001b[0m: Appending key for api.wandb.ai to your netrc file: /root/.netrc\n"
          ]
        },
        {
          "output_type": "display_data",
          "data": {
            "text/plain": [
              "<IPython.core.display.HTML object>"
            ],
            "text/html": [
              "Tracking run with wandb version 0.18.5"
            ]
          },
          "metadata": {}
        },
        {
          "output_type": "display_data",
          "data": {
            "text/plain": [
              "<IPython.core.display.HTML object>"
            ],
            "text/html": [
              "Run data is saved locally in <code>/content/wandb/run-20241024_090541-ws4d5uwk</code>"
            ]
          },
          "metadata": {}
        },
        {
          "output_type": "display_data",
          "data": {
            "text/plain": [
              "<IPython.core.display.HTML object>"
            ],
            "text/html": [
              "Syncing run <strong><a href='https://wandb.ai/chandanab-bsc22-rv-university/Ultralytics/runs/ws4d5uwk' target=\"_blank\">train</a></strong> to <a href='https://wandb.ai/chandanab-bsc22-rv-university/Ultralytics' target=\"_blank\">Weights & Biases</a> (<a href='https://wandb.me/run' target=\"_blank\">docs</a>)<br/>"
            ]
          },
          "metadata": {}
        },
        {
          "output_type": "display_data",
          "data": {
            "text/plain": [
              "<IPython.core.display.HTML object>"
            ],
            "text/html": [
              " View project at <a href='https://wandb.ai/chandanab-bsc22-rv-university/Ultralytics' target=\"_blank\">https://wandb.ai/chandanab-bsc22-rv-university/Ultralytics</a>"
            ]
          },
          "metadata": {}
        },
        {
          "output_type": "display_data",
          "data": {
            "text/plain": [
              "<IPython.core.display.HTML object>"
            ],
            "text/html": [
              " View run at <a href='https://wandb.ai/chandanab-bsc22-rv-university/Ultralytics/runs/ws4d5uwk' target=\"_blank\">https://wandb.ai/chandanab-bsc22-rv-university/Ultralytics/runs/ws4d5uwk</a>"
            ]
          },
          "metadata": {}
        },
        {
          "output_type": "stream",
          "name": "stdout",
          "text": [
            "Freezing layer 'model.22.dfl.conv.weight'\n",
            "\u001b[34m\u001b[1mAMP: \u001b[0mrunning Automatic Mixed Precision (AMP) checks...\n",
            "Downloading https://github.com/ultralytics/assets/releases/download/v8.3.0/yolo11n.pt to 'yolo11n.pt'...\n"
          ]
        },
        {
          "output_type": "stream",
          "name": "stderr",
          "text": [
            "100%|██████████| 5.35M/5.35M [00:00<00:00, 114MB/s]\n"
          ]
        },
        {
          "output_type": "stream",
          "name": "stdout",
          "text": [
            "\u001b[34m\u001b[1mAMP: \u001b[0mchecks passed ✅\n"
          ]
        },
        {
          "output_type": "stream",
          "name": "stderr",
          "text": [
            "\u001b[34m\u001b[1mtrain: \u001b[0mScanning /content/drive/MyDrive/bracket instance segmentation.v1i.yolov8/train/labels.cache... 207 images, 0 backgrounds, 0 corrupt: 100%|██████████| 207/207 [00:00<?, ?it/s]\n"
          ]
        },
        {
          "output_type": "stream",
          "name": "stdout",
          "text": [
            "\u001b[34m\u001b[1malbumentations: \u001b[0mBlur(p=0.01, blur_limit=(3, 7)), MedianBlur(p=0.01, blur_limit=(3, 7)), ToGray(p=0.01, num_output_channels=3, method='weighted_average'), CLAHE(p=0.01, clip_limit=(1, 4.0), tile_grid_size=(8, 8))\n"
          ]
        },
        {
          "output_type": "stream",
          "name": "stderr",
          "text": [
            "/usr/local/lib/python3.10/dist-packages/albumentations/__init__.py:13: UserWarning: A new version of Albumentations is available: 1.4.19 (you have 1.4.15). Upgrade using: pip install -U albumentations. To disable automatic update checks, set the environment variable NO_ALBUMENTATIONS_UPDATE to 1.\n",
            "  check_for_updates()\n",
            "\u001b[34m\u001b[1mval: \u001b[0mScanning /content/drive/MyDrive/bracket instance segmentation.v1i.yolov8/valid/labels.cache... 19 images, 0 backgrounds, 0 corrupt: 100%|██████████| 19/19 [00:00<?, ?it/s]\n"
          ]
        },
        {
          "output_type": "stream",
          "name": "stdout",
          "text": [
            "Plotting labels to runs/detect/train/labels.jpg... \n",
            "\u001b[34m\u001b[1moptimizer:\u001b[0m 'optimizer=auto' found, ignoring 'lr0=0.01' and 'momentum=0.937' and determining best 'optimizer', 'lr0' and 'momentum' automatically... \n",
            "\u001b[34m\u001b[1moptimizer:\u001b[0m AdamW(lr=0.002, momentum=0.9) with parameter groups 57 weight(decay=0.0), 64 weight(decay=0.0005), 63 bias(decay=0.0)\n",
            "\u001b[34m\u001b[1mTensorBoard: \u001b[0mmodel graph visualization added ✅\n",
            "Image sizes 640 train, 640 val\n",
            "Using 2 dataloader workers\n",
            "Logging results to \u001b[1mruns/detect/train\u001b[0m\n",
            "Starting training for 30 epochs...\n",
            "\n",
            "      Epoch    GPU_mem   box_loss   cls_loss   dfl_loss  Instances       Size\n"
          ]
        },
        {
          "output_type": "stream",
          "name": "stderr",
          "text": [
            "       1/30      2.47G      1.919       3.19      1.256        272        640: 100%|██████████| 13/13 [00:09<00:00,  1.34it/s]\n",
            "                 Class     Images  Instances      Box(P          R      mAP50  mAP50-95): 100%|██████████| 1/1 [00:03<00:00,  3.45s/it]"
          ]
        },
        {
          "output_type": "stream",
          "name": "stdout",
          "text": [
            "                   all         19        222     0.0389          1      0.649      0.288\n"
          ]
        },
        {
          "output_type": "stream",
          "name": "stderr",
          "text": [
            "\n"
          ]
        },
        {
          "output_type": "stream",
          "name": "stdout",
          "text": [
            "\n",
            "      Epoch    GPU_mem   box_loss   cls_loss   dfl_loss  Instances       Size\n"
          ]
        },
        {
          "output_type": "stream",
          "name": "stderr",
          "text": [
            "       2/30      2.37G      1.744      1.398       1.12        238        640: 100%|██████████| 13/13 [00:07<00:00,  1.65it/s]\n",
            "                 Class     Images  Instances      Box(P          R      mAP50  mAP50-95): 100%|██████████| 1/1 [00:00<00:00,  1.66it/s]"
          ]
        },
        {
          "output_type": "stream",
          "name": "stdout",
          "text": [
            "                   all         19        222     0.0382      0.982      0.846      0.649\n"
          ]
        },
        {
          "output_type": "stream",
          "name": "stderr",
          "text": [
            "\n"
          ]
        },
        {
          "output_type": "stream",
          "name": "stdout",
          "text": [
            "\n",
            "      Epoch    GPU_mem   box_loss   cls_loss   dfl_loss  Instances       Size\n"
          ]
        },
        {
          "output_type": "stream",
          "name": "stderr",
          "text": [
            "       3/30      2.48G       1.67      1.333      1.128        209        640: 100%|██████████| 13/13 [00:08<00:00,  1.48it/s]\n",
            "                 Class     Images  Instances      Box(P          R      mAP50  mAP50-95): 100%|██████████| 1/1 [00:00<00:00,  1.07it/s]"
          ]
        },
        {
          "output_type": "stream",
          "name": "stdout",
          "text": [
            "                   all         19        222     0.0326      0.838      0.154      0.123\n"
          ]
        },
        {
          "output_type": "stream",
          "name": "stderr",
          "text": [
            "\n"
          ]
        },
        {
          "output_type": "stream",
          "name": "stdout",
          "text": [
            "\n",
            "      Epoch    GPU_mem   box_loss   cls_loss   dfl_loss  Instances       Size\n"
          ]
        },
        {
          "output_type": "stream",
          "name": "stderr",
          "text": [
            "       4/30      2.44G      1.644       1.28      1.112        203        640: 100%|██████████| 13/13 [00:06<00:00,  1.94it/s]\n",
            "                 Class     Images  Instances      Box(P          R      mAP50  mAP50-95): 100%|██████████| 1/1 [00:00<00:00,  1.93it/s]"
          ]
        },
        {
          "output_type": "stream",
          "name": "stdout",
          "text": [
            "                   all         19        222          1       0.56      0.944      0.747\n"
          ]
        },
        {
          "output_type": "stream",
          "name": "stderr",
          "text": [
            "\n"
          ]
        },
        {
          "output_type": "stream",
          "name": "stdout",
          "text": [
            "\n",
            "      Epoch    GPU_mem   box_loss   cls_loss   dfl_loss  Instances       Size\n"
          ]
        },
        {
          "output_type": "stream",
          "name": "stderr",
          "text": [
            "       5/30      2.33G      1.516       1.18       1.09        226        640: 100%|██████████| 13/13 [00:09<00:00,  1.37it/s]\n",
            "                 Class     Images  Instances      Box(P          R      mAP50  mAP50-95): 100%|██████████| 1/1 [00:00<00:00,  1.91it/s]"
          ]
        },
        {
          "output_type": "stream",
          "name": "stdout",
          "text": [
            "                   all         19        222      0.994      0.758      0.977      0.779\n"
          ]
        },
        {
          "output_type": "stream",
          "name": "stderr",
          "text": [
            "\n"
          ]
        },
        {
          "output_type": "stream",
          "name": "stdout",
          "text": [
            "\n",
            "      Epoch    GPU_mem   box_loss   cls_loss   dfl_loss  Instances       Size\n"
          ]
        },
        {
          "output_type": "stream",
          "name": "stderr",
          "text": [
            "       6/30      2.28G      1.622      1.161      1.114        276        640: 100%|██████████| 13/13 [00:06<00:00,  1.98it/s]\n",
            "                 Class     Images  Instances      Box(P          R      mAP50  mAP50-95): 100%|██████████| 1/1 [00:00<00:00,  1.90it/s]"
          ]
        },
        {
          "output_type": "stream",
          "name": "stdout",
          "text": [
            "                   all         19        222      0.938      0.956      0.988      0.783\n"
          ]
        },
        {
          "output_type": "stream",
          "name": "stderr",
          "text": [
            "\n"
          ]
        },
        {
          "output_type": "stream",
          "name": "stdout",
          "text": [
            "\n",
            "      Epoch    GPU_mem   box_loss   cls_loss   dfl_loss  Instances       Size\n"
          ]
        },
        {
          "output_type": "stream",
          "name": "stderr",
          "text": [
            "       7/30      2.33G      1.601      1.219      1.129        248        640: 100%|██████████| 13/13 [00:09<00:00,  1.34it/s]\n",
            "                 Class     Images  Instances      Box(P          R      mAP50  mAP50-95): 100%|██████████| 1/1 [00:00<00:00,  2.05it/s]"
          ]
        },
        {
          "output_type": "stream",
          "name": "stdout",
          "text": [
            "                   all         19        222      0.984      0.819      0.988      0.798\n"
          ]
        },
        {
          "output_type": "stream",
          "name": "stderr",
          "text": [
            "\n"
          ]
        },
        {
          "output_type": "stream",
          "name": "stdout",
          "text": [
            "\n",
            "      Epoch    GPU_mem   box_loss   cls_loss   dfl_loss  Instances       Size\n"
          ]
        },
        {
          "output_type": "stream",
          "name": "stderr",
          "text": [
            "       8/30      2.39G      1.555      1.196      1.104        190        640: 100%|██████████| 13/13 [00:06<00:00,  2.02it/s]\n",
            "                 Class     Images  Instances      Box(P          R      mAP50  mAP50-95): 100%|██████████| 1/1 [00:00<00:00,  2.00it/s]"
          ]
        },
        {
          "output_type": "stream",
          "name": "stdout",
          "text": [
            "                   all         19        222      0.948      0.964      0.989       0.78\n"
          ]
        },
        {
          "output_type": "stream",
          "name": "stderr",
          "text": [
            "\n"
          ]
        },
        {
          "output_type": "stream",
          "name": "stdout",
          "text": [
            "\n",
            "      Epoch    GPU_mem   box_loss   cls_loss   dfl_loss  Instances       Size\n"
          ]
        },
        {
          "output_type": "stream",
          "name": "stderr",
          "text": [
            "       9/30      2.26G      1.565      1.144      1.084        193        640: 100%|██████████| 13/13 [00:10<00:00,  1.23it/s]\n",
            "                 Class     Images  Instances      Box(P          R      mAP50  mAP50-95): 100%|██████████| 1/1 [00:00<00:00,  1.11it/s]"
          ]
        },
        {
          "output_type": "stream",
          "name": "stdout",
          "text": [
            "                   all         19        222      0.935      0.955      0.985      0.792\n"
          ]
        },
        {
          "output_type": "stream",
          "name": "stderr",
          "text": [
            "\n"
          ]
        },
        {
          "output_type": "stream",
          "name": "stdout",
          "text": [
            "\n",
            "      Epoch    GPU_mem   box_loss   cls_loss   dfl_loss  Instances       Size\n"
          ]
        },
        {
          "output_type": "stream",
          "name": "stderr",
          "text": [
            "      10/30      2.34G      1.417      1.081      1.041        244        640: 100%|██████████| 13/13 [00:06<00:00,  2.15it/s]\n",
            "                 Class     Images  Instances      Box(P          R      mAP50  mAP50-95): 100%|██████████| 1/1 [00:00<00:00,  1.34it/s]"
          ]
        },
        {
          "output_type": "stream",
          "name": "stdout",
          "text": [
            "                   all         19        222      0.929      0.973      0.986      0.848\n"
          ]
        },
        {
          "output_type": "stream",
          "name": "stderr",
          "text": [
            "\n"
          ]
        },
        {
          "output_type": "stream",
          "name": "stdout",
          "text": [
            "\n",
            "      Epoch    GPU_mem   box_loss   cls_loss   dfl_loss  Instances       Size\n"
          ]
        },
        {
          "output_type": "stream",
          "name": "stderr",
          "text": [
            "      11/30      2.39G      1.461      1.093      1.084        223        640: 100%|██████████| 13/13 [00:08<00:00,  1.49it/s]\n",
            "                 Class     Images  Instances      Box(P          R      mAP50  mAP50-95): 100%|██████████| 1/1 [00:00<00:00,  1.88it/s]"
          ]
        },
        {
          "output_type": "stream",
          "name": "stdout",
          "text": [
            "                   all         19        222      0.958      0.941      0.986      0.846\n"
          ]
        },
        {
          "output_type": "stream",
          "name": "stderr",
          "text": [
            "\n"
          ]
        },
        {
          "output_type": "stream",
          "name": "stdout",
          "text": [
            "\n",
            "      Epoch    GPU_mem   box_loss   cls_loss   dfl_loss  Instances       Size\n"
          ]
        },
        {
          "output_type": "stream",
          "name": "stderr",
          "text": [
            "      12/30      2.36G      1.465        1.1      1.086        232        640: 100%|██████████| 13/13 [00:07<00:00,  1.71it/s]\n",
            "                 Class     Images  Instances      Box(P          R      mAP50  mAP50-95): 100%|██████████| 1/1 [00:00<00:00,  1.62it/s]"
          ]
        },
        {
          "output_type": "stream",
          "name": "stdout",
          "text": [
            "                   all         19        222      0.985      0.892      0.978      0.817\n"
          ]
        },
        {
          "output_type": "stream",
          "name": "stderr",
          "text": [
            "\n"
          ]
        },
        {
          "output_type": "stream",
          "name": "stdout",
          "text": [
            "\n",
            "      Epoch    GPU_mem   box_loss   cls_loss   dfl_loss  Instances       Size\n"
          ]
        },
        {
          "output_type": "stream",
          "name": "stderr",
          "text": [
            "      13/30      2.38G      1.442      1.079      1.047        292        640: 100%|██████████| 13/13 [00:07<00:00,  1.86it/s]\n",
            "                 Class     Images  Instances      Box(P          R      mAP50  mAP50-95): 100%|██████████| 1/1 [00:00<00:00,  1.88it/s]"
          ]
        },
        {
          "output_type": "stream",
          "name": "stdout",
          "text": [
            "                   all         19        222      0.914      0.977      0.985      0.813\n"
          ]
        },
        {
          "output_type": "stream",
          "name": "stderr",
          "text": [
            "\n"
          ]
        },
        {
          "output_type": "stream",
          "name": "stdout",
          "text": [
            "\n",
            "      Epoch    GPU_mem   box_loss   cls_loss   dfl_loss  Instances       Size\n"
          ]
        },
        {
          "output_type": "stream",
          "name": "stderr",
          "text": [
            "      14/30       2.5G      1.508      1.084      1.077        195        640: 100%|██████████| 13/13 [00:08<00:00,  1.48it/s]\n",
            "                 Class     Images  Instances      Box(P          R      mAP50  mAP50-95): 100%|██████████| 1/1 [00:00<00:00,  1.18it/s]"
          ]
        },
        {
          "output_type": "stream",
          "name": "stdout",
          "text": [
            "                   all         19        222      0.924      0.991      0.988      0.845\n"
          ]
        },
        {
          "output_type": "stream",
          "name": "stderr",
          "text": [
            "\n"
          ]
        },
        {
          "output_type": "stream",
          "name": "stdout",
          "text": [
            "\n",
            "      Epoch    GPU_mem   box_loss   cls_loss   dfl_loss  Instances       Size\n"
          ]
        },
        {
          "output_type": "stream",
          "name": "stderr",
          "text": [
            "      15/30      2.41G       1.46      1.036      1.048        243        640: 100%|██████████| 13/13 [00:06<00:00,  2.03it/s]\n",
            "                 Class     Images  Instances      Box(P          R      mAP50  mAP50-95): 100%|██████████| 1/1 [00:00<00:00,  1.87it/s]"
          ]
        },
        {
          "output_type": "stream",
          "name": "stdout",
          "text": [
            "                   all         19        222      0.959       0.95       0.99      0.858\n"
          ]
        },
        {
          "output_type": "stream",
          "name": "stderr",
          "text": [
            "\n"
          ]
        },
        {
          "output_type": "stream",
          "name": "stdout",
          "text": [
            "\n",
            "      Epoch    GPU_mem   box_loss   cls_loss   dfl_loss  Instances       Size\n"
          ]
        },
        {
          "output_type": "stream",
          "name": "stderr",
          "text": [
            "      16/30      2.22G      1.462      1.072      1.059        255        640: 100%|██████████| 13/13 [00:10<00:00,  1.24it/s]\n",
            "                 Class     Images  Instances      Box(P          R      mAP50  mAP50-95): 100%|██████████| 1/1 [00:00<00:00,  2.09it/s]"
          ]
        },
        {
          "output_type": "stream",
          "name": "stdout",
          "text": [
            "                   all         19        222      0.968      0.944      0.989      0.845\n"
          ]
        },
        {
          "output_type": "stream",
          "name": "stderr",
          "text": [
            "\n"
          ]
        },
        {
          "output_type": "stream",
          "name": "stdout",
          "text": [
            "\n",
            "      Epoch    GPU_mem   box_loss   cls_loss   dfl_loss  Instances       Size\n"
          ]
        },
        {
          "output_type": "stream",
          "name": "stderr",
          "text": [
            "      17/30      2.32G      1.447       1.07       1.05        231        640: 100%|██████████| 13/13 [00:06<00:00,  2.09it/s]\n",
            "                 Class     Images  Instances      Box(P          R      mAP50  mAP50-95): 100%|██████████| 1/1 [00:00<00:00,  2.01it/s]"
          ]
        },
        {
          "output_type": "stream",
          "name": "stdout",
          "text": [
            "                   all         19        222      0.939      0.979       0.99       0.85\n"
          ]
        },
        {
          "output_type": "stream",
          "name": "stderr",
          "text": [
            "\n"
          ]
        },
        {
          "output_type": "stream",
          "name": "stdout",
          "text": [
            "\n",
            "      Epoch    GPU_mem   box_loss   cls_loss   dfl_loss  Instances       Size\n"
          ]
        },
        {
          "output_type": "stream",
          "name": "stderr",
          "text": [
            "      18/30      2.21G      1.319      1.005      1.015        322        640: 100%|██████████| 13/13 [00:09<00:00,  1.39it/s]\n",
            "                 Class     Images  Instances      Box(P          R      mAP50  mAP50-95): 100%|██████████| 1/1 [00:00<00:00,  1.61it/s]"
          ]
        },
        {
          "output_type": "stream",
          "name": "stdout",
          "text": [
            "                   all         19        222      0.956      0.973      0.991      0.859\n"
          ]
        },
        {
          "output_type": "stream",
          "name": "stderr",
          "text": [
            "\n"
          ]
        },
        {
          "output_type": "stream",
          "name": "stdout",
          "text": [
            "\n",
            "      Epoch    GPU_mem   box_loss   cls_loss   dfl_loss  Instances       Size\n"
          ]
        },
        {
          "output_type": "stream",
          "name": "stderr",
          "text": [
            "      19/30      2.36G      1.314     0.9705      1.018        292        640: 100%|██████████| 13/13 [00:06<00:00,  1.91it/s]\n",
            "                 Class     Images  Instances      Box(P          R      mAP50  mAP50-95): 100%|██████████| 1/1 [00:00<00:00,  1.32it/s]"
          ]
        },
        {
          "output_type": "stream",
          "name": "stdout",
          "text": [
            "                   all         19        222       0.94      0.988      0.991       0.84\n"
          ]
        },
        {
          "output_type": "stream",
          "name": "stderr",
          "text": [
            "\n"
          ]
        },
        {
          "output_type": "stream",
          "name": "stdout",
          "text": [
            "\n",
            "      Epoch    GPU_mem   box_loss   cls_loss   dfl_loss  Instances       Size\n"
          ]
        },
        {
          "output_type": "stream",
          "name": "stderr",
          "text": [
            "      20/30      2.32G      1.363       1.03      1.042        168        640: 100%|██████████| 13/13 [00:07<00:00,  1.65it/s]\n",
            "                 Class     Images  Instances      Box(P          R      mAP50  mAP50-95): 100%|██████████| 1/1 [00:00<00:00,  2.12it/s]"
          ]
        },
        {
          "output_type": "stream",
          "name": "stdout",
          "text": [
            "                   all         19        222      0.972      0.968      0.992      0.861\n"
          ]
        },
        {
          "output_type": "stream",
          "name": "stderr",
          "text": [
            "\n"
          ]
        },
        {
          "output_type": "stream",
          "name": "stdout",
          "text": [
            "Closing dataloader mosaic\n",
            "\u001b[34m\u001b[1malbumentations: \u001b[0mBlur(p=0.01, blur_limit=(3, 7)), MedianBlur(p=0.01, blur_limit=(3, 7)), ToGray(p=0.01, num_output_channels=3, method='weighted_average'), CLAHE(p=0.01, clip_limit=(1, 4.0), tile_grid_size=(8, 8))\n",
            "\n",
            "      Epoch    GPU_mem   box_loss   cls_loss   dfl_loss  Instances       Size\n"
          ]
        },
        {
          "output_type": "stream",
          "name": "stderr",
          "text": [
            "      21/30       2.2G      1.306      1.043      1.062        175        640: 100%|██████████| 13/13 [00:06<00:00,  1.92it/s]\n",
            "                 Class     Images  Instances      Box(P          R      mAP50  mAP50-95): 100%|██████████| 1/1 [00:00<00:00,  1.73it/s]"
          ]
        },
        {
          "output_type": "stream",
          "name": "stdout",
          "text": [
            "                   all         19        222      0.957      0.993      0.992      0.836\n"
          ]
        },
        {
          "output_type": "stream",
          "name": "stderr",
          "text": [
            "\n"
          ]
        },
        {
          "output_type": "stream",
          "name": "stdout",
          "text": [
            "\n",
            "      Epoch    GPU_mem   box_loss   cls_loss   dfl_loss  Instances       Size\n"
          ]
        },
        {
          "output_type": "stream",
          "name": "stderr",
          "text": [
            "      22/30       2.2G      1.307      1.036      1.055        168        640: 100%|██████████| 13/13 [00:04<00:00,  2.87it/s]\n",
            "                 Class     Images  Instances      Box(P          R      mAP50  mAP50-95): 100%|██████████| 1/1 [00:00<00:00,  2.71it/s]"
          ]
        },
        {
          "output_type": "stream",
          "name": "stdout",
          "text": [
            "                   all         19        222      0.962      0.964       0.99      0.849\n"
          ]
        },
        {
          "output_type": "stream",
          "name": "stderr",
          "text": [
            "\n"
          ]
        },
        {
          "output_type": "stream",
          "name": "stdout",
          "text": [
            "\n",
            "      Epoch    GPU_mem   box_loss   cls_loss   dfl_loss  Instances       Size\n"
          ]
        },
        {
          "output_type": "stream",
          "name": "stderr",
          "text": [
            "      23/30       2.2G      1.293      1.025      1.064        178        640: 100%|██████████| 13/13 [00:03<00:00,  4.13it/s]\n",
            "                 Class     Images  Instances      Box(P          R      mAP50  mAP50-95): 100%|██████████| 1/1 [00:00<00:00,  2.60it/s]"
          ]
        },
        {
          "output_type": "stream",
          "name": "stdout",
          "text": [
            "                   all         19        222      0.973      0.975      0.991      0.864\n"
          ]
        },
        {
          "output_type": "stream",
          "name": "stderr",
          "text": [
            "\n"
          ]
        },
        {
          "output_type": "stream",
          "name": "stdout",
          "text": [
            "\n",
            "      Epoch    GPU_mem   box_loss   cls_loss   dfl_loss  Instances       Size\n"
          ]
        },
        {
          "output_type": "stream",
          "name": "stderr",
          "text": [
            "      24/30       2.2G      1.259      1.015      1.065        169        640: 100%|██████████| 13/13 [00:03<00:00,  3.54it/s]\n",
            "                 Class     Images  Instances      Box(P          R      mAP50  mAP50-95): 100%|██████████| 1/1 [00:00<00:00,  1.88it/s]"
          ]
        },
        {
          "output_type": "stream",
          "name": "stdout",
          "text": [
            "                   all         19        222      0.956       0.98      0.992      0.878\n"
          ]
        },
        {
          "output_type": "stream",
          "name": "stderr",
          "text": [
            "\n"
          ]
        },
        {
          "output_type": "stream",
          "name": "stdout",
          "text": [
            "\n",
            "      Epoch    GPU_mem   box_loss   cls_loss   dfl_loss  Instances       Size\n"
          ]
        },
        {
          "output_type": "stream",
          "name": "stderr",
          "text": [
            "      25/30      2.19G      1.253          1      1.038        176        640: 100%|██████████| 13/13 [00:05<00:00,  2.33it/s]\n",
            "                 Class     Images  Instances      Box(P          R      mAP50  mAP50-95): 100%|██████████| 1/1 [00:00<00:00,  3.00it/s]"
          ]
        },
        {
          "output_type": "stream",
          "name": "stdout",
          "text": [
            "                   all         19        222      0.961      0.989      0.993      0.871\n"
          ]
        },
        {
          "output_type": "stream",
          "name": "stderr",
          "text": [
            "\n"
          ]
        },
        {
          "output_type": "stream",
          "name": "stdout",
          "text": [
            "\n",
            "      Epoch    GPU_mem   box_loss   cls_loss   dfl_loss  Instances       Size\n"
          ]
        },
        {
          "output_type": "stream",
          "name": "stderr",
          "text": [
            "      26/30       2.2G      1.238      1.006      1.024        166        640: 100%|██████████| 13/13 [00:03<00:00,  4.04it/s]\n",
            "                 Class     Images  Instances      Box(P          R      mAP50  mAP50-95): 100%|██████████| 1/1 [00:00<00:00,  2.92it/s]"
          ]
        },
        {
          "output_type": "stream",
          "name": "stdout",
          "text": [
            "                   all         19        222      0.961      0.988      0.993      0.866\n"
          ]
        },
        {
          "output_type": "stream",
          "name": "stderr",
          "text": [
            "\n"
          ]
        },
        {
          "output_type": "stream",
          "name": "stdout",
          "text": [
            "\n",
            "      Epoch    GPU_mem   box_loss   cls_loss   dfl_loss  Instances       Size\n"
          ]
        },
        {
          "output_type": "stream",
          "name": "stderr",
          "text": [
            "      27/30       2.2G      1.231     0.9787      1.038        174        640: 100%|██████████| 13/13 [00:03<00:00,  3.98it/s]\n",
            "                 Class     Images  Instances      Box(P          R      mAP50  mAP50-95): 100%|██████████| 1/1 [00:00<00:00,  3.06it/s]"
          ]
        },
        {
          "output_type": "stream",
          "name": "stdout",
          "text": [
            "                   all         19        222      0.973      0.977      0.993      0.878\n"
          ]
        },
        {
          "output_type": "stream",
          "name": "stderr",
          "text": [
            "\n"
          ]
        },
        {
          "output_type": "stream",
          "name": "stdout",
          "text": [
            "\n",
            "      Epoch    GPU_mem   box_loss   cls_loss   dfl_loss  Instances       Size\n"
          ]
        },
        {
          "output_type": "stream",
          "name": "stderr",
          "text": [
            "      28/30       2.2G      1.216     0.9774      1.035        164        640: 100%|██████████| 13/13 [00:05<00:00,  2.56it/s]\n",
            "                 Class     Images  Instances      Box(P          R      mAP50  mAP50-95): 100%|██████████| 1/1 [00:00<00:00,  1.48it/s]"
          ]
        },
        {
          "output_type": "stream",
          "name": "stdout",
          "text": [
            "                   all         19        222      0.971      0.982      0.993      0.885\n"
          ]
        },
        {
          "output_type": "stream",
          "name": "stderr",
          "text": [
            "\n"
          ]
        },
        {
          "output_type": "stream",
          "name": "stdout",
          "text": [
            "\n",
            "      Epoch    GPU_mem   box_loss   cls_loss   dfl_loss  Instances       Size\n"
          ]
        },
        {
          "output_type": "stream",
          "name": "stderr",
          "text": [
            "      29/30      2.19G       1.17     0.9696      1.028        163        640: 100%|██████████| 13/13 [00:03<00:00,  3.75it/s]\n",
            "                 Class     Images  Instances      Box(P          R      mAP50  mAP50-95): 100%|██████████| 1/1 [00:00<00:00,  2.38it/s]"
          ]
        },
        {
          "output_type": "stream",
          "name": "stdout",
          "text": [
            "                   all         19        222      0.973      0.982      0.993      0.889\n"
          ]
        },
        {
          "output_type": "stream",
          "name": "stderr",
          "text": [
            "\n"
          ]
        },
        {
          "output_type": "stream",
          "name": "stdout",
          "text": [
            "\n",
            "      Epoch    GPU_mem   box_loss   cls_loss   dfl_loss  Instances       Size\n"
          ]
        },
        {
          "output_type": "stream",
          "name": "stderr",
          "text": [
            "      30/30       2.2G      1.164     0.9527      1.011        173        640: 100%|██████████| 13/13 [00:03<00:00,  4.01it/s]\n",
            "                 Class     Images  Instances      Box(P          R      mAP50  mAP50-95): 100%|██████████| 1/1 [00:00<00:00,  2.76it/s]"
          ]
        },
        {
          "output_type": "stream",
          "name": "stdout",
          "text": [
            "                   all         19        222      0.969      0.985      0.993      0.891\n"
          ]
        },
        {
          "output_type": "stream",
          "name": "stderr",
          "text": [
            "\n"
          ]
        },
        {
          "output_type": "stream",
          "name": "stdout",
          "text": [
            "\n",
            "30 epochs completed in 0.080 hours.\n",
            "Optimizer stripped from runs/detect/train/weights/last.pt, 6.2MB\n",
            "Optimizer stripped from runs/detect/train/weights/best.pt, 6.2MB\n",
            "\n",
            "Validating runs/detect/train/weights/best.pt...\n",
            "Ultralytics 8.3.21 🚀 Python-3.10.12 torch-2.5.0+cu121 CUDA:0 (Tesla T4, 15102MiB)\n",
            "Model summary (fused): 168 layers, 3,005,843 parameters, 0 gradients, 8.1 GFLOPs\n"
          ]
        },
        {
          "output_type": "stream",
          "name": "stderr",
          "text": [
            "                 Class     Images  Instances      Box(P          R      mAP50  mAP50-95): 100%|██████████| 1/1 [00:00<00:00,  3.99it/s]\n"
          ]
        },
        {
          "output_type": "stream",
          "name": "stdout",
          "text": [
            "                   all         19        222      0.969      0.985      0.993      0.892\n",
            "Speed: 0.2ms preprocess, 2.7ms inference, 0.0ms loss, 1.4ms postprocess per image\n",
            "Results saved to \u001b[1mruns/detect/train\u001b[0m\n"
          ]
        },
        {
          "output_type": "display_data",
          "data": {
            "text/plain": [
              "<IPython.core.display.HTML object>"
            ],
            "text/html": [
              "<style>\n",
              "    table.wandb td:nth-child(1) { padding: 0 10px; text-align: left ; width: auto;} td:nth-child(2) {text-align: left ; width: 100%}\n",
              "    .wandb-row { display: flex; flex-direction: row; flex-wrap: wrap; justify-content: flex-start; width: 100% }\n",
              "    .wandb-col { display: flex; flex-direction: column; flex-basis: 100%; flex: 1; padding: 10px; }\n",
              "    </style>\n",
              "<div class=\"wandb-row\"><div class=\"wandb-col\"><h3>Run history:</h3><br/><table class=\"wandb\"><tr><td>lr/pg0</td><td>▂▃▄▅▆▇███▇▇▇▆▆▆▅▅▅▅▄▄▄▃▃▃▂▂▂▁▁</td></tr><tr><td>lr/pg1</td><td>▂▃▄▅▆▇███▇▇▇▆▆▆▅▅▅▅▄▄▄▃▃▃▂▂▂▁▁</td></tr><tr><td>lr/pg2</td><td>▂▃▄▅▆▇███▇▇▇▆▆▆▅▅▅▅▄▄▄▃▃▃▂▂▂▁▁</td></tr><tr><td>metrics/mAP50(B)</td><td>▅▇▁███████████████████████████</td></tr><tr><td>metrics/mAP50-95(B)</td><td>▃▆▁▇▇▇▇▇▇██▇▇███████▇█████████</td></tr><tr><td>metrics/precision(B)</td><td>▁▁▁██████▇██▇▇████████████████</td></tr><tr><td>metrics/recall(B)</td><td>██▅▁▄▇▅▇▇█▇▆██▇▇███▇█▇████████</td></tr><tr><td>model/GFLOPs</td><td>▁</td></tr><tr><td>model/parameters</td><td>▁</td></tr><tr><td>model/speed_PyTorch(ms)</td><td>▁</td></tr><tr><td>train/box_loss</td><td>█▆▆▅▄▅▅▅▅▃▄▄▄▄▄▄▄▂▂▃▂▂▂▂▂▂▂▁▁▁</td></tr><tr><td>train/cls_loss</td><td>█▂▂▂▂▂▂▂▂▁▁▁▁▁▁▁▁▁▁▁▁▁▁▁▁▁▁▁▁▁</td></tr><tr><td>train/dfl_loss</td><td>█▄▄▄▃▄▄▄▃▂▃▃▂▃▂▂▂▁▁▂▂▂▃▃▂▁▂▂▂▁</td></tr><tr><td>val/box_loss</td><td>█▅▆▄▄▅▄▄▄▃▃▃▄▃▂▃▃▂▃▂▃▂▂▂▂▂▁▁▁▁</td></tr><tr><td>val/cls_loss</td><td>▇▇█▅▅▃▄▃▂▂▃▃▂▂▁▂▂▂▁▁▁▁▁▁▁▁▁▁▁▁</td></tr><tr><td>val/dfl_loss</td><td>▅▅█▃▃▄▅▄▄▃▃▄▃▂▂▃▃▂▃▂▂▂▂▁▁▂▁▁▁▁</td></tr></table><br/></div><div class=\"wandb-col\"><h3>Run summary:</h3><br/><table class=\"wandb\"><tr><td>lr/pg0</td><td>9e-05</td></tr><tr><td>lr/pg1</td><td>9e-05</td></tr><tr><td>lr/pg2</td><td>9e-05</td></tr><tr><td>metrics/mAP50(B)</td><td>0.99277</td></tr><tr><td>metrics/mAP50-95(B)</td><td>0.89228</td></tr><tr><td>metrics/precision(B)</td><td>0.96899</td></tr><tr><td>metrics/recall(B)</td><td>0.98531</td></tr><tr><td>model/GFLOPs</td><td>8.194</td></tr><tr><td>model/parameters</td><td>3011043</td></tr><tr><td>model/speed_PyTorch(ms)</td><td>44.624</td></tr><tr><td>train/box_loss</td><td>1.16448</td></tr><tr><td>train/cls_loss</td><td>0.95265</td></tr><tr><td>train/dfl_loss</td><td>1.01055</td></tr><tr><td>val/box_loss</td><td>0.50705</td></tr><tr><td>val/cls_loss</td><td>0.42917</td></tr><tr><td>val/dfl_loss</td><td>0.8247</td></tr></table><br/></div></div>"
            ]
          },
          "metadata": {}
        },
        {
          "output_type": "display_data",
          "data": {
            "text/plain": [
              "<IPython.core.display.HTML object>"
            ],
            "text/html": [
              " View run <strong style=\"color:#cdcd00\">train</strong> at: <a href='https://wandb.ai/chandanab-bsc22-rv-university/Ultralytics/runs/ws4d5uwk' target=\"_blank\">https://wandb.ai/chandanab-bsc22-rv-university/Ultralytics/runs/ws4d5uwk</a><br/> View project at: <a href='https://wandb.ai/chandanab-bsc22-rv-university/Ultralytics' target=\"_blank\">https://wandb.ai/chandanab-bsc22-rv-university/Ultralytics</a><br/>Synced 5 W&B file(s), 0 media file(s), 10 artifact file(s) and 20 other file(s)"
            ]
          },
          "metadata": {}
        },
        {
          "output_type": "display_data",
          "data": {
            "text/plain": [
              "<IPython.core.display.HTML object>"
            ],
            "text/html": [
              "Find logs at: <code>./wandb/run-20241024_090541-ws4d5uwk/logs</code>"
            ]
          },
          "metadata": {}
        },
        {
          "output_type": "execute_result",
          "data": {
            "text/plain": [
              "ultralytics.utils.metrics.DetMetrics object with attributes:\n",
              "\n",
              "ap_class_index: array([0])\n",
              "box: ultralytics.utils.metrics.Metric object\n",
              "confusion_matrix: <ultralytics.utils.metrics.ConfusionMatrix object at 0x7acc5321c130>\n",
              "curves: ['Precision-Recall(B)', 'F1-Confidence(B)', 'Precision-Confidence(B)', 'Recall-Confidence(B)']\n",
              "curves_results: [[array([          0,    0.001001,    0.002002,    0.003003,    0.004004,    0.005005,    0.006006,    0.007007,    0.008008,    0.009009,     0.01001,    0.011011,    0.012012,    0.013013,    0.014014,    0.015015,    0.016016,    0.017017,    0.018018,    0.019019,     0.02002,    0.021021,    0.022022,    0.023023,\n",
              "          0.024024,    0.025025,    0.026026,    0.027027,    0.028028,    0.029029,     0.03003,    0.031031,    0.032032,    0.033033,    0.034034,    0.035035,    0.036036,    0.037037,    0.038038,    0.039039,     0.04004,    0.041041,    0.042042,    0.043043,    0.044044,    0.045045,    0.046046,    0.047047,\n",
              "          0.048048,    0.049049,     0.05005,    0.051051,    0.052052,    0.053053,    0.054054,    0.055055,    0.056056,    0.057057,    0.058058,    0.059059,     0.06006,    0.061061,    0.062062,    0.063063,    0.064064,    0.065065,    0.066066,    0.067067,    0.068068,    0.069069,     0.07007,    0.071071,\n",
              "          0.072072,    0.073073,    0.074074,    0.075075,    0.076076,    0.077077,    0.078078,    0.079079,     0.08008,    0.081081,    0.082082,    0.083083,    0.084084,    0.085085,    0.086086,    0.087087,    0.088088,    0.089089,     0.09009,    0.091091,    0.092092,    0.093093,    0.094094,    0.095095,\n",
              "          0.096096,    0.097097,    0.098098,    0.099099,      0.1001,      0.1011,      0.1021,      0.1031,      0.1041,     0.10511,     0.10611,     0.10711,     0.10811,     0.10911,     0.11011,     0.11111,     0.11211,     0.11311,     0.11411,     0.11512,     0.11612,     0.11712,     0.11812,     0.11912,\n",
              "           0.12012,     0.12112,     0.12212,     0.12312,     0.12412,     0.12513,     0.12613,     0.12713,     0.12813,     0.12913,     0.13013,     0.13113,     0.13213,     0.13313,     0.13413,     0.13514,     0.13614,     0.13714,     0.13814,     0.13914,     0.14014,     0.14114,     0.14214,     0.14314,\n",
              "           0.14414,     0.14515,     0.14615,     0.14715,     0.14815,     0.14915,     0.15015,     0.15115,     0.15215,     0.15315,     0.15415,     0.15516,     0.15616,     0.15716,     0.15816,     0.15916,     0.16016,     0.16116,     0.16216,     0.16316,     0.16416,     0.16517,     0.16617,     0.16717,\n",
              "           0.16817,     0.16917,     0.17017,     0.17117,     0.17217,     0.17317,     0.17417,     0.17518,     0.17618,     0.17718,     0.17818,     0.17918,     0.18018,     0.18118,     0.18218,     0.18318,     0.18418,     0.18519,     0.18619,     0.18719,     0.18819,     0.18919,     0.19019,     0.19119,\n",
              "           0.19219,     0.19319,     0.19419,      0.1952,      0.1962,      0.1972,      0.1982,      0.1992,      0.2002,      0.2012,      0.2022,      0.2032,      0.2042,     0.20521,     0.20621,     0.20721,     0.20821,     0.20921,     0.21021,     0.21121,     0.21221,     0.21321,     0.21421,     0.21522,\n",
              "           0.21622,     0.21722,     0.21822,     0.21922,     0.22022,     0.22122,     0.22222,     0.22322,     0.22422,     0.22523,     0.22623,     0.22723,     0.22823,     0.22923,     0.23023,     0.23123,     0.23223,     0.23323,     0.23423,     0.23524,     0.23624,     0.23724,     0.23824,     0.23924,\n",
              "           0.24024,     0.24124,     0.24224,     0.24324,     0.24424,     0.24525,     0.24625,     0.24725,     0.24825,     0.24925,     0.25025,     0.25125,     0.25225,     0.25325,     0.25425,     0.25526,     0.25626,     0.25726,     0.25826,     0.25926,     0.26026,     0.26126,     0.26226,     0.26326,\n",
              "           0.26426,     0.26527,     0.26627,     0.26727,     0.26827,     0.26927,     0.27027,     0.27127,     0.27227,     0.27327,     0.27427,     0.27528,     0.27628,     0.27728,     0.27828,     0.27928,     0.28028,     0.28128,     0.28228,     0.28328,     0.28428,     0.28529,     0.28629,     0.28729,\n",
              "           0.28829,     0.28929,     0.29029,     0.29129,     0.29229,     0.29329,     0.29429,      0.2953,      0.2963,      0.2973,      0.2983,      0.2993,      0.3003,      0.3013,      0.3023,      0.3033,      0.3043,     0.30531,     0.30631,     0.30731,     0.30831,     0.30931,     0.31031,     0.31131,\n",
              "           0.31231,     0.31331,     0.31431,     0.31532,     0.31632,     0.31732,     0.31832,     0.31932,     0.32032,     0.32132,     0.32232,     0.32332,     0.32432,     0.32533,     0.32633,     0.32733,     0.32833,     0.32933,     0.33033,     0.33133,     0.33233,     0.33333,     0.33433,     0.33534,\n",
              "           0.33634,     0.33734,     0.33834,     0.33934,     0.34034,     0.34134,     0.34234,     0.34334,     0.34434,     0.34535,     0.34635,     0.34735,     0.34835,     0.34935,     0.35035,     0.35135,     0.35235,     0.35335,     0.35435,     0.35536,     0.35636,     0.35736,     0.35836,     0.35936,\n",
              "           0.36036,     0.36136,     0.36236,     0.36336,     0.36436,     0.36537,     0.36637,     0.36737,     0.36837,     0.36937,     0.37037,     0.37137,     0.37237,     0.37337,     0.37437,     0.37538,     0.37638,     0.37738,     0.37838,     0.37938,     0.38038,     0.38138,     0.38238,     0.38338,\n",
              "           0.38438,     0.38539,     0.38639,     0.38739,     0.38839,     0.38939,     0.39039,     0.39139,     0.39239,     0.39339,     0.39439,      0.3954,      0.3964,      0.3974,      0.3984,      0.3994,      0.4004,      0.4014,      0.4024,      0.4034,      0.4044,     0.40541,     0.40641,     0.40741,\n",
              "           0.40841,     0.40941,     0.41041,     0.41141,     0.41241,     0.41341,     0.41441,     0.41542,     0.41642,     0.41742,     0.41842,     0.41942,     0.42042,     0.42142,     0.42242,     0.42342,     0.42442,     0.42543,     0.42643,     0.42743,     0.42843,     0.42943,     0.43043,     0.43143,\n",
              "           0.43243,     0.43343,     0.43443,     0.43544,     0.43644,     0.43744,     0.43844,     0.43944,     0.44044,     0.44144,     0.44244,     0.44344,     0.44444,     0.44545,     0.44645,     0.44745,     0.44845,     0.44945,     0.45045,     0.45145,     0.45245,     0.45345,     0.45445,     0.45546,\n",
              "           0.45646,     0.45746,     0.45846,     0.45946,     0.46046,     0.46146,     0.46246,     0.46346,     0.46446,     0.46547,     0.46647,     0.46747,     0.46847,     0.46947,     0.47047,     0.47147,     0.47247,     0.47347,     0.47447,     0.47548,     0.47648,     0.47748,     0.47848,     0.47948,\n",
              "           0.48048,     0.48148,     0.48248,     0.48348,     0.48448,     0.48549,     0.48649,     0.48749,     0.48849,     0.48949,     0.49049,     0.49149,     0.49249,     0.49349,     0.49449,      0.4955,      0.4965,      0.4975,      0.4985,      0.4995,      0.5005,      0.5015,      0.5025,      0.5035,\n",
              "            0.5045,     0.50551,     0.50651,     0.50751,     0.50851,     0.50951,     0.51051,     0.51151,     0.51251,     0.51351,     0.51451,     0.51552,     0.51652,     0.51752,     0.51852,     0.51952,     0.52052,     0.52152,     0.52252,     0.52352,     0.52452,     0.52553,     0.52653,     0.52753,\n",
              "           0.52853,     0.52953,     0.53053,     0.53153,     0.53253,     0.53353,     0.53453,     0.53554,     0.53654,     0.53754,     0.53854,     0.53954,     0.54054,     0.54154,     0.54254,     0.54354,     0.54454,     0.54555,     0.54655,     0.54755,     0.54855,     0.54955,     0.55055,     0.55155,\n",
              "           0.55255,     0.55355,     0.55455,     0.55556,     0.55656,     0.55756,     0.55856,     0.55956,     0.56056,     0.56156,     0.56256,     0.56356,     0.56456,     0.56557,     0.56657,     0.56757,     0.56857,     0.56957,     0.57057,     0.57157,     0.57257,     0.57357,     0.57457,     0.57558,\n",
              "           0.57658,     0.57758,     0.57858,     0.57958,     0.58058,     0.58158,     0.58258,     0.58358,     0.58458,     0.58559,     0.58659,     0.58759,     0.58859,     0.58959,     0.59059,     0.59159,     0.59259,     0.59359,     0.59459,      0.5956,      0.5966,      0.5976,      0.5986,      0.5996,\n",
              "            0.6006,      0.6016,      0.6026,      0.6036,      0.6046,     0.60561,     0.60661,     0.60761,     0.60861,     0.60961,     0.61061,     0.61161,     0.61261,     0.61361,     0.61461,     0.61562,     0.61662,     0.61762,     0.61862,     0.61962,     0.62062,     0.62162,     0.62262,     0.62362,\n",
              "           0.62462,     0.62563,     0.62663,     0.62763,     0.62863,     0.62963,     0.63063,     0.63163,     0.63263,     0.63363,     0.63463,     0.63564,     0.63664,     0.63764,     0.63864,     0.63964,     0.64064,     0.64164,     0.64264,     0.64364,     0.64464,     0.64565,     0.64665,     0.64765,\n",
              "           0.64865,     0.64965,     0.65065,     0.65165,     0.65265,     0.65365,     0.65465,     0.65566,     0.65666,     0.65766,     0.65866,     0.65966,     0.66066,     0.66166,     0.66266,     0.66366,     0.66466,     0.66567,     0.66667,     0.66767,     0.66867,     0.66967,     0.67067,     0.67167,\n",
              "           0.67267,     0.67367,     0.67467,     0.67568,     0.67668,     0.67768,     0.67868,     0.67968,     0.68068,     0.68168,     0.68268,     0.68368,     0.68468,     0.68569,     0.68669,     0.68769,     0.68869,     0.68969,     0.69069,     0.69169,     0.69269,     0.69369,     0.69469,      0.6957,\n",
              "            0.6967,      0.6977,      0.6987,      0.6997,      0.7007,      0.7017,      0.7027,      0.7037,      0.7047,     0.70571,     0.70671,     0.70771,     0.70871,     0.70971,     0.71071,     0.71171,     0.71271,     0.71371,     0.71471,     0.71572,     0.71672,     0.71772,     0.71872,     0.71972,\n",
              "           0.72072,     0.72172,     0.72272,     0.72372,     0.72472,     0.72573,     0.72673,     0.72773,     0.72873,     0.72973,     0.73073,     0.73173,     0.73273,     0.73373,     0.73473,     0.73574,     0.73674,     0.73774,     0.73874,     0.73974,     0.74074,     0.74174,     0.74274,     0.74374,\n",
              "           0.74474,     0.74575,     0.74675,     0.74775,     0.74875,     0.74975,     0.75075,     0.75175,     0.75275,     0.75375,     0.75475,     0.75576,     0.75676,     0.75776,     0.75876,     0.75976,     0.76076,     0.76176,     0.76276,     0.76376,     0.76476,     0.76577,     0.76677,     0.76777,\n",
              "           0.76877,     0.76977,     0.77077,     0.77177,     0.77277,     0.77377,     0.77477,     0.77578,     0.77678,     0.77778,     0.77878,     0.77978,     0.78078,     0.78178,     0.78278,     0.78378,     0.78478,     0.78579,     0.78679,     0.78779,     0.78879,     0.78979,     0.79079,     0.79179,\n",
              "           0.79279,     0.79379,     0.79479,      0.7958,      0.7968,      0.7978,      0.7988,      0.7998,      0.8008,      0.8018,      0.8028,      0.8038,      0.8048,     0.80581,     0.80681,     0.80781,     0.80881,     0.80981,     0.81081,     0.81181,     0.81281,     0.81381,     0.81481,     0.81582,\n",
              "           0.81682,     0.81782,     0.81882,     0.81982,     0.82082,     0.82182,     0.82282,     0.82382,     0.82482,     0.82583,     0.82683,     0.82783,     0.82883,     0.82983,     0.83083,     0.83183,     0.83283,     0.83383,     0.83483,     0.83584,     0.83684,     0.83784,     0.83884,     0.83984,\n",
              "           0.84084,     0.84184,     0.84284,     0.84384,     0.84484,     0.84585,     0.84685,     0.84785,     0.84885,     0.84985,     0.85085,     0.85185,     0.85285,     0.85385,     0.85485,     0.85586,     0.85686,     0.85786,     0.85886,     0.85986,     0.86086,     0.86186,     0.86286,     0.86386,\n",
              "           0.86486,     0.86587,     0.86687,     0.86787,     0.86887,     0.86987,     0.87087,     0.87187,     0.87287,     0.87387,     0.87487,     0.87588,     0.87688,     0.87788,     0.87888,     0.87988,     0.88088,     0.88188,     0.88288,     0.88388,     0.88488,     0.88589,     0.88689,     0.88789,\n",
              "           0.88889,     0.88989,     0.89089,     0.89189,     0.89289,     0.89389,     0.89489,      0.8959,      0.8969,      0.8979,      0.8989,      0.8999,      0.9009,      0.9019,      0.9029,      0.9039,      0.9049,     0.90591,     0.90691,     0.90791,     0.90891,     0.90991,     0.91091,     0.91191,\n",
              "           0.91291,     0.91391,     0.91491,     0.91592,     0.91692,     0.91792,     0.91892,     0.91992,     0.92092,     0.92192,     0.92292,     0.92392,     0.92492,     0.92593,     0.92693,     0.92793,     0.92893,     0.92993,     0.93093,     0.93193,     0.93293,     0.93393,     0.93493,     0.93594,\n",
              "           0.93694,     0.93794,     0.93894,     0.93994,     0.94094,     0.94194,     0.94294,     0.94394,     0.94494,     0.94595,     0.94695,     0.94795,     0.94895,     0.94995,     0.95095,     0.95195,     0.95295,     0.95395,     0.95495,     0.95596,     0.95696,     0.95796,     0.95896,     0.95996,\n",
              "           0.96096,     0.96196,     0.96296,     0.96396,     0.96496,     0.96597,     0.96697,     0.96797,     0.96897,     0.96997,     0.97097,     0.97197,     0.97297,     0.97397,     0.97497,     0.97598,     0.97698,     0.97798,     0.97898,     0.97998,     0.98098,     0.98198,     0.98298,     0.98398,\n",
              "           0.98498,     0.98599,     0.98699,     0.98799,     0.98899,     0.98999,     0.99099,     0.99199,     0.99299,     0.99399,     0.99499,       0.996,       0.997,       0.998,       0.999,           1]), array([[          1,           1,           1,           1,           1,           1,           1,           1,           1,           1,           1,           1,           1,           1,           1,           1,           1,           1,           1,           1,           1,           1,           1,\n",
              "                  1,           1,           1,           1,           1,           1,           1,           1,           1,           1,           1,           1,           1,           1,           1,           1,           1,           1,           1,           1,           1,           1,           1,\n",
              "                  1,           1,           1,           1,           1,           1,           1,           1,           1,           1,           1,           1,           1,           1,           1,           1,           1,           1,           1,           1,           1,           1,           1,\n",
              "                  1,           1,           1,           1,           1,           1,           1,           1,           1,           1,           1,           1,           1,           1,           1,           1,           1,           1,           1,           1,           1,           1,           1,\n",
              "                  1,           1,           1,           1,           1,           1,           1,           1,           1,           1,           1,           1,           1,           1,           1,           1,           1,           1,           1,           1,           1,           1,           1,\n",
              "                  1,           1,           1,           1,           1,           1,           1,           1,           1,           1,           1,           1,           1,           1,           1,           1,           1,           1,           1,           1,           1,           1,           1,\n",
              "                  1,           1,           1,           1,           1,           1,           1,           1,           1,           1,           1,           1,           1,           1,           1,           1,           1,           1,           1,           1,           1,           1,           1,\n",
              "                  1,           1,           1,           1,           1,           1,           1,           1,           1,           1,           1,           1,           1,           1,           1,           1,           1,           1,           1,           1,           1,           1,           1,\n",
              "                  1,           1,           1,           1,           1,           1,           1,           1,           1,           1,           1,           1,           1,           1,           1,           1,           1,           1,           1,           1,           1,           1,           1,\n",
              "                  1,           1,           1,           1,           1,           1,           1,           1,           1,           1,           1,           1,           1,           1,           1,           1,           1,           1,           1,           1,           1,           1,           1,\n",
              "                  1,           1,           1,           1,           1,           1,           1,           1,           1,           1,           1,           1,           1,           1,           1,           1,           1,           1,           1,           1,           1,           1,           1,\n",
              "                  1,           1,           1,           1,           1,           1,           1,           1,           1,           1,           1,           1,           1,           1,           1,           1,           1,           1,           1,           1,           1,           1,           1,\n",
              "                  1,           1,           1,           1,           1,           1,           1,           1,           1,           1,           1,           1,           1,           1,           1,           1,           1,           1,           1,           1,           1,           1,           1,\n",
              "                  1,           1,           1,           1,           1,           1,           1,           1,           1,           1,           1,           1,           1,           1,           1,           1,           1,           1,           1,           1,           1,           1,           1,\n",
              "                  1,           1,           1,           1,           1,           1,           1,           1,           1,           1,           1,           1,           1,           1,           1,           1,           1,           1,           1,           1,           1,           1,           1,\n",
              "                  1,           1,           1,           1,           1,           1,           1,           1,           1,           1,           1,           1,           1,           1,           1,           1,           1,           1,           1,           1,           1,           1,           1,\n",
              "                  1,           1,           1,           1,           1,           1,           1,           1,           1,           1,           1,           1,           1,           1,           1,           1,           1,           1,           1,           1,           1,           1,           1,\n",
              "                  1,           1,           1,           1,           1,           1,           1,           1,           1,           1,           1,           1,           1,           1,           1,           1,           1,           1,           1,           1,           1,           1,           1,\n",
              "                  1,           1,           1,           1,           1,           1,           1,           1,           1,           1,           1,           1,           1,           1,           1,           1,           1,           1,           1,           1,           1,           1,           1,\n",
              "                  1,           1,           1,           1,           1,           1,           1,           1,           1,           1,           1,           1,           1,           1,           1,           1,           1,           1,           1,           1,           1,           1,           1,\n",
              "                  1,           1,           1,           1,           1,           1,           1,           1,           1,           1,           1,           1,           1,           1,           1,           1,           1,           1,           1,           1,           1,           1,           1,\n",
              "                  1,           1,           1,           1,           1,           1,           1,           1,           1,           1,           1,           1,           1,           1,           1,           1,           1,           1,           1,           1,           1,           1,           1,\n",
              "                  1,           1,           1,           1,           1,           1,           1,           1,           1,           1,           1,           1,           1,           1,           1,           1,           1,           1,           1,           1,           1,           1,           1,\n",
              "                  1,           1,           1,           1,           1,           1,           1,           1,           1,           1,           1,           1,           1,           1,           1,           1,           1,           1,           1,           1,           1,           1,           1,\n",
              "                  1,           1,           1,           1,           1,           1,           1,           1,           1,           1,           1,           1,           1,           1,           1,           1,           1,           1,           1,           1,           1,           1,           1,\n",
              "                  1,           1,           1,           1,           1,           1,           1,           1,           1,           1,           1,           1,           1,           1,           1,           1,           1,           1,           1,           1,           1,           1,           1,\n",
              "                  1,           1,           1,           1,           1,           1,           1,           1,           1,           1,           1,           1,           1,           1,           1,           1,           1,           1,           1,           1,           1,           1,           1,\n",
              "                  1,           1,           1,           1,           1,           1,           1,           1,           1,           1,           1,           1,           1,           1,           1,           1,           1,           1,           1,           1,           1,           1,           1,\n",
              "                  1,           1,           1,           1,           1,           1,           1,           1,           1,           1,           1,           1,           1,           1,           1,           1,           1,           1,           1,           1,           1,           1,           1,\n",
              "                  1,           1,           1,           1,           1,           1,           1,           1,           1,           1,           1,           1,           1,           1,           1,           1,           1,           1,           1,           1,           1,           1,           1,\n",
              "                  1,           1,           1,           1,           1,           1,           1,           1,           1,           1,           1,           1,           1,           1,           1,           1,           1,           1,           1,           1,           1,           1,           1,\n",
              "                  1,           1,           1,           1,           1,           1,           1,           1,           1,           1,           1,           1,           1,           1,           1,           1,           1,           1,           1,           1,           1,           1,           1,\n",
              "                  1,           1,           1,           1,           1,           1,           1,           1,           1,           1,           1,           1,           1,           1,           1,           1,           1,           1,           1,           1,           1,           1,           1,\n",
              "                  1,           1,           1,           1,           1,           1,           1,           1,           1,           1,           1,           1,           1,           1,           1,           1,           1,           1,           1,           1,           1,           1,           1,\n",
              "                  1,           1,           1,           1,           1,           1,           1,           1,           1,           1,           1,           1,           1,           1,           1,           1,           1,           1,           1,           1,           1,           1,           1,\n",
              "                  1,           1,           1,           1,           1,           1,           1,           1,           1,           1,           1,           1,           1,           1,           1,           1,           1,           1,           1,     0.99515,     0.99515,     0.99515,     0.99515,\n",
              "            0.99515,     0.99515,     0.99515,     0.99515,     0.99515,     0.99515,     0.99515,     0.99515,     0.99515,     0.99515,     0.99515,     0.99515,     0.99515,     0.99515,     0.99515,     0.99515,     0.99515,     0.99515,     0.99515,     0.99515,     0.99515,     0.99515,     0.99515,\n",
              "            0.99515,     0.99515,     0.99515,     0.99515,     0.99515,     0.99515,     0.99515,     0.99515,     0.99515,     0.99515,     0.99515,     0.99515,     0.99515,     0.99515,     0.99515,     0.99515,     0.99515,     0.99515,     0.99515,     0.99515,     0.99515,     0.99515,     0.99515,\n",
              "            0.99515,     0.99515,     0.99515,     0.99515,     0.99515,     0.99515,     0.99515,     0.99515,     0.99515,     0.99515,     0.99515,     0.99515,     0.99515,     0.99515,     0.99515,     0.99515,     0.99515,     0.99515,     0.99515,     0.99515,     0.99515,     0.99515,     0.99515,\n",
              "            0.99515,     0.99515,     0.99515,     0.99515,     0.99515,     0.99515,     0.99515,     0.99515,     0.99515,     0.99515,     0.99515,     0.99515,     0.99515,     0.99515,     0.99515,     0.99515,     0.99515,     0.99515,     0.99515,     0.99515,     0.99515,     0.99515,     0.99515,\n",
              "            0.99515,     0.99515,     0.99515,     0.99038,     0.99038,     0.99038,     0.99038,     0.98571,     0.98571,     0.98571,     0.98571,     0.98571,     0.98165,     0.98165,     0.98165,     0.98165,     0.98165,     0.98165,     0.98165,     0.98165,     0.98165,     0.98165,     0.98165,\n",
              "            0.98165,     0.98165,     0.98165,     0.98165,     0.98165,     0.98165,     0.98165,     0.98165,     0.98165,     0.98165,     0.98165,     0.98165,     0.98165,     0.98165,     0.98165,     0.98165,     0.98165,     0.98165,     0.98165,     0.98165,     0.97727,     0.97727,     0.97727,\n",
              "            0.97727,     0.97727,     0.97297,     0.97297,     0.97297,     0.97297,     0.97297,     0.96903,     0.96903,     0.96903,     0.96903,     0.96903,     0.96903,     0.96903,     0.96903,     0.96903,     0.96903,     0.96903,     0.96903,     0.96903,     0.95259,     0.95259,     0.95259,\n",
              "            0.95259,     0.95259,     0.95259,     0.95259,     0.95259,     0.95259,     0.94068,     0.94068,     0.94068,     0.94068,           0]]), 'Recall', 'Precision'], [array([          0,    0.001001,    0.002002,    0.003003,    0.004004,    0.005005,    0.006006,    0.007007,    0.008008,    0.009009,     0.01001,    0.011011,    0.012012,    0.013013,    0.014014,    0.015015,    0.016016,    0.017017,    0.018018,    0.019019,     0.02002,    0.021021,    0.022022,    0.023023,\n",
              "          0.024024,    0.025025,    0.026026,    0.027027,    0.028028,    0.029029,     0.03003,    0.031031,    0.032032,    0.033033,    0.034034,    0.035035,    0.036036,    0.037037,    0.038038,    0.039039,     0.04004,    0.041041,    0.042042,    0.043043,    0.044044,    0.045045,    0.046046,    0.047047,\n",
              "          0.048048,    0.049049,     0.05005,    0.051051,    0.052052,    0.053053,    0.054054,    0.055055,    0.056056,    0.057057,    0.058058,    0.059059,     0.06006,    0.061061,    0.062062,    0.063063,    0.064064,    0.065065,    0.066066,    0.067067,    0.068068,    0.069069,     0.07007,    0.071071,\n",
              "          0.072072,    0.073073,    0.074074,    0.075075,    0.076076,    0.077077,    0.078078,    0.079079,     0.08008,    0.081081,    0.082082,    0.083083,    0.084084,    0.085085,    0.086086,    0.087087,    0.088088,    0.089089,     0.09009,    0.091091,    0.092092,    0.093093,    0.094094,    0.095095,\n",
              "          0.096096,    0.097097,    0.098098,    0.099099,      0.1001,      0.1011,      0.1021,      0.1031,      0.1041,     0.10511,     0.10611,     0.10711,     0.10811,     0.10911,     0.11011,     0.11111,     0.11211,     0.11311,     0.11411,     0.11512,     0.11612,     0.11712,     0.11812,     0.11912,\n",
              "           0.12012,     0.12112,     0.12212,     0.12312,     0.12412,     0.12513,     0.12613,     0.12713,     0.12813,     0.12913,     0.13013,     0.13113,     0.13213,     0.13313,     0.13413,     0.13514,     0.13614,     0.13714,     0.13814,     0.13914,     0.14014,     0.14114,     0.14214,     0.14314,\n",
              "           0.14414,     0.14515,     0.14615,     0.14715,     0.14815,     0.14915,     0.15015,     0.15115,     0.15215,     0.15315,     0.15415,     0.15516,     0.15616,     0.15716,     0.15816,     0.15916,     0.16016,     0.16116,     0.16216,     0.16316,     0.16416,     0.16517,     0.16617,     0.16717,\n",
              "           0.16817,     0.16917,     0.17017,     0.17117,     0.17217,     0.17317,     0.17417,     0.17518,     0.17618,     0.17718,     0.17818,     0.17918,     0.18018,     0.18118,     0.18218,     0.18318,     0.18418,     0.18519,     0.18619,     0.18719,     0.18819,     0.18919,     0.19019,     0.19119,\n",
              "           0.19219,     0.19319,     0.19419,      0.1952,      0.1962,      0.1972,      0.1982,      0.1992,      0.2002,      0.2012,      0.2022,      0.2032,      0.2042,     0.20521,     0.20621,     0.20721,     0.20821,     0.20921,     0.21021,     0.21121,     0.21221,     0.21321,     0.21421,     0.21522,\n",
              "           0.21622,     0.21722,     0.21822,     0.21922,     0.22022,     0.22122,     0.22222,     0.22322,     0.22422,     0.22523,     0.22623,     0.22723,     0.22823,     0.22923,     0.23023,     0.23123,     0.23223,     0.23323,     0.23423,     0.23524,     0.23624,     0.23724,     0.23824,     0.23924,\n",
              "           0.24024,     0.24124,     0.24224,     0.24324,     0.24424,     0.24525,     0.24625,     0.24725,     0.24825,     0.24925,     0.25025,     0.25125,     0.25225,     0.25325,     0.25425,     0.25526,     0.25626,     0.25726,     0.25826,     0.25926,     0.26026,     0.26126,     0.26226,     0.26326,\n",
              "           0.26426,     0.26527,     0.26627,     0.26727,     0.26827,     0.26927,     0.27027,     0.27127,     0.27227,     0.27327,     0.27427,     0.27528,     0.27628,     0.27728,     0.27828,     0.27928,     0.28028,     0.28128,     0.28228,     0.28328,     0.28428,     0.28529,     0.28629,     0.28729,\n",
              "           0.28829,     0.28929,     0.29029,     0.29129,     0.29229,     0.29329,     0.29429,      0.2953,      0.2963,      0.2973,      0.2983,      0.2993,      0.3003,      0.3013,      0.3023,      0.3033,      0.3043,     0.30531,     0.30631,     0.30731,     0.30831,     0.30931,     0.31031,     0.31131,\n",
              "           0.31231,     0.31331,     0.31431,     0.31532,     0.31632,     0.31732,     0.31832,     0.31932,     0.32032,     0.32132,     0.32232,     0.32332,     0.32432,     0.32533,     0.32633,     0.32733,     0.32833,     0.32933,     0.33033,     0.33133,     0.33233,     0.33333,     0.33433,     0.33534,\n",
              "           0.33634,     0.33734,     0.33834,     0.33934,     0.34034,     0.34134,     0.34234,     0.34334,     0.34434,     0.34535,     0.34635,     0.34735,     0.34835,     0.34935,     0.35035,     0.35135,     0.35235,     0.35335,     0.35435,     0.35536,     0.35636,     0.35736,     0.35836,     0.35936,\n",
              "           0.36036,     0.36136,     0.36236,     0.36336,     0.36436,     0.36537,     0.36637,     0.36737,     0.36837,     0.36937,     0.37037,     0.37137,     0.37237,     0.37337,     0.37437,     0.37538,     0.37638,     0.37738,     0.37838,     0.37938,     0.38038,     0.38138,     0.38238,     0.38338,\n",
              "           0.38438,     0.38539,     0.38639,     0.38739,     0.38839,     0.38939,     0.39039,     0.39139,     0.39239,     0.39339,     0.39439,      0.3954,      0.3964,      0.3974,      0.3984,      0.3994,      0.4004,      0.4014,      0.4024,      0.4034,      0.4044,     0.40541,     0.40641,     0.40741,\n",
              "           0.40841,     0.40941,     0.41041,     0.41141,     0.41241,     0.41341,     0.41441,     0.41542,     0.41642,     0.41742,     0.41842,     0.41942,     0.42042,     0.42142,     0.42242,     0.42342,     0.42442,     0.42543,     0.42643,     0.42743,     0.42843,     0.42943,     0.43043,     0.43143,\n",
              "           0.43243,     0.43343,     0.43443,     0.43544,     0.43644,     0.43744,     0.43844,     0.43944,     0.44044,     0.44144,     0.44244,     0.44344,     0.44444,     0.44545,     0.44645,     0.44745,     0.44845,     0.44945,     0.45045,     0.45145,     0.45245,     0.45345,     0.45445,     0.45546,\n",
              "           0.45646,     0.45746,     0.45846,     0.45946,     0.46046,     0.46146,     0.46246,     0.46346,     0.46446,     0.46547,     0.46647,     0.46747,     0.46847,     0.46947,     0.47047,     0.47147,     0.47247,     0.47347,     0.47447,     0.47548,     0.47648,     0.47748,     0.47848,     0.47948,\n",
              "           0.48048,     0.48148,     0.48248,     0.48348,     0.48448,     0.48549,     0.48649,     0.48749,     0.48849,     0.48949,     0.49049,     0.49149,     0.49249,     0.49349,     0.49449,      0.4955,      0.4965,      0.4975,      0.4985,      0.4995,      0.5005,      0.5015,      0.5025,      0.5035,\n",
              "            0.5045,     0.50551,     0.50651,     0.50751,     0.50851,     0.50951,     0.51051,     0.51151,     0.51251,     0.51351,     0.51451,     0.51552,     0.51652,     0.51752,     0.51852,     0.51952,     0.52052,     0.52152,     0.52252,     0.52352,     0.52452,     0.52553,     0.52653,     0.52753,\n",
              "           0.52853,     0.52953,     0.53053,     0.53153,     0.53253,     0.53353,     0.53453,     0.53554,     0.53654,     0.53754,     0.53854,     0.53954,     0.54054,     0.54154,     0.54254,     0.54354,     0.54454,     0.54555,     0.54655,     0.54755,     0.54855,     0.54955,     0.55055,     0.55155,\n",
              "           0.55255,     0.55355,     0.55455,     0.55556,     0.55656,     0.55756,     0.55856,     0.55956,     0.56056,     0.56156,     0.56256,     0.56356,     0.56456,     0.56557,     0.56657,     0.56757,     0.56857,     0.56957,     0.57057,     0.57157,     0.57257,     0.57357,     0.57457,     0.57558,\n",
              "           0.57658,     0.57758,     0.57858,     0.57958,     0.58058,     0.58158,     0.58258,     0.58358,     0.58458,     0.58559,     0.58659,     0.58759,     0.58859,     0.58959,     0.59059,     0.59159,     0.59259,     0.59359,     0.59459,      0.5956,      0.5966,      0.5976,      0.5986,      0.5996,\n",
              "            0.6006,      0.6016,      0.6026,      0.6036,      0.6046,     0.60561,     0.60661,     0.60761,     0.60861,     0.60961,     0.61061,     0.61161,     0.61261,     0.61361,     0.61461,     0.61562,     0.61662,     0.61762,     0.61862,     0.61962,     0.62062,     0.62162,     0.62262,     0.62362,\n",
              "           0.62462,     0.62563,     0.62663,     0.62763,     0.62863,     0.62963,     0.63063,     0.63163,     0.63263,     0.63363,     0.63463,     0.63564,     0.63664,     0.63764,     0.63864,     0.63964,     0.64064,     0.64164,     0.64264,     0.64364,     0.64464,     0.64565,     0.64665,     0.64765,\n",
              "           0.64865,     0.64965,     0.65065,     0.65165,     0.65265,     0.65365,     0.65465,     0.65566,     0.65666,     0.65766,     0.65866,     0.65966,     0.66066,     0.66166,     0.66266,     0.66366,     0.66466,     0.66567,     0.66667,     0.66767,     0.66867,     0.66967,     0.67067,     0.67167,\n",
              "           0.67267,     0.67367,     0.67467,     0.67568,     0.67668,     0.67768,     0.67868,     0.67968,     0.68068,     0.68168,     0.68268,     0.68368,     0.68468,     0.68569,     0.68669,     0.68769,     0.68869,     0.68969,     0.69069,     0.69169,     0.69269,     0.69369,     0.69469,      0.6957,\n",
              "            0.6967,      0.6977,      0.6987,      0.6997,      0.7007,      0.7017,      0.7027,      0.7037,      0.7047,     0.70571,     0.70671,     0.70771,     0.70871,     0.70971,     0.71071,     0.71171,     0.71271,     0.71371,     0.71471,     0.71572,     0.71672,     0.71772,     0.71872,     0.71972,\n",
              "           0.72072,     0.72172,     0.72272,     0.72372,     0.72472,     0.72573,     0.72673,     0.72773,     0.72873,     0.72973,     0.73073,     0.73173,     0.73273,     0.73373,     0.73473,     0.73574,     0.73674,     0.73774,     0.73874,     0.73974,     0.74074,     0.74174,     0.74274,     0.74374,\n",
              "           0.74474,     0.74575,     0.74675,     0.74775,     0.74875,     0.74975,     0.75075,     0.75175,     0.75275,     0.75375,     0.75475,     0.75576,     0.75676,     0.75776,     0.75876,     0.75976,     0.76076,     0.76176,     0.76276,     0.76376,     0.76476,     0.76577,     0.76677,     0.76777,\n",
              "           0.76877,     0.76977,     0.77077,     0.77177,     0.77277,     0.77377,     0.77477,     0.77578,     0.77678,     0.77778,     0.77878,     0.77978,     0.78078,     0.78178,     0.78278,     0.78378,     0.78478,     0.78579,     0.78679,     0.78779,     0.78879,     0.78979,     0.79079,     0.79179,\n",
              "           0.79279,     0.79379,     0.79479,      0.7958,      0.7968,      0.7978,      0.7988,      0.7998,      0.8008,      0.8018,      0.8028,      0.8038,      0.8048,     0.80581,     0.80681,     0.80781,     0.80881,     0.80981,     0.81081,     0.81181,     0.81281,     0.81381,     0.81481,     0.81582,\n",
              "           0.81682,     0.81782,     0.81882,     0.81982,     0.82082,     0.82182,     0.82282,     0.82382,     0.82482,     0.82583,     0.82683,     0.82783,     0.82883,     0.82983,     0.83083,     0.83183,     0.83283,     0.83383,     0.83483,     0.83584,     0.83684,     0.83784,     0.83884,     0.83984,\n",
              "           0.84084,     0.84184,     0.84284,     0.84384,     0.84484,     0.84585,     0.84685,     0.84785,     0.84885,     0.84985,     0.85085,     0.85185,     0.85285,     0.85385,     0.85485,     0.85586,     0.85686,     0.85786,     0.85886,     0.85986,     0.86086,     0.86186,     0.86286,     0.86386,\n",
              "           0.86486,     0.86587,     0.86687,     0.86787,     0.86887,     0.86987,     0.87087,     0.87187,     0.87287,     0.87387,     0.87487,     0.87588,     0.87688,     0.87788,     0.87888,     0.87988,     0.88088,     0.88188,     0.88288,     0.88388,     0.88488,     0.88589,     0.88689,     0.88789,\n",
              "           0.88889,     0.88989,     0.89089,     0.89189,     0.89289,     0.89389,     0.89489,      0.8959,      0.8969,      0.8979,      0.8989,      0.8999,      0.9009,      0.9019,      0.9029,      0.9039,      0.9049,     0.90591,     0.90691,     0.90791,     0.90891,     0.90991,     0.91091,     0.91191,\n",
              "           0.91291,     0.91391,     0.91491,     0.91592,     0.91692,     0.91792,     0.91892,     0.91992,     0.92092,     0.92192,     0.92292,     0.92392,     0.92492,     0.92593,     0.92693,     0.92793,     0.92893,     0.92993,     0.93093,     0.93193,     0.93293,     0.93393,     0.93493,     0.93594,\n",
              "           0.93694,     0.93794,     0.93894,     0.93994,     0.94094,     0.94194,     0.94294,     0.94394,     0.94494,     0.94595,     0.94695,     0.94795,     0.94895,     0.94995,     0.95095,     0.95195,     0.95295,     0.95395,     0.95495,     0.95596,     0.95696,     0.95796,     0.95896,     0.95996,\n",
              "           0.96096,     0.96196,     0.96296,     0.96396,     0.96496,     0.96597,     0.96697,     0.96797,     0.96897,     0.96997,     0.97097,     0.97197,     0.97297,     0.97397,     0.97497,     0.97598,     0.97698,     0.97798,     0.97898,     0.97998,     0.98098,     0.98198,     0.98298,     0.98398,\n",
              "           0.98498,     0.98599,     0.98699,     0.98799,     0.98899,     0.98999,     0.99099,     0.99199,     0.99299,     0.99399,     0.99499,       0.996,       0.997,       0.998,       0.999,           1]), array([[   0.074975,    0.074975,    0.074975,     0.45394,     0.72067,     0.78529,     0.81846,     0.84242,     0.85249,     0.85804,     0.86268,     0.87242,     0.87663,      0.8791,     0.88232,      0.8869,     0.88904,     0.89172,     0.89336,     0.89566,     0.89651,     0.89888,     0.90059,\n",
              "            0.90173,     0.90354,     0.90614,      0.9067,     0.90725,     0.90781,     0.90998,     0.91203,     0.91288,     0.91382,     0.91523,     0.91592,     0.91648,     0.91703,     0.92062,     0.92207,     0.92313,      0.9239,     0.92467,     0.92578,     0.92701,     0.92752,     0.92803,\n",
              "            0.92853,     0.92909,     0.92977,     0.93045,     0.93351,     0.93499,     0.93545,      0.9359,     0.93636,     0.93732,     0.93889,     0.93933,     0.93978,     0.94022,     0.94067,     0.94164,     0.94263,     0.94371,      0.9447,      0.9449,     0.94509,     0.94529,     0.94549,\n",
              "            0.94568,     0.94588,     0.94608,     0.94627,     0.94647,     0.94667,     0.94677,     0.94686,     0.94694,     0.94703,     0.94711,      0.9472,     0.94729,     0.94737,     0.94746,     0.94755,     0.94763,     0.94772,      0.9478,     0.94789,     0.94798,     0.94806,     0.94815,\n",
              "            0.94823,     0.94832,     0.94841,     0.94849,     0.94858,     0.94866,     0.94883,     0.94911,      0.9494,     0.94968,     0.94997,     0.95025,     0.95054,      0.9508,     0.95101,     0.95121,     0.95142,     0.95163,     0.95183,     0.95204,     0.95225,     0.95245,     0.95266,\n",
              "            0.95497,     0.95534,      0.9557,     0.95606,     0.95642,     0.95679,     0.95696,     0.95705,     0.95715,     0.95724,     0.95733,     0.95743,     0.95752,     0.95761,     0.95771,      0.9578,     0.95789,     0.95798,     0.95808,     0.95817,     0.95826,     0.95836,     0.95845,\n",
              "            0.95854,     0.95863,     0.95873,     0.95882,     0.95891,       0.959,     0.95909,     0.95918,     0.95928,     0.95937,     0.95946,     0.95955,     0.95964,     0.95973,     0.95982,     0.95991,        0.96,     0.96009,     0.96018,     0.96027,     0.96036,     0.96045,     0.96054,\n",
              "            0.96063,     0.96072,     0.96081,      0.9609,       0.961,     0.96113,     0.96131,     0.96149,     0.96167,     0.96185,     0.96203,     0.96221,     0.96239,     0.96257,     0.96275,     0.96293,     0.96311,      0.9635,     0.96391,     0.96432,     0.96473,     0.96514,     0.96554,\n",
              "            0.96593,     0.96632,     0.96671,      0.9671,     0.96741,      0.9676,     0.96779,     0.96798,     0.96818,     0.96837,     0.96856,     0.96875,     0.96895,     0.96914,     0.96933,     0.96933,     0.96911,     0.96888,     0.96866,     0.96844,     0.96822,     0.96799,     0.96777,\n",
              "            0.96755,     0.96732,     0.96723,     0.96737,     0.96751,     0.96765,     0.96779,     0.96793,     0.96807,     0.96821,     0.96835,     0.96849,     0.96863,     0.96877,     0.96891,     0.96905,     0.96919,     0.96953,     0.97056,     0.97144,     0.97152,      0.9716,     0.97168,\n",
              "            0.97176,     0.97184,     0.97192,     0.97199,     0.97207,     0.97215,     0.97223,     0.97231,     0.97239,     0.97247,     0.97255,     0.97263,     0.97271,     0.97279,     0.97286,     0.97294,     0.97302,      0.9731,     0.97318,     0.97326,     0.97334,     0.97342,      0.9735,\n",
              "            0.97355,     0.97339,     0.97322,     0.97305,     0.97288,     0.97271,     0.97254,     0.97237,      0.9722,     0.97204,     0.97187,      0.9717,     0.97153,     0.97136,     0.97113,     0.97086,     0.97059,     0.97033,     0.97006,     0.96979,     0.96953,     0.96926,     0.96906,\n",
              "            0.96934,     0.96961,     0.96989,     0.97016,     0.97044,     0.97071,     0.97099,     0.97132,     0.97176,      0.9722,     0.97265,     0.97309,     0.97337,     0.97347,     0.97356,     0.97365,     0.97374,     0.97383,     0.97392,     0.97402,     0.97411,      0.9742,     0.97429,\n",
              "            0.97438,     0.97447,     0.97457,     0.97466,     0.97475,     0.97484,     0.97493,     0.97502,     0.97512,     0.97521,      0.9753,     0.97539,     0.97548,     0.97567,     0.97588,     0.97609,     0.97631,     0.97652,     0.97673,     0.97695,     0.97716,     0.97737,     0.97758,\n",
              "            0.97766,     0.97762,     0.97758,     0.97754,      0.9775,     0.97747,     0.97743,     0.97739,     0.97735,     0.97731,     0.97727,     0.97723,      0.9772,     0.97716,     0.97712,     0.97708,     0.97704,       0.977,     0.97696,     0.97693,     0.97689,     0.97685,     0.97681,\n",
              "            0.97677,     0.97673,     0.97669,     0.97666,     0.97662,     0.97658,     0.97654,      0.9765,     0.97646,     0.97642,     0.97639,     0.97635,     0.97631,     0.97627,     0.97623,     0.97619,     0.97615,     0.97612,     0.97608,     0.97604,       0.976,     0.97596,     0.97592,\n",
              "            0.97588,     0.97584,     0.97581,     0.97577,     0.97573,     0.97569,     0.97565,     0.97561,     0.97557,     0.97554,      0.9755,     0.97546,     0.97542,     0.97528,     0.97487,     0.97446,     0.97405,     0.97364,     0.97323,     0.97299,     0.97284,     0.97268,     0.97253,\n",
              "            0.97237,     0.97222,     0.97206,     0.97191,     0.97175,      0.9716,     0.97144,     0.97129,     0.97113,     0.97097,     0.97082,     0.97087,     0.97097,     0.97107,     0.97117,     0.97127,     0.97137,     0.97147,     0.97157,     0.97167,     0.97177,     0.97187,     0.97198,\n",
              "            0.97208,     0.97218,     0.97228,     0.97238,     0.97248,     0.97258,     0.97268,     0.97278,     0.97288,     0.97297,     0.97295,     0.97292,      0.9729,     0.97288,     0.97286,     0.97283,     0.97281,     0.97279,     0.97276,     0.97274,     0.97272,     0.97269,     0.97267,\n",
              "            0.97265,     0.97262,      0.9726,     0.97258,     0.97255,     0.97253,     0.97251,     0.97248,     0.97246,     0.97244,     0.97242,     0.97239,     0.97237,     0.97235,     0.97232,      0.9723,     0.97228,     0.97225,     0.97223,     0.97221,     0.97218,     0.97216,     0.97214,\n",
              "            0.97211,     0.97209,     0.97207,     0.97204,     0.97202,       0.972,     0.97198,     0.97195,     0.97193,     0.97191,     0.97188,     0.97186,     0.97184,     0.97181,     0.97179,     0.97177,     0.97174,     0.97172,      0.9717,     0.97167,     0.97165,     0.97163,      0.9716,\n",
              "            0.97158,     0.97156,     0.97153,     0.97151,     0.97149,     0.97147,     0.97144,     0.97142,      0.9714,     0.97137,     0.97135,     0.97133,      0.9713,     0.97128,     0.97126,     0.97123,     0.97121,     0.97119,     0.97116,     0.97114,     0.97112,     0.97109,     0.97107,\n",
              "            0.97105,     0.97102,       0.971,     0.97098,     0.97095,     0.97093,     0.97091,     0.97088,     0.97086,     0.97084,     0.97082,     0.97079,     0.97077,     0.97075,     0.97072,      0.9707,     0.97068,     0.97066,     0.97072,     0.97078,     0.97085,     0.97091,     0.97097,\n",
              "            0.97103,     0.97109,     0.97115,     0.97122,     0.97128,     0.97134,      0.9714,     0.97146,     0.97152,     0.97159,     0.97165,     0.97171,     0.97177,     0.97183,     0.97189,     0.97196,     0.97202,     0.97208,     0.97214,      0.9722,     0.97226,     0.97233,     0.97239,\n",
              "            0.97245,     0.97251,     0.97257,     0.97263,      0.9727,     0.97276,     0.97282,     0.97269,     0.97235,     0.97201,     0.97167,     0.97132,     0.97098,     0.97064,     0.97073,     0.97105,     0.97138,      0.9717,     0.97202,     0.97235,     0.97267,      0.9724,       0.972,\n",
              "             0.9716,      0.9712,      0.9708,      0.9704,     0.97027,     0.97015,     0.97003,     0.96991,     0.96979,     0.96967,     0.96955,     0.96943,     0.96931,     0.96919,     0.96907,     0.96895,     0.96883,     0.96871,     0.96859,     0.96846,     0.96834,     0.96822,      0.9681,\n",
              "            0.96801,     0.96795,     0.96789,     0.96783,     0.96777,     0.96771,     0.96765,     0.96759,     0.96753,     0.96747,      0.9674,     0.96734,     0.96728,     0.96722,     0.96716,      0.9671,     0.96704,     0.96698,     0.96692,     0.96686,      0.9668,     0.96674,     0.96668,\n",
              "            0.96662,     0.96656,      0.9665,     0.96644,     0.96638,     0.96632,     0.96626,     0.96619,     0.96613,     0.96607,     0.96601,     0.96595,     0.96589,     0.96583,     0.96577,     0.96571,     0.96566,     0.96562,     0.96559,     0.96555,     0.96551,     0.96548,     0.96544,\n",
              "             0.9654,     0.96537,     0.96533,     0.96529,     0.96525,     0.96522,     0.96518,     0.96514,     0.96511,     0.96507,     0.96503,       0.965,     0.96496,     0.96492,     0.96489,     0.96485,     0.96481,     0.96478,     0.96474,      0.9647,     0.96467,     0.96463,     0.96459,\n",
              "            0.96456,     0.96452,     0.96448,     0.96444,     0.96441,     0.96437,     0.96433,      0.9643,     0.96426,     0.96422,     0.96419,     0.96415,     0.96411,     0.96408,     0.96404,       0.964,     0.96397,     0.96393,     0.96389,     0.96385,     0.96382,     0.96378,     0.96374,\n",
              "            0.96371,     0.96367,     0.96363,      0.9636,     0.96356,     0.96352,     0.96349,     0.96345,     0.96341,     0.96338,     0.96334,     0.96329,     0.96305,      0.9628,     0.96256,     0.96232,     0.96207,     0.96183,     0.96158,     0.96134,     0.96109,     0.96045,     0.95882,\n",
              "            0.95829,       0.958,     0.95771,     0.95742,     0.95713,     0.95684,     0.95655,     0.95626,     0.95639,     0.95689,      0.9574,      0.9579,     0.95832,     0.95821,     0.95809,     0.95798,     0.95787,     0.95776,     0.95764,     0.95753,     0.95742,     0.95731,     0.95719,\n",
              "            0.95708,     0.95697,     0.95686,     0.95674,     0.95663,     0.95652,      0.9564,     0.95629,     0.95618,     0.95607,     0.95595,     0.95602,     0.95618,     0.95634,      0.9565,     0.95665,     0.95681,     0.95697,     0.95712,     0.95728,     0.95744,      0.9576,     0.95775,\n",
              "            0.95791,     0.95807,     0.95802,     0.95781,     0.95759,     0.95738,     0.95716,     0.95694,     0.95673,     0.95651,     0.95629,     0.95608,     0.95586,     0.95595,     0.95671,     0.95748,     0.95784,     0.95758,     0.95732,     0.95705,     0.95679,     0.95653,     0.95626,\n",
              "              0.956,     0.95574,     0.95545,     0.95499,     0.95454,     0.95408,     0.95362,     0.95317,     0.95229,     0.95128,      0.9505,     0.95022,     0.94994,     0.94966,     0.94937,     0.94909,     0.94881,     0.94853,     0.94825,     0.94721,      0.9431,     0.94267,     0.94224,\n",
              "            0.94181,     0.94138,     0.94095,     0.94051,     0.93999,     0.93947,     0.93896,     0.93844,     0.93792,      0.9374,     0.93688,     0.93636,     0.93584,     0.93436,     0.93251,     0.93146,     0.93042,     0.92967,     0.92892,     0.92816,     0.92622,     0.92356,      0.9223,\n",
              "            0.92171,     0.92112,     0.92052,     0.91979,     0.91871,     0.91764,     0.91518,     0.91432,     0.91371,     0.91311,     0.91251,     0.91154,     0.91017,      0.9054,     0.90176,     0.90227,     0.90278,     0.90328,     0.90365,      0.9033,     0.90295,      0.9026,     0.90226,\n",
              "            0.90191,     0.90156,     0.90121,     0.90048,     0.89909,     0.89494,     0.89353,     0.89146,     0.88583,     0.87877,     0.87805,     0.87732,     0.87659,     0.87585,     0.87502,     0.87418,     0.87334,     0.86815,     0.86627,     0.86478,     0.86213,     0.85994,     0.85759,\n",
              "            0.85227,     0.85105,     0.84983,     0.84089,     0.84014,     0.83952,      0.8389,     0.83828,     0.83136,      0.8279,     0.82443,     0.82283,     0.82088,     0.81874,     0.81658,     0.81364,     0.81161,     0.80997,     0.80469,     0.79561,     0.79103,     0.78901,     0.78765,\n",
              "            0.78391,     0.78031,     0.77602,     0.77429,     0.76479,     0.75255,     0.74861,     0.74073,     0.73758,     0.72899,     0.72269,     0.71408,     0.69605,     0.69263,     0.69066,     0.68123,     0.67187,     0.65964,     0.65496,     0.65002,     0.64897,     0.64792,     0.64686,\n",
              "            0.64211,     0.63344,     0.61651,     0.60729,     0.59384,     0.58404,      0.5799,     0.56218,     0.55635,     0.53708,     0.51233,     0.50102,     0.49326,     0.48621,     0.48162,     0.47214,     0.46448,     0.42611,     0.41627,     0.40862,     0.39121,     0.38722,     0.36676,\n",
              "            0.34823,     0.34071,     0.32896,     0.32026,     0.31372,     0.30244,     0.29149,     0.28811,     0.28373,     0.26801,     0.24021,     0.22932,     0.22448,     0.21741,     0.21005,     0.19396,     0.19145,     0.18893,      0.1796,     0.16851,     0.15538,     0.15145,     0.13399,\n",
              "            0.13077,     0.12753,     0.12495,     0.12262,      0.1203,     0.11386,     0.10065,     0.09827,    0.095881,     0.09224,    0.086622,    0.078343,    0.075216,     0.07236,    0.069359,    0.060296,     0.03475,    0.026084,    0.020069,    0.012092,           0,           0,           0,\n",
              "                  0,           0,           0,           0,           0,           0,           0,           0,           0,           0,           0]]), 'Confidence', 'F1'], [array([          0,    0.001001,    0.002002,    0.003003,    0.004004,    0.005005,    0.006006,    0.007007,    0.008008,    0.009009,     0.01001,    0.011011,    0.012012,    0.013013,    0.014014,    0.015015,    0.016016,    0.017017,    0.018018,    0.019019,     0.02002,    0.021021,    0.022022,    0.023023,\n",
              "          0.024024,    0.025025,    0.026026,    0.027027,    0.028028,    0.029029,     0.03003,    0.031031,    0.032032,    0.033033,    0.034034,    0.035035,    0.036036,    0.037037,    0.038038,    0.039039,     0.04004,    0.041041,    0.042042,    0.043043,    0.044044,    0.045045,    0.046046,    0.047047,\n",
              "          0.048048,    0.049049,     0.05005,    0.051051,    0.052052,    0.053053,    0.054054,    0.055055,    0.056056,    0.057057,    0.058058,    0.059059,     0.06006,    0.061061,    0.062062,    0.063063,    0.064064,    0.065065,    0.066066,    0.067067,    0.068068,    0.069069,     0.07007,    0.071071,\n",
              "          0.072072,    0.073073,    0.074074,    0.075075,    0.076076,    0.077077,    0.078078,    0.079079,     0.08008,    0.081081,    0.082082,    0.083083,    0.084084,    0.085085,    0.086086,    0.087087,    0.088088,    0.089089,     0.09009,    0.091091,    0.092092,    0.093093,    0.094094,    0.095095,\n",
              "          0.096096,    0.097097,    0.098098,    0.099099,      0.1001,      0.1011,      0.1021,      0.1031,      0.1041,     0.10511,     0.10611,     0.10711,     0.10811,     0.10911,     0.11011,     0.11111,     0.11211,     0.11311,     0.11411,     0.11512,     0.11612,     0.11712,     0.11812,     0.11912,\n",
              "           0.12012,     0.12112,     0.12212,     0.12312,     0.12412,     0.12513,     0.12613,     0.12713,     0.12813,     0.12913,     0.13013,     0.13113,     0.13213,     0.13313,     0.13413,     0.13514,     0.13614,     0.13714,     0.13814,     0.13914,     0.14014,     0.14114,     0.14214,     0.14314,\n",
              "           0.14414,     0.14515,     0.14615,     0.14715,     0.14815,     0.14915,     0.15015,     0.15115,     0.15215,     0.15315,     0.15415,     0.15516,     0.15616,     0.15716,     0.15816,     0.15916,     0.16016,     0.16116,     0.16216,     0.16316,     0.16416,     0.16517,     0.16617,     0.16717,\n",
              "           0.16817,     0.16917,     0.17017,     0.17117,     0.17217,     0.17317,     0.17417,     0.17518,     0.17618,     0.17718,     0.17818,     0.17918,     0.18018,     0.18118,     0.18218,     0.18318,     0.18418,     0.18519,     0.18619,     0.18719,     0.18819,     0.18919,     0.19019,     0.19119,\n",
              "           0.19219,     0.19319,     0.19419,      0.1952,      0.1962,      0.1972,      0.1982,      0.1992,      0.2002,      0.2012,      0.2022,      0.2032,      0.2042,     0.20521,     0.20621,     0.20721,     0.20821,     0.20921,     0.21021,     0.21121,     0.21221,     0.21321,     0.21421,     0.21522,\n",
              "           0.21622,     0.21722,     0.21822,     0.21922,     0.22022,     0.22122,     0.22222,     0.22322,     0.22422,     0.22523,     0.22623,     0.22723,     0.22823,     0.22923,     0.23023,     0.23123,     0.23223,     0.23323,     0.23423,     0.23524,     0.23624,     0.23724,     0.23824,     0.23924,\n",
              "           0.24024,     0.24124,     0.24224,     0.24324,     0.24424,     0.24525,     0.24625,     0.24725,     0.24825,     0.24925,     0.25025,     0.25125,     0.25225,     0.25325,     0.25425,     0.25526,     0.25626,     0.25726,     0.25826,     0.25926,     0.26026,     0.26126,     0.26226,     0.26326,\n",
              "           0.26426,     0.26527,     0.26627,     0.26727,     0.26827,     0.26927,     0.27027,     0.27127,     0.27227,     0.27327,     0.27427,     0.27528,     0.27628,     0.27728,     0.27828,     0.27928,     0.28028,     0.28128,     0.28228,     0.28328,     0.28428,     0.28529,     0.28629,     0.28729,\n",
              "           0.28829,     0.28929,     0.29029,     0.29129,     0.29229,     0.29329,     0.29429,      0.2953,      0.2963,      0.2973,      0.2983,      0.2993,      0.3003,      0.3013,      0.3023,      0.3033,      0.3043,     0.30531,     0.30631,     0.30731,     0.30831,     0.30931,     0.31031,     0.31131,\n",
              "           0.31231,     0.31331,     0.31431,     0.31532,     0.31632,     0.31732,     0.31832,     0.31932,     0.32032,     0.32132,     0.32232,     0.32332,     0.32432,     0.32533,     0.32633,     0.32733,     0.32833,     0.32933,     0.33033,     0.33133,     0.33233,     0.33333,     0.33433,     0.33534,\n",
              "           0.33634,     0.33734,     0.33834,     0.33934,     0.34034,     0.34134,     0.34234,     0.34334,     0.34434,     0.34535,     0.34635,     0.34735,     0.34835,     0.34935,     0.35035,     0.35135,     0.35235,     0.35335,     0.35435,     0.35536,     0.35636,     0.35736,     0.35836,     0.35936,\n",
              "           0.36036,     0.36136,     0.36236,     0.36336,     0.36436,     0.36537,     0.36637,     0.36737,     0.36837,     0.36937,     0.37037,     0.37137,     0.37237,     0.37337,     0.37437,     0.37538,     0.37638,     0.37738,     0.37838,     0.37938,     0.38038,     0.38138,     0.38238,     0.38338,\n",
              "           0.38438,     0.38539,     0.38639,     0.38739,     0.38839,     0.38939,     0.39039,     0.39139,     0.39239,     0.39339,     0.39439,      0.3954,      0.3964,      0.3974,      0.3984,      0.3994,      0.4004,      0.4014,      0.4024,      0.4034,      0.4044,     0.40541,     0.40641,     0.40741,\n",
              "           0.40841,     0.40941,     0.41041,     0.41141,     0.41241,     0.41341,     0.41441,     0.41542,     0.41642,     0.41742,     0.41842,     0.41942,     0.42042,     0.42142,     0.42242,     0.42342,     0.42442,     0.42543,     0.42643,     0.42743,     0.42843,     0.42943,     0.43043,     0.43143,\n",
              "           0.43243,     0.43343,     0.43443,     0.43544,     0.43644,     0.43744,     0.43844,     0.43944,     0.44044,     0.44144,     0.44244,     0.44344,     0.44444,     0.44545,     0.44645,     0.44745,     0.44845,     0.44945,     0.45045,     0.45145,     0.45245,     0.45345,     0.45445,     0.45546,\n",
              "           0.45646,     0.45746,     0.45846,     0.45946,     0.46046,     0.46146,     0.46246,     0.46346,     0.46446,     0.46547,     0.46647,     0.46747,     0.46847,     0.46947,     0.47047,     0.47147,     0.47247,     0.47347,     0.47447,     0.47548,     0.47648,     0.47748,     0.47848,     0.47948,\n",
              "           0.48048,     0.48148,     0.48248,     0.48348,     0.48448,     0.48549,     0.48649,     0.48749,     0.48849,     0.48949,     0.49049,     0.49149,     0.49249,     0.49349,     0.49449,      0.4955,      0.4965,      0.4975,      0.4985,      0.4995,      0.5005,      0.5015,      0.5025,      0.5035,\n",
              "            0.5045,     0.50551,     0.50651,     0.50751,     0.50851,     0.50951,     0.51051,     0.51151,     0.51251,     0.51351,     0.51451,     0.51552,     0.51652,     0.51752,     0.51852,     0.51952,     0.52052,     0.52152,     0.52252,     0.52352,     0.52452,     0.52553,     0.52653,     0.52753,\n",
              "           0.52853,     0.52953,     0.53053,     0.53153,     0.53253,     0.53353,     0.53453,     0.53554,     0.53654,     0.53754,     0.53854,     0.53954,     0.54054,     0.54154,     0.54254,     0.54354,     0.54454,     0.54555,     0.54655,     0.54755,     0.54855,     0.54955,     0.55055,     0.55155,\n",
              "           0.55255,     0.55355,     0.55455,     0.55556,     0.55656,     0.55756,     0.55856,     0.55956,     0.56056,     0.56156,     0.56256,     0.56356,     0.56456,     0.56557,     0.56657,     0.56757,     0.56857,     0.56957,     0.57057,     0.57157,     0.57257,     0.57357,     0.57457,     0.57558,\n",
              "           0.57658,     0.57758,     0.57858,     0.57958,     0.58058,     0.58158,     0.58258,     0.58358,     0.58458,     0.58559,     0.58659,     0.58759,     0.58859,     0.58959,     0.59059,     0.59159,     0.59259,     0.59359,     0.59459,      0.5956,      0.5966,      0.5976,      0.5986,      0.5996,\n",
              "            0.6006,      0.6016,      0.6026,      0.6036,      0.6046,     0.60561,     0.60661,     0.60761,     0.60861,     0.60961,     0.61061,     0.61161,     0.61261,     0.61361,     0.61461,     0.61562,     0.61662,     0.61762,     0.61862,     0.61962,     0.62062,     0.62162,     0.62262,     0.62362,\n",
              "           0.62462,     0.62563,     0.62663,     0.62763,     0.62863,     0.62963,     0.63063,     0.63163,     0.63263,     0.63363,     0.63463,     0.63564,     0.63664,     0.63764,     0.63864,     0.63964,     0.64064,     0.64164,     0.64264,     0.64364,     0.64464,     0.64565,     0.64665,     0.64765,\n",
              "           0.64865,     0.64965,     0.65065,     0.65165,     0.65265,     0.65365,     0.65465,     0.65566,     0.65666,     0.65766,     0.65866,     0.65966,     0.66066,     0.66166,     0.66266,     0.66366,     0.66466,     0.66567,     0.66667,     0.66767,     0.66867,     0.66967,     0.67067,     0.67167,\n",
              "           0.67267,     0.67367,     0.67467,     0.67568,     0.67668,     0.67768,     0.67868,     0.67968,     0.68068,     0.68168,     0.68268,     0.68368,     0.68468,     0.68569,     0.68669,     0.68769,     0.68869,     0.68969,     0.69069,     0.69169,     0.69269,     0.69369,     0.69469,      0.6957,\n",
              "            0.6967,      0.6977,      0.6987,      0.6997,      0.7007,      0.7017,      0.7027,      0.7037,      0.7047,     0.70571,     0.70671,     0.70771,     0.70871,     0.70971,     0.71071,     0.71171,     0.71271,     0.71371,     0.71471,     0.71572,     0.71672,     0.71772,     0.71872,     0.71972,\n",
              "           0.72072,     0.72172,     0.72272,     0.72372,     0.72472,     0.72573,     0.72673,     0.72773,     0.72873,     0.72973,     0.73073,     0.73173,     0.73273,     0.73373,     0.73473,     0.73574,     0.73674,     0.73774,     0.73874,     0.73974,     0.74074,     0.74174,     0.74274,     0.74374,\n",
              "           0.74474,     0.74575,     0.74675,     0.74775,     0.74875,     0.74975,     0.75075,     0.75175,     0.75275,     0.75375,     0.75475,     0.75576,     0.75676,     0.75776,     0.75876,     0.75976,     0.76076,     0.76176,     0.76276,     0.76376,     0.76476,     0.76577,     0.76677,     0.76777,\n",
              "           0.76877,     0.76977,     0.77077,     0.77177,     0.77277,     0.77377,     0.77477,     0.77578,     0.77678,     0.77778,     0.77878,     0.77978,     0.78078,     0.78178,     0.78278,     0.78378,     0.78478,     0.78579,     0.78679,     0.78779,     0.78879,     0.78979,     0.79079,     0.79179,\n",
              "           0.79279,     0.79379,     0.79479,      0.7958,      0.7968,      0.7978,      0.7988,      0.7998,      0.8008,      0.8018,      0.8028,      0.8038,      0.8048,     0.80581,     0.80681,     0.80781,     0.80881,     0.80981,     0.81081,     0.81181,     0.81281,     0.81381,     0.81481,     0.81582,\n",
              "           0.81682,     0.81782,     0.81882,     0.81982,     0.82082,     0.82182,     0.82282,     0.82382,     0.82482,     0.82583,     0.82683,     0.82783,     0.82883,     0.82983,     0.83083,     0.83183,     0.83283,     0.83383,     0.83483,     0.83584,     0.83684,     0.83784,     0.83884,     0.83984,\n",
              "           0.84084,     0.84184,     0.84284,     0.84384,     0.84484,     0.84585,     0.84685,     0.84785,     0.84885,     0.84985,     0.85085,     0.85185,     0.85285,     0.85385,     0.85485,     0.85586,     0.85686,     0.85786,     0.85886,     0.85986,     0.86086,     0.86186,     0.86286,     0.86386,\n",
              "           0.86486,     0.86587,     0.86687,     0.86787,     0.86887,     0.86987,     0.87087,     0.87187,     0.87287,     0.87387,     0.87487,     0.87588,     0.87688,     0.87788,     0.87888,     0.87988,     0.88088,     0.88188,     0.88288,     0.88388,     0.88488,     0.88589,     0.88689,     0.88789,\n",
              "           0.88889,     0.88989,     0.89089,     0.89189,     0.89289,     0.89389,     0.89489,      0.8959,      0.8969,      0.8979,      0.8989,      0.8999,      0.9009,      0.9019,      0.9029,      0.9039,      0.9049,     0.90591,     0.90691,     0.90791,     0.90891,     0.90991,     0.91091,     0.91191,\n",
              "           0.91291,     0.91391,     0.91491,     0.91592,     0.91692,     0.91792,     0.91892,     0.91992,     0.92092,     0.92192,     0.92292,     0.92392,     0.92492,     0.92593,     0.92693,     0.92793,     0.92893,     0.92993,     0.93093,     0.93193,     0.93293,     0.93393,     0.93493,     0.93594,\n",
              "           0.93694,     0.93794,     0.93894,     0.93994,     0.94094,     0.94194,     0.94294,     0.94394,     0.94494,     0.94595,     0.94695,     0.94795,     0.94895,     0.94995,     0.95095,     0.95195,     0.95295,     0.95395,     0.95495,     0.95596,     0.95696,     0.95796,     0.95896,     0.95996,\n",
              "           0.96096,     0.96196,     0.96296,     0.96396,     0.96496,     0.96597,     0.96697,     0.96797,     0.96897,     0.96997,     0.97097,     0.97197,     0.97297,     0.97397,     0.97497,     0.97598,     0.97698,     0.97798,     0.97898,     0.97998,     0.98098,     0.98198,     0.98298,     0.98398,\n",
              "           0.98498,     0.98599,     0.98699,     0.98799,     0.98899,     0.98999,     0.99099,     0.99199,     0.99299,     0.99399,     0.99499,       0.996,       0.997,       0.998,       0.999,           1]), array([[   0.038947,    0.038947,    0.038947,     0.29361,     0.56332,     0.64648,     0.69271,     0.72774,      0.7429,     0.75138,     0.75852,     0.77371,     0.78035,     0.78428,     0.78942,     0.79678,     0.80024,      0.8046,     0.80727,     0.81103,     0.81242,     0.81633,     0.81916,\n",
              "            0.82104,     0.82404,     0.82839,     0.82932,     0.83025,     0.83118,     0.83483,     0.83828,     0.83972,     0.84132,      0.8437,     0.84489,     0.84583,     0.84678,     0.85292,     0.85541,     0.85723,     0.85856,     0.85989,     0.86182,     0.86396,     0.86484,     0.86572,\n",
              "            0.86659,     0.86757,     0.86876,     0.86995,     0.87532,     0.87791,     0.87872,     0.87953,     0.88034,     0.88204,     0.88482,     0.88561,      0.8864,     0.88719,     0.88798,     0.88972,     0.89149,     0.89342,      0.8952,     0.89555,      0.8959,     0.89626,     0.89661,\n",
              "            0.89697,     0.89732,     0.89767,     0.89803,     0.89838,     0.89873,     0.89892,     0.89907,     0.89923,     0.89939,     0.89954,      0.8997,     0.89985,     0.90001,     0.90016,     0.90032,     0.90047,     0.90063,     0.90079,     0.90094,      0.9011,     0.90125,     0.90141,\n",
              "            0.90156,     0.90172,     0.90188,     0.90203,     0.90219,     0.90234,     0.90264,     0.90315,     0.90367,     0.90418,      0.9047,     0.90522,     0.90573,     0.90622,     0.90659,     0.90697,     0.90734,     0.90772,     0.90809,     0.90847,     0.90885,     0.90922,      0.9096,\n",
              "            0.91383,     0.91449,     0.91516,     0.91582,     0.91649,     0.91715,     0.91747,     0.91765,     0.91782,     0.91799,     0.91816,     0.91833,      0.9185,     0.91867,     0.91884,     0.91901,     0.91919,     0.91936,     0.91953,      0.9197,     0.91987,     0.92004,     0.92021,\n",
              "            0.92038,     0.92055,     0.92072,      0.9209,     0.92107,     0.92124,      0.9214,     0.92157,     0.92174,     0.92191,     0.92207,     0.92224,     0.92241,     0.92258,     0.92274,     0.92291,     0.92308,     0.92324,     0.92341,     0.92358,     0.92375,     0.92391,     0.92408,\n",
              "            0.92425,     0.92442,     0.92458,     0.92475,     0.92492,     0.92517,     0.92551,     0.92584,     0.92617,     0.92651,     0.92684,     0.92718,     0.92751,     0.92785,     0.92818,     0.92851,     0.92885,     0.92958,     0.93034,      0.9311,     0.93187,     0.93263,     0.93337,\n",
              "             0.9341,     0.93483,     0.93557,      0.9363,     0.93687,     0.93723,     0.93759,     0.93795,     0.93832,     0.93868,     0.93904,      0.9394,     0.93976,     0.94012,     0.94049,     0.94067,     0.94064,     0.94062,     0.94059,     0.94057,     0.94054,     0.94052,     0.94049,\n",
              "            0.94047,     0.94044,     0.94052,     0.94078,     0.94105,     0.94131,     0.94158,     0.94185,     0.94211,     0.94238,     0.94264,     0.94291,     0.94318,     0.94344,     0.94371,     0.94397,     0.94424,     0.94488,     0.94684,     0.94852,     0.94867,     0.94882,     0.94897,\n",
              "            0.94912,     0.94928,     0.94943,     0.94958,     0.94973,     0.94988,     0.95003,     0.95018,     0.95033,     0.95048,     0.95063,     0.95079,     0.95094,     0.95109,     0.95124,     0.95139,     0.95154,     0.95169,     0.95184,     0.95199,     0.95215,      0.9523,     0.95245,\n",
              "            0.95258,     0.95257,     0.95255,     0.95254,     0.95252,     0.95251,     0.95249,     0.95248,     0.95246,     0.95245,     0.95243,     0.95242,      0.9524,     0.95239,     0.95236,     0.95234,     0.95232,     0.95229,     0.95227,     0.95224,     0.95222,      0.9522,     0.95224,\n",
              "            0.95278,     0.95331,     0.95384,     0.95437,     0.95491,     0.95544,     0.95597,     0.95661,     0.95747,     0.95833,     0.95919,     0.96005,     0.96061,     0.96078,     0.96096,     0.96114,     0.96132,      0.9615,     0.96168,     0.96186,     0.96204,     0.96222,     0.96239,\n",
              "            0.96257,     0.96275,     0.96293,     0.96311,     0.96329,     0.96347,     0.96365,     0.96383,       0.964,     0.96418,     0.96436,     0.96454,     0.96472,     0.96509,      0.9655,     0.96592,     0.96634,     0.96675,     0.96717,     0.96759,       0.968,     0.96842,     0.96884,\n",
              "            0.96903,     0.96902,     0.96902,     0.96902,     0.96902,     0.96901,     0.96901,     0.96901,     0.96901,       0.969,       0.969,       0.969,       0.969,       0.969,     0.96899,     0.96899,     0.96899,     0.96899,     0.96898,     0.96898,     0.96898,     0.96898,     0.96897,\n",
              "            0.96897,     0.96897,     0.96897,     0.96896,     0.96896,     0.96896,     0.96896,     0.96896,     0.96895,     0.96895,     0.96895,     0.96895,     0.96894,     0.96894,     0.96894,     0.96894,     0.96893,     0.96893,     0.96893,     0.96893,     0.96893,     0.96892,     0.96892,\n",
              "            0.96892,     0.96892,     0.96891,     0.96891,     0.96891,     0.96891,      0.9689,      0.9689,      0.9689,      0.9689,      0.9689,     0.96889,     0.96889,     0.96888,     0.96886,     0.96883,     0.96881,     0.96878,     0.96876,     0.96874,     0.96873,     0.96872,     0.96872,\n",
              "            0.96871,      0.9687,     0.96869,     0.96868,     0.96867,     0.96866,     0.96865,     0.96864,     0.96863,     0.96862,     0.96861,     0.96877,     0.96897,     0.96917,     0.96937,     0.96957,     0.96977,     0.96997,     0.97018,     0.97038,     0.97058,     0.97078,     0.97098,\n",
              "            0.97118,     0.97138,     0.97158,     0.97178,     0.97198,     0.97219,     0.97239,     0.97259,     0.97279,     0.97297,     0.97297,     0.97297,     0.97297,     0.97297,     0.97297,     0.97297,     0.97296,     0.97296,     0.97296,     0.97296,     0.97296,     0.97296,     0.97296,\n",
              "            0.97296,     0.97295,     0.97295,     0.97295,     0.97295,     0.97295,     0.97295,     0.97295,     0.97295,     0.97294,     0.97294,     0.97294,     0.97294,     0.97294,     0.97294,     0.97294,     0.97294,     0.97293,     0.97293,     0.97293,     0.97293,     0.97293,     0.97293,\n",
              "            0.97293,     0.97293,     0.97293,     0.97292,     0.97292,     0.97292,     0.97292,     0.97292,     0.97292,     0.97292,     0.97292,     0.97291,     0.97291,     0.97291,     0.97291,     0.97291,     0.97291,     0.97291,     0.97291,      0.9729,      0.9729,      0.9729,      0.9729,\n",
              "             0.9729,      0.9729,      0.9729,      0.9729,     0.97289,     0.97289,     0.97289,     0.97289,     0.97289,     0.97289,     0.97289,     0.97289,     0.97288,     0.97288,     0.97288,     0.97288,     0.97288,     0.97288,     0.97288,     0.97288,     0.97288,     0.97287,     0.97287,\n",
              "            0.97287,     0.97287,     0.97287,     0.97287,     0.97287,     0.97287,     0.97286,     0.97286,     0.97286,     0.97286,     0.97286,     0.97286,     0.97286,     0.97286,     0.97285,     0.97285,     0.97285,     0.97286,     0.97299,     0.97311,     0.97323,     0.97336,     0.97348,\n",
              "            0.97361,     0.97373,     0.97385,     0.97398,      0.9741,     0.97423,     0.97435,     0.97448,      0.9746,     0.97472,     0.97485,     0.97497,      0.9751,     0.97522,     0.97535,     0.97547,     0.97559,     0.97572,     0.97584,     0.97597,     0.97609,     0.97621,     0.97634,\n",
              "            0.97646,     0.97659,     0.97671,     0.97684,     0.97696,     0.97708,     0.97721,     0.97727,     0.97725,     0.97724,     0.97722,      0.9772,     0.97719,     0.97717,     0.97759,     0.97825,     0.97891,     0.97956,     0.98022,     0.98088,     0.98153,     0.98164,     0.98163,\n",
              "            0.98161,      0.9816,     0.98158,     0.98157,     0.98156,     0.98156,     0.98155,     0.98155,     0.98155,     0.98154,     0.98154,     0.98153,     0.98153,     0.98152,     0.98152,     0.98151,     0.98151,     0.98151,      0.9815,      0.9815,     0.98149,     0.98149,     0.98148,\n",
              "            0.98148,     0.98148,     0.98148,     0.98147,     0.98147,     0.98147,     0.98147,     0.98147,     0.98146,     0.98146,     0.98146,     0.98146,     0.98145,     0.98145,     0.98145,     0.98145,     0.98145,     0.98144,     0.98144,     0.98144,     0.98144,     0.98143,     0.98143,\n",
              "            0.98143,     0.98143,     0.98143,     0.98142,     0.98142,     0.98142,     0.98142,     0.98141,     0.98141,     0.98141,     0.98141,     0.98141,      0.9814,      0.9814,      0.9814,      0.9814,     0.98139,     0.98139,     0.98139,     0.98139,     0.98139,     0.98139,     0.98139,\n",
              "            0.98139,     0.98138,     0.98138,     0.98138,     0.98138,     0.98138,     0.98138,     0.98138,     0.98137,     0.98137,     0.98137,     0.98137,     0.98137,     0.98137,     0.98137,     0.98137,     0.98136,     0.98136,     0.98136,     0.98136,     0.98136,     0.98136,     0.98136,\n",
              "            0.98135,     0.98135,     0.98135,     0.98135,     0.98135,     0.98135,     0.98135,     0.98134,     0.98134,     0.98134,     0.98134,     0.98134,     0.98134,     0.98134,     0.98134,     0.98133,     0.98133,     0.98133,     0.98133,     0.98133,     0.98133,     0.98133,     0.98132,\n",
              "            0.98132,     0.98132,     0.98132,     0.98132,     0.98132,     0.98132,     0.98132,     0.98131,     0.98131,     0.98131,     0.98131,     0.98131,      0.9813,     0.98129,     0.98128,     0.98127,     0.98126,     0.98125,     0.98125,     0.98124,     0.98123,      0.9812,     0.98114,\n",
              "            0.98112,     0.98111,      0.9811,     0.98109,     0.98108,     0.98107,     0.98106,     0.98105,     0.98161,     0.98267,     0.98373,      0.9848,     0.98571,     0.98571,     0.98571,      0.9857,      0.9857,      0.9857,     0.98569,     0.98569,     0.98569,     0.98569,     0.98568,\n",
              "            0.98568,     0.98568,     0.98567,     0.98567,     0.98567,     0.98566,     0.98566,     0.98566,     0.98565,     0.98565,     0.98565,     0.98587,     0.98621,     0.98654,     0.98688,     0.98721,     0.98755,     0.98788,     0.98822,     0.98855,     0.98889,     0.98922,     0.98956,\n",
              "            0.98989,     0.99023,     0.99038,     0.99038,     0.99037,     0.99037,     0.99037,     0.99036,     0.99036,     0.99035,     0.99035,     0.99035,     0.99034,     0.99085,     0.99249,     0.99414,     0.99514,     0.99514,     0.99514,     0.99514,     0.99513,     0.99513,     0.99513,\n",
              "            0.99513,     0.99512,     0.99512,     0.99512,     0.99511,     0.99511,      0.9951,      0.9951,     0.99509,     0.99508,     0.99507,     0.99507,     0.99507,     0.99506,     0.99506,     0.99506,     0.99506,     0.99505,     0.99505,     0.99504,       0.995,       0.995,     0.99499,\n",
              "            0.99499,     0.99498,     0.99498,     0.99497,     0.99497,     0.99496,     0.99496,     0.99495,     0.99495,     0.99494,     0.99494,     0.99493,     0.99493,     0.99491,     0.99489,     0.99488,     0.99487,     0.99486,     0.99486,     0.99485,     0.99483,      0.9948,     0.99479,\n",
              "            0.99478,     0.99478,     0.99477,     0.99476,     0.99475,     0.99474,     0.99471,      0.9947,      0.9947,     0.99469,     0.99468,     0.99467,     0.99466,     0.99461,     0.99525,     0.99649,     0.99773,     0.99897,           1,           1,           1,           1,           1,\n",
              "                  1,           1,           1,           1,           1,           1,           1,           1,           1,           1,           1,           1,           1,           1,           1,           1,           1,           1,           1,           1,           1,           1,           1,\n",
              "                  1,           1,           1,           1,           1,           1,           1,           1,           1,           1,           1,           1,           1,           1,           1,           1,           1,           1,           1,           1,           1,           1,           1,\n",
              "                  1,           1,           1,           1,           1,           1,           1,           1,           1,           1,           1,           1,           1,           1,           1,           1,           1,           1,           1,           1,           1,           1,           1,\n",
              "                  1,           1,           1,           1,           1,           1,           1,           1,           1,           1,           1,           1,           1,           1,           1,           1,           1,           1,           1,           1,           1,           1,           1,\n",
              "                  1,           1,           1,           1,           1,           1,           1,           1,           1,           1,           1,           1,           1,           1,           1,           1,           1,           1,           1,           1,           1,           1,           1,\n",
              "                  1,           1,           1,           1,           1,           1,           1,           1,           1,           1,           1,           1,           1,           1,           1,           1,           1,           1,           1,           1,           1,           1,           1,\n",
              "                  1,           1,           1,           1,           1,           1,           1,           1,           1,           1,           1]]), 'Confidence', 'Precision'], [array([          0,    0.001001,    0.002002,    0.003003,    0.004004,    0.005005,    0.006006,    0.007007,    0.008008,    0.009009,     0.01001,    0.011011,    0.012012,    0.013013,    0.014014,    0.015015,    0.016016,    0.017017,    0.018018,    0.019019,     0.02002,    0.021021,    0.022022,    0.023023,\n",
              "          0.024024,    0.025025,    0.026026,    0.027027,    0.028028,    0.029029,     0.03003,    0.031031,    0.032032,    0.033033,    0.034034,    0.035035,    0.036036,    0.037037,    0.038038,    0.039039,     0.04004,    0.041041,    0.042042,    0.043043,    0.044044,    0.045045,    0.046046,    0.047047,\n",
              "          0.048048,    0.049049,     0.05005,    0.051051,    0.052052,    0.053053,    0.054054,    0.055055,    0.056056,    0.057057,    0.058058,    0.059059,     0.06006,    0.061061,    0.062062,    0.063063,    0.064064,    0.065065,    0.066066,    0.067067,    0.068068,    0.069069,     0.07007,    0.071071,\n",
              "          0.072072,    0.073073,    0.074074,    0.075075,    0.076076,    0.077077,    0.078078,    0.079079,     0.08008,    0.081081,    0.082082,    0.083083,    0.084084,    0.085085,    0.086086,    0.087087,    0.088088,    0.089089,     0.09009,    0.091091,    0.092092,    0.093093,    0.094094,    0.095095,\n",
              "          0.096096,    0.097097,    0.098098,    0.099099,      0.1001,      0.1011,      0.1021,      0.1031,      0.1041,     0.10511,     0.10611,     0.10711,     0.10811,     0.10911,     0.11011,     0.11111,     0.11211,     0.11311,     0.11411,     0.11512,     0.11612,     0.11712,     0.11812,     0.11912,\n",
              "           0.12012,     0.12112,     0.12212,     0.12312,     0.12412,     0.12513,     0.12613,     0.12713,     0.12813,     0.12913,     0.13013,     0.13113,     0.13213,     0.13313,     0.13413,     0.13514,     0.13614,     0.13714,     0.13814,     0.13914,     0.14014,     0.14114,     0.14214,     0.14314,\n",
              "           0.14414,     0.14515,     0.14615,     0.14715,     0.14815,     0.14915,     0.15015,     0.15115,     0.15215,     0.15315,     0.15415,     0.15516,     0.15616,     0.15716,     0.15816,     0.15916,     0.16016,     0.16116,     0.16216,     0.16316,     0.16416,     0.16517,     0.16617,     0.16717,\n",
              "           0.16817,     0.16917,     0.17017,     0.17117,     0.17217,     0.17317,     0.17417,     0.17518,     0.17618,     0.17718,     0.17818,     0.17918,     0.18018,     0.18118,     0.18218,     0.18318,     0.18418,     0.18519,     0.18619,     0.18719,     0.18819,     0.18919,     0.19019,     0.19119,\n",
              "           0.19219,     0.19319,     0.19419,      0.1952,      0.1962,      0.1972,      0.1982,      0.1992,      0.2002,      0.2012,      0.2022,      0.2032,      0.2042,     0.20521,     0.20621,     0.20721,     0.20821,     0.20921,     0.21021,     0.21121,     0.21221,     0.21321,     0.21421,     0.21522,\n",
              "           0.21622,     0.21722,     0.21822,     0.21922,     0.22022,     0.22122,     0.22222,     0.22322,     0.22422,     0.22523,     0.22623,     0.22723,     0.22823,     0.22923,     0.23023,     0.23123,     0.23223,     0.23323,     0.23423,     0.23524,     0.23624,     0.23724,     0.23824,     0.23924,\n",
              "           0.24024,     0.24124,     0.24224,     0.24324,     0.24424,     0.24525,     0.24625,     0.24725,     0.24825,     0.24925,     0.25025,     0.25125,     0.25225,     0.25325,     0.25425,     0.25526,     0.25626,     0.25726,     0.25826,     0.25926,     0.26026,     0.26126,     0.26226,     0.26326,\n",
              "           0.26426,     0.26527,     0.26627,     0.26727,     0.26827,     0.26927,     0.27027,     0.27127,     0.27227,     0.27327,     0.27427,     0.27528,     0.27628,     0.27728,     0.27828,     0.27928,     0.28028,     0.28128,     0.28228,     0.28328,     0.28428,     0.28529,     0.28629,     0.28729,\n",
              "           0.28829,     0.28929,     0.29029,     0.29129,     0.29229,     0.29329,     0.29429,      0.2953,      0.2963,      0.2973,      0.2983,      0.2993,      0.3003,      0.3013,      0.3023,      0.3033,      0.3043,     0.30531,     0.30631,     0.30731,     0.30831,     0.30931,     0.31031,     0.31131,\n",
              "           0.31231,     0.31331,     0.31431,     0.31532,     0.31632,     0.31732,     0.31832,     0.31932,     0.32032,     0.32132,     0.32232,     0.32332,     0.32432,     0.32533,     0.32633,     0.32733,     0.32833,     0.32933,     0.33033,     0.33133,     0.33233,     0.33333,     0.33433,     0.33534,\n",
              "           0.33634,     0.33734,     0.33834,     0.33934,     0.34034,     0.34134,     0.34234,     0.34334,     0.34434,     0.34535,     0.34635,     0.34735,     0.34835,     0.34935,     0.35035,     0.35135,     0.35235,     0.35335,     0.35435,     0.35536,     0.35636,     0.35736,     0.35836,     0.35936,\n",
              "           0.36036,     0.36136,     0.36236,     0.36336,     0.36436,     0.36537,     0.36637,     0.36737,     0.36837,     0.36937,     0.37037,     0.37137,     0.37237,     0.37337,     0.37437,     0.37538,     0.37638,     0.37738,     0.37838,     0.37938,     0.38038,     0.38138,     0.38238,     0.38338,\n",
              "           0.38438,     0.38539,     0.38639,     0.38739,     0.38839,     0.38939,     0.39039,     0.39139,     0.39239,     0.39339,     0.39439,      0.3954,      0.3964,      0.3974,      0.3984,      0.3994,      0.4004,      0.4014,      0.4024,      0.4034,      0.4044,     0.40541,     0.40641,     0.40741,\n",
              "           0.40841,     0.40941,     0.41041,     0.41141,     0.41241,     0.41341,     0.41441,     0.41542,     0.41642,     0.41742,     0.41842,     0.41942,     0.42042,     0.42142,     0.42242,     0.42342,     0.42442,     0.42543,     0.42643,     0.42743,     0.42843,     0.42943,     0.43043,     0.43143,\n",
              "           0.43243,     0.43343,     0.43443,     0.43544,     0.43644,     0.43744,     0.43844,     0.43944,     0.44044,     0.44144,     0.44244,     0.44344,     0.44444,     0.44545,     0.44645,     0.44745,     0.44845,     0.44945,     0.45045,     0.45145,     0.45245,     0.45345,     0.45445,     0.45546,\n",
              "           0.45646,     0.45746,     0.45846,     0.45946,     0.46046,     0.46146,     0.46246,     0.46346,     0.46446,     0.46547,     0.46647,     0.46747,     0.46847,     0.46947,     0.47047,     0.47147,     0.47247,     0.47347,     0.47447,     0.47548,     0.47648,     0.47748,     0.47848,     0.47948,\n",
              "           0.48048,     0.48148,     0.48248,     0.48348,     0.48448,     0.48549,     0.48649,     0.48749,     0.48849,     0.48949,     0.49049,     0.49149,     0.49249,     0.49349,     0.49449,      0.4955,      0.4965,      0.4975,      0.4985,      0.4995,      0.5005,      0.5015,      0.5025,      0.5035,\n",
              "            0.5045,     0.50551,     0.50651,     0.50751,     0.50851,     0.50951,     0.51051,     0.51151,     0.51251,     0.51351,     0.51451,     0.51552,     0.51652,     0.51752,     0.51852,     0.51952,     0.52052,     0.52152,     0.52252,     0.52352,     0.52452,     0.52553,     0.52653,     0.52753,\n",
              "           0.52853,     0.52953,     0.53053,     0.53153,     0.53253,     0.53353,     0.53453,     0.53554,     0.53654,     0.53754,     0.53854,     0.53954,     0.54054,     0.54154,     0.54254,     0.54354,     0.54454,     0.54555,     0.54655,     0.54755,     0.54855,     0.54955,     0.55055,     0.55155,\n",
              "           0.55255,     0.55355,     0.55455,     0.55556,     0.55656,     0.55756,     0.55856,     0.55956,     0.56056,     0.56156,     0.56256,     0.56356,     0.56456,     0.56557,     0.56657,     0.56757,     0.56857,     0.56957,     0.57057,     0.57157,     0.57257,     0.57357,     0.57457,     0.57558,\n",
              "           0.57658,     0.57758,     0.57858,     0.57958,     0.58058,     0.58158,     0.58258,     0.58358,     0.58458,     0.58559,     0.58659,     0.58759,     0.58859,     0.58959,     0.59059,     0.59159,     0.59259,     0.59359,     0.59459,      0.5956,      0.5966,      0.5976,      0.5986,      0.5996,\n",
              "            0.6006,      0.6016,      0.6026,      0.6036,      0.6046,     0.60561,     0.60661,     0.60761,     0.60861,     0.60961,     0.61061,     0.61161,     0.61261,     0.61361,     0.61461,     0.61562,     0.61662,     0.61762,     0.61862,     0.61962,     0.62062,     0.62162,     0.62262,     0.62362,\n",
              "           0.62462,     0.62563,     0.62663,     0.62763,     0.62863,     0.62963,     0.63063,     0.63163,     0.63263,     0.63363,     0.63463,     0.63564,     0.63664,     0.63764,     0.63864,     0.63964,     0.64064,     0.64164,     0.64264,     0.64364,     0.64464,     0.64565,     0.64665,     0.64765,\n",
              "           0.64865,     0.64965,     0.65065,     0.65165,     0.65265,     0.65365,     0.65465,     0.65566,     0.65666,     0.65766,     0.65866,     0.65966,     0.66066,     0.66166,     0.66266,     0.66366,     0.66466,     0.66567,     0.66667,     0.66767,     0.66867,     0.66967,     0.67067,     0.67167,\n",
              "           0.67267,     0.67367,     0.67467,     0.67568,     0.67668,     0.67768,     0.67868,     0.67968,     0.68068,     0.68168,     0.68268,     0.68368,     0.68468,     0.68569,     0.68669,     0.68769,     0.68869,     0.68969,     0.69069,     0.69169,     0.69269,     0.69369,     0.69469,      0.6957,\n",
              "            0.6967,      0.6977,      0.6987,      0.6997,      0.7007,      0.7017,      0.7027,      0.7037,      0.7047,     0.70571,     0.70671,     0.70771,     0.70871,     0.70971,     0.71071,     0.71171,     0.71271,     0.71371,     0.71471,     0.71572,     0.71672,     0.71772,     0.71872,     0.71972,\n",
              "           0.72072,     0.72172,     0.72272,     0.72372,     0.72472,     0.72573,     0.72673,     0.72773,     0.72873,     0.72973,     0.73073,     0.73173,     0.73273,     0.73373,     0.73473,     0.73574,     0.73674,     0.73774,     0.73874,     0.73974,     0.74074,     0.74174,     0.74274,     0.74374,\n",
              "           0.74474,     0.74575,     0.74675,     0.74775,     0.74875,     0.74975,     0.75075,     0.75175,     0.75275,     0.75375,     0.75475,     0.75576,     0.75676,     0.75776,     0.75876,     0.75976,     0.76076,     0.76176,     0.76276,     0.76376,     0.76476,     0.76577,     0.76677,     0.76777,\n",
              "           0.76877,     0.76977,     0.77077,     0.77177,     0.77277,     0.77377,     0.77477,     0.77578,     0.77678,     0.77778,     0.77878,     0.77978,     0.78078,     0.78178,     0.78278,     0.78378,     0.78478,     0.78579,     0.78679,     0.78779,     0.78879,     0.78979,     0.79079,     0.79179,\n",
              "           0.79279,     0.79379,     0.79479,      0.7958,      0.7968,      0.7978,      0.7988,      0.7998,      0.8008,      0.8018,      0.8028,      0.8038,      0.8048,     0.80581,     0.80681,     0.80781,     0.80881,     0.80981,     0.81081,     0.81181,     0.81281,     0.81381,     0.81481,     0.81582,\n",
              "           0.81682,     0.81782,     0.81882,     0.81982,     0.82082,     0.82182,     0.82282,     0.82382,     0.82482,     0.82583,     0.82683,     0.82783,     0.82883,     0.82983,     0.83083,     0.83183,     0.83283,     0.83383,     0.83483,     0.83584,     0.83684,     0.83784,     0.83884,     0.83984,\n",
              "           0.84084,     0.84184,     0.84284,     0.84384,     0.84484,     0.84585,     0.84685,     0.84785,     0.84885,     0.84985,     0.85085,     0.85185,     0.85285,     0.85385,     0.85485,     0.85586,     0.85686,     0.85786,     0.85886,     0.85986,     0.86086,     0.86186,     0.86286,     0.86386,\n",
              "           0.86486,     0.86587,     0.86687,     0.86787,     0.86887,     0.86987,     0.87087,     0.87187,     0.87287,     0.87387,     0.87487,     0.87588,     0.87688,     0.87788,     0.87888,     0.87988,     0.88088,     0.88188,     0.88288,     0.88388,     0.88488,     0.88589,     0.88689,     0.88789,\n",
              "           0.88889,     0.88989,     0.89089,     0.89189,     0.89289,     0.89389,     0.89489,      0.8959,      0.8969,      0.8979,      0.8989,      0.8999,      0.9009,      0.9019,      0.9029,      0.9039,      0.9049,     0.90591,     0.90691,     0.90791,     0.90891,     0.90991,     0.91091,     0.91191,\n",
              "           0.91291,     0.91391,     0.91491,     0.91592,     0.91692,     0.91792,     0.91892,     0.91992,     0.92092,     0.92192,     0.92292,     0.92392,     0.92492,     0.92593,     0.92693,     0.92793,     0.92893,     0.92993,     0.93093,     0.93193,     0.93293,     0.93393,     0.93493,     0.93594,\n",
              "           0.93694,     0.93794,     0.93894,     0.93994,     0.94094,     0.94194,     0.94294,     0.94394,     0.94494,     0.94595,     0.94695,     0.94795,     0.94895,     0.94995,     0.95095,     0.95195,     0.95295,     0.95395,     0.95495,     0.95596,     0.95696,     0.95796,     0.95896,     0.95996,\n",
              "           0.96096,     0.96196,     0.96296,     0.96396,     0.96496,     0.96597,     0.96697,     0.96797,     0.96897,     0.96997,     0.97097,     0.97197,     0.97297,     0.97397,     0.97497,     0.97598,     0.97698,     0.97798,     0.97898,     0.97998,     0.98098,     0.98198,     0.98298,     0.98398,\n",
              "           0.98498,     0.98599,     0.98699,     0.98799,     0.98899,     0.98999,     0.99099,     0.99199,     0.99299,     0.99399,     0.99499,       0.996,       0.997,       0.998,       0.999,           1]), array([[          1,           1,           1,           1,           1,           1,           1,           1,           1,           1,           1,           1,           1,           1,           1,           1,           1,           1,           1,           1,           1,           1,           1,\n",
              "                  1,           1,           1,           1,           1,           1,           1,           1,           1,           1,           1,           1,           1,           1,           1,           1,           1,           1,           1,           1,           1,           1,           1,\n",
              "                  1,           1,           1,           1,           1,           1,           1,           1,           1,           1,           1,           1,           1,           1,           1,           1,           1,           1,           1,           1,           1,           1,           1,\n",
              "                  1,           1,           1,           1,           1,           1,           1,           1,           1,           1,           1,           1,           1,           1,           1,           1,           1,           1,           1,           1,           1,           1,           1,\n",
              "                  1,           1,           1,           1,           1,           1,           1,           1,           1,           1,           1,           1,           1,           1,           1,           1,           1,           1,           1,           1,           1,           1,           1,\n",
              "                  1,           1,           1,           1,           1,           1,           1,           1,           1,           1,           1,           1,           1,           1,           1,           1,           1,           1,           1,           1,           1,           1,           1,\n",
              "                  1,           1,           1,           1,           1,           1,           1,           1,           1,           1,           1,           1,           1,           1,           1,           1,           1,           1,           1,           1,           1,           1,           1,\n",
              "                  1,           1,           1,           1,           1,           1,           1,           1,           1,           1,           1,           1,           1,           1,           1,           1,           1,           1,           1,           1,           1,           1,           1,\n",
              "                  1,           1,           1,           1,           1,           1,           1,           1,           1,           1,           1,           1,           1,           1,           1,     0.99979,     0.99935,      0.9989,     0.99846,     0.99801,     0.99757,     0.99712,     0.99668,\n",
              "            0.99623,     0.99579,      0.9955,      0.9955,      0.9955,      0.9955,      0.9955,      0.9955,      0.9955,      0.9955,      0.9955,      0.9955,      0.9955,      0.9955,      0.9955,      0.9955,      0.9955,      0.9955,      0.9955,      0.9955,      0.9955,      0.9955,      0.9955,\n",
              "             0.9955,      0.9955,      0.9955,      0.9955,      0.9955,      0.9955,      0.9955,      0.9955,      0.9955,      0.9955,      0.9955,      0.9955,      0.9955,      0.9955,      0.9955,      0.9955,      0.9955,      0.9955,      0.9955,      0.9955,      0.9955,      0.9955,      0.9955,\n",
              "            0.99547,     0.99513,      0.9948,     0.99446,     0.99413,     0.99379,     0.99345,     0.99312,     0.99278,     0.99245,     0.99211,     0.99178,     0.99144,      0.9911,     0.99064,     0.99011,     0.98958,     0.98906,     0.98853,       0.988,     0.98747,     0.98695,     0.98649,\n",
              "            0.98649,     0.98649,     0.98649,     0.98649,     0.98649,     0.98649,     0.98649,     0.98649,     0.98649,     0.98649,     0.98649,     0.98649,     0.98649,     0.98649,     0.98649,     0.98649,     0.98649,     0.98649,     0.98649,     0.98649,     0.98649,     0.98649,     0.98649,\n",
              "            0.98649,     0.98649,     0.98649,     0.98649,     0.98649,     0.98649,     0.98649,     0.98649,     0.98649,     0.98649,     0.98649,     0.98649,     0.98649,     0.98649,     0.98649,     0.98649,     0.98649,     0.98649,     0.98649,     0.98649,     0.98649,     0.98649,     0.98649,\n",
              "            0.98645,     0.98637,     0.98629,     0.98622,     0.98614,     0.98607,     0.98599,     0.98591,     0.98584,     0.98576,     0.98569,     0.98561,     0.98553,     0.98546,     0.98538,     0.98531,     0.98523,     0.98515,     0.98508,       0.985,     0.98493,     0.98485,     0.98477,\n",
              "             0.9847,     0.98462,     0.98455,     0.98447,     0.98439,     0.98432,     0.98424,     0.98416,     0.98409,     0.98401,     0.98394,     0.98386,     0.98378,     0.98371,     0.98363,     0.98356,     0.98348,      0.9834,     0.98333,     0.98325,     0.98318,      0.9831,     0.98302,\n",
              "            0.98295,     0.98287,      0.9828,     0.98272,     0.98264,     0.98257,     0.98249,     0.98242,     0.98234,     0.98226,     0.98219,     0.98211,     0.98204,     0.98176,     0.98096,     0.98015,     0.97935,     0.97855,     0.97774,     0.97728,     0.97697,     0.97667,     0.97637,\n",
              "            0.97606,     0.97576,     0.97546,     0.97516,     0.97485,     0.97455,     0.97425,     0.97394,     0.97364,     0.97334,     0.97304,     0.97297,     0.97297,     0.97297,     0.97297,     0.97297,     0.97297,     0.97297,     0.97297,     0.97297,     0.97297,     0.97297,     0.97297,\n",
              "            0.97297,     0.97297,     0.97297,     0.97297,     0.97297,     0.97297,     0.97297,     0.97297,     0.97297,     0.97297,     0.97292,     0.97288,     0.97283,     0.97279,     0.97274,      0.9727,     0.97265,     0.97261,     0.97256,     0.97252,     0.97247,     0.97243,     0.97238,\n",
              "            0.97234,     0.97229,     0.97225,      0.9722,     0.97216,     0.97211,     0.97207,     0.97202,     0.97198,     0.97193,     0.97189,     0.97184,      0.9718,     0.97175,     0.97171,     0.97166,     0.97162,     0.97157,     0.97153,     0.97148,     0.97144,     0.97139,     0.97135,\n",
              "             0.9713,     0.97126,     0.97121,     0.97117,     0.97112,     0.97108,     0.97103,     0.97099,     0.97094,      0.9709,     0.97085,     0.97081,     0.97076,     0.97072,     0.97067,     0.97063,     0.97058,     0.97054,     0.97049,     0.97045,      0.9704,     0.97036,     0.97031,\n",
              "            0.97027,     0.97022,     0.97018,     0.97013,     0.97009,     0.97004,        0.97,     0.96995,     0.96991,     0.96986,     0.96982,     0.96977,     0.96973,     0.96968,     0.96964,     0.96959,     0.96955,      0.9695,     0.96946,     0.96941,     0.96937,     0.96932,     0.96928,\n",
              "            0.96923,     0.96919,     0.96914,      0.9691,     0.96905,     0.96901,     0.96896,     0.96892,     0.96887,     0.96882,     0.96878,     0.96873,     0.96869,     0.96864,      0.9686,     0.96855,     0.96851,     0.96847,     0.96847,     0.96847,     0.96847,     0.96847,     0.96847,\n",
              "            0.96847,     0.96847,     0.96847,     0.96847,     0.96847,     0.96847,     0.96847,     0.96847,     0.96847,     0.96847,     0.96847,     0.96847,     0.96847,     0.96847,     0.96847,     0.96847,     0.96847,     0.96847,     0.96847,     0.96847,     0.96847,     0.96847,     0.96847,\n",
              "            0.96847,     0.96847,     0.96847,     0.96847,     0.96847,     0.96847,     0.96847,     0.96815,     0.96749,     0.96683,     0.96617,     0.96552,     0.96486,      0.9642,     0.96396,     0.96396,     0.96396,     0.96396,     0.96396,     0.96396,     0.96396,     0.96333,     0.96256,\n",
              "            0.96179,     0.96103,     0.96026,     0.95949,     0.95924,     0.95901,     0.95877,     0.95854,     0.95831,     0.95808,     0.95785,     0.95762,     0.95739,     0.95716,     0.95693,      0.9567,     0.95647,     0.95624,       0.956,     0.95577,     0.95554,     0.95531,     0.95508,\n",
              "             0.9549,     0.95479,     0.95467,     0.95456,     0.95444,     0.95433,     0.95421,     0.95409,     0.95398,     0.95386,     0.95375,     0.95363,     0.95352,      0.9534,     0.95329,     0.95317,     0.95306,     0.95294,     0.95282,     0.95271,     0.95259,     0.95248,     0.95236,\n",
              "            0.95225,     0.95213,     0.95202,      0.9519,     0.95179,     0.95167,     0.95156,     0.95144,     0.95132,     0.95121,     0.95109,     0.95098,     0.95086,     0.95075,     0.95063,     0.95052,     0.95042,     0.95035,     0.95028,     0.95021,     0.95014,     0.95007,        0.95,\n",
              "            0.94993,     0.94986,     0.94979,     0.94972,     0.94965,     0.94958,     0.94951,     0.94944,     0.94937,      0.9493,     0.94923,     0.94916,     0.94909,     0.94902,     0.94895,     0.94888,     0.94881,     0.94874,     0.94867,      0.9486,     0.94853,     0.94846,     0.94839,\n",
              "            0.94832,     0.94825,     0.94818,     0.94811,     0.94804,     0.94797,      0.9479,     0.94783,     0.94776,     0.94769,     0.94762,     0.94755,     0.94748,     0.94741,     0.94734,     0.94727,      0.9472,     0.94713,     0.94706,     0.94699,     0.94692,     0.94685,     0.94678,\n",
              "            0.94671,     0.94664,     0.94657,      0.9465,     0.94643,     0.94636,     0.94629,     0.94622,     0.94615,     0.94608,     0.94601,     0.94593,     0.94547,       0.945,     0.94454,     0.94408,     0.94362,     0.94316,     0.94269,     0.94223,     0.94177,     0.94056,     0.93748,\n",
              "            0.93649,     0.93595,      0.9354,     0.93486,     0.93432,     0.93377,     0.93323,     0.93269,     0.93243,     0.93243,     0.93243,     0.93243,      0.9324,     0.93219,     0.93198,     0.93177,     0.93156,     0.93135,     0.93114,     0.93093,     0.93072,     0.93051,      0.9303,\n",
              "            0.93009,     0.92988,     0.92967,     0.92946,     0.92926,     0.92905,     0.92884,     0.92863,     0.92842,     0.92821,       0.928,     0.92793,     0.92793,     0.92793,     0.92793,     0.92793,     0.92793,     0.92793,     0.92793,     0.92793,     0.92793,     0.92793,     0.92793,\n",
              "            0.92793,     0.92793,     0.92771,     0.92731,     0.92691,     0.92651,     0.92611,     0.92571,     0.92531,      0.9249,      0.9245,      0.9241,      0.9237,     0.92342,     0.92342,     0.92342,     0.92324,     0.92275,     0.92226,     0.92178,     0.92129,     0.92081,     0.92032,\n",
              "            0.91983,     0.91935,     0.91882,     0.91798,     0.91714,      0.9163,     0.91546,     0.91462,     0.91303,     0.91118,     0.90975,     0.90924,     0.90872,     0.90821,      0.9077,     0.90718,     0.90667,     0.90616,     0.90565,     0.90377,     0.89634,     0.89557,      0.8948,\n",
              "            0.89404,     0.89327,      0.8925,     0.89169,     0.89077,     0.88985,     0.88892,       0.888,     0.88708,     0.88615,     0.88523,     0.88431,     0.88338,     0.88076,     0.87749,     0.87564,     0.87382,      0.8725,     0.87118,     0.86986,     0.86646,     0.86184,     0.85966,\n",
              "            0.85864,     0.85761,     0.85659,     0.85532,     0.85348,     0.85163,     0.84743,     0.84595,     0.84492,      0.8439,     0.84287,     0.84123,     0.83892,     0.83087,     0.82432,     0.82432,     0.82432,     0.82432,     0.82423,     0.82365,     0.82307,      0.8225,     0.82192,\n",
              "            0.82134,     0.82077,     0.82019,     0.81898,     0.81667,     0.80986,     0.80755,     0.80418,     0.79506,     0.78376,     0.78261,     0.78145,      0.7803,     0.77912,      0.7778,     0.77648,     0.77517,     0.76702,     0.76408,     0.76178,     0.75767,     0.75429,     0.75069,\n",
              "            0.74257,     0.74073,     0.73888,     0.72546,     0.72435,     0.72343,      0.7225,     0.72158,     0.71139,     0.70633,      0.7013,     0.69899,     0.69618,      0.6931,     0.69002,     0.68582,     0.68295,     0.68064,     0.67321,      0.6606,      0.6543,     0.65154,     0.64969,\n",
              "            0.64462,     0.63976,     0.63401,     0.63171,     0.61916,     0.60328,     0.59822,     0.58822,     0.58426,     0.57355,     0.56579,      0.5553,      0.5338,     0.52979,     0.52748,     0.51656,     0.50588,     0.49214,     0.48695,     0.48151,     0.48035,      0.4792,     0.47804,\n",
              "            0.47287,     0.46353,     0.44562,     0.43605,     0.42231,     0.41247,     0.40835,       0.391,     0.38538,     0.36713,     0.34438,     0.33424,     0.32737,     0.32119,      0.3172,     0.30902,     0.30249,     0.27073,     0.26284,     0.25677,     0.24317,     0.24009,     0.22456,\n",
              "            0.21082,     0.20533,     0.19686,     0.19066,     0.18604,     0.17816,     0.17061,      0.1683,     0.16532,     0.15474,      0.1365,     0.12951,     0.12643,     0.12196,     0.11735,      0.1074,     0.10586,     0.10432,    0.098657,    0.092009,    0.084236,    0.081928,    0.071803,\n",
              "           0.069956,     0.06811,    0.066635,    0.065316,    0.063997,    0.060367,    0.052993,    0.051674,    0.050355,     0.04835,    0.045272,    0.040768,    0.039077,    0.037538,    0.035926,    0.031085,    0.017682,    0.013214,    0.010136,   0.0060827,           0,           0,           0,\n",
              "                  0,           0,           0,           0,           0,           0,           0,           0,           0,           0,           0]]), 'Confidence', 'Recall']]\n",
              "fitness: 0.9023256253448301\n",
              "keys: ['metrics/precision(B)', 'metrics/recall(B)', 'metrics/mAP50(B)', 'metrics/mAP50-95(B)']\n",
              "maps: array([    0.89228])\n",
              "names: {0: 'bracket'}\n",
              "plot: True\n",
              "results_dict: {'metrics/precision(B)': 0.9689904434380036, 'metrics/recall(B)': 0.9853050507223199, 'metrics/mAP50(B)': 0.9927671045337635, 'metrics/mAP50-95(B)': 0.8922765721016152, 'fitness': 0.9023256253448301}\n",
              "save_dir: PosixPath('runs/detect/train')\n",
              "speed: {'preprocess': 0.2216916335256476, 'inference': 2.736781772814299, 'loss': 0.0007779974686472039, 'postprocess': 1.4049755899529708}\n",
              "task: 'detect'"
            ]
          },
          "metadata": {},
          "execution_count": 3
        }
      ]
    },
    {
      "cell_type": "code",
      "source": [
        "# Load and train the teeth detection model\n",
        "from ultralytics import YOLO\n",
        "teeth_model = YOLO('yolov8n.pt')\n",
        "teeth_model.train(data='/content/drive/MyDrive/teeth.v1i.yolov8/data.yaml', epochs=30, imgsz=640, val=False)"
      ],
      "metadata": {
        "id": "78puTfQUmuDr",
        "colab": {
          "base_uri": "https://localhost:8080/",
          "height": 1000
        },
        "outputId": "d8a3bb88-62c5-4617-e971-58f5797bf04c"
      },
      "execution_count": 4,
      "outputs": [
        {
          "output_type": "stream",
          "name": "stdout",
          "text": [
            "Ultralytics 8.3.21 🚀 Python-3.10.12 torch-2.5.0+cu121 CUDA:0 (Tesla T4, 15102MiB)\n",
            "\u001b[34m\u001b[1mengine/trainer: \u001b[0mtask=detect, mode=train, model=yolov8n.pt, data=/content/drive/MyDrive/teeth.v1i.yolov8/data.yaml, epochs=30, time=None, patience=100, batch=16, imgsz=640, save=True, save_period=-1, cache=False, device=None, workers=8, project=None, name=train2, exist_ok=False, pretrained=True, optimizer=auto, verbose=True, seed=0, deterministic=True, single_cls=False, rect=False, cos_lr=False, close_mosaic=10, resume=False, amp=True, fraction=1.0, profile=False, freeze=None, multi_scale=False, overlap_mask=True, mask_ratio=4, dropout=0.0, val=False, split=val, save_json=False, save_hybrid=False, conf=None, iou=0.7, max_det=300, half=False, dnn=False, plots=True, source=None, vid_stride=1, stream_buffer=False, visualize=False, augment=False, agnostic_nms=False, classes=None, retina_masks=False, embed=None, show=False, save_frames=False, save_txt=False, save_conf=False, save_crop=False, show_labels=True, show_conf=True, show_boxes=True, line_width=None, format=torchscript, keras=False, optimize=False, int8=False, dynamic=False, simplify=True, opset=None, workspace=4, nms=False, lr0=0.01, lrf=0.01, momentum=0.937, weight_decay=0.0005, warmup_epochs=3.0, warmup_momentum=0.8, warmup_bias_lr=0.1, box=7.5, cls=0.5, dfl=1.5, pose=12.0, kobj=1.0, label_smoothing=0.0, nbs=64, hsv_h=0.015, hsv_s=0.7, hsv_v=0.4, degrees=0.0, translate=0.1, scale=0.5, shear=0.0, perspective=0.0, flipud=0.0, fliplr=0.5, bgr=0.0, mosaic=1.0, mixup=0.0, copy_paste=0.0, copy_paste_mode=flip, auto_augment=randaugment, erasing=0.4, crop_fraction=1.0, cfg=None, tracker=botsort.yaml, save_dir=runs/detect/train2\n",
            "Overriding model.yaml nc=80 with nc=1\n",
            "\n",
            "                   from  n    params  module                                       arguments                     \n",
            "  0                  -1  1       464  ultralytics.nn.modules.conv.Conv             [3, 16, 3, 2]                 \n",
            "  1                  -1  1      4672  ultralytics.nn.modules.conv.Conv             [16, 32, 3, 2]                \n",
            "  2                  -1  1      7360  ultralytics.nn.modules.block.C2f             [32, 32, 1, True]             \n",
            "  3                  -1  1     18560  ultralytics.nn.modules.conv.Conv             [32, 64, 3, 2]                \n",
            "  4                  -1  2     49664  ultralytics.nn.modules.block.C2f             [64, 64, 2, True]             \n",
            "  5                  -1  1     73984  ultralytics.nn.modules.conv.Conv             [64, 128, 3, 2]               \n",
            "  6                  -1  2    197632  ultralytics.nn.modules.block.C2f             [128, 128, 2, True]           \n",
            "  7                  -1  1    295424  ultralytics.nn.modules.conv.Conv             [128, 256, 3, 2]              \n",
            "  8                  -1  1    460288  ultralytics.nn.modules.block.C2f             [256, 256, 1, True]           \n",
            "  9                  -1  1    164608  ultralytics.nn.modules.block.SPPF            [256, 256, 5]                 \n",
            " 10                  -1  1         0  torch.nn.modules.upsampling.Upsample         [None, 2, 'nearest']          \n",
            " 11             [-1, 6]  1         0  ultralytics.nn.modules.conv.Concat           [1]                           \n",
            " 12                  -1  1    148224  ultralytics.nn.modules.block.C2f             [384, 128, 1]                 \n",
            " 13                  -1  1         0  torch.nn.modules.upsampling.Upsample         [None, 2, 'nearest']          \n",
            " 14             [-1, 4]  1         0  ultralytics.nn.modules.conv.Concat           [1]                           \n",
            " 15                  -1  1     37248  ultralytics.nn.modules.block.C2f             [192, 64, 1]                  \n",
            " 16                  -1  1     36992  ultralytics.nn.modules.conv.Conv             [64, 64, 3, 2]                \n",
            " 17            [-1, 12]  1         0  ultralytics.nn.modules.conv.Concat           [1]                           \n",
            " 18                  -1  1    123648  ultralytics.nn.modules.block.C2f             [192, 128, 1]                 \n",
            " 19                  -1  1    147712  ultralytics.nn.modules.conv.Conv             [128, 128, 3, 2]              \n",
            " 20             [-1, 9]  1         0  ultralytics.nn.modules.conv.Concat           [1]                           \n",
            " 21                  -1  1    493056  ultralytics.nn.modules.block.C2f             [384, 256, 1]                 \n",
            " 22        [15, 18, 21]  1    751507  ultralytics.nn.modules.head.Detect           [1, [64, 128, 256]]           \n",
            "Model summary: 225 layers, 3,011,043 parameters, 3,011,027 gradients, 8.2 GFLOPs\n",
            "\n",
            "Transferred 319/355 items from pretrained weights\n",
            "\u001b[34m\u001b[1mTensorBoard: \u001b[0mStart with 'tensorboard --logdir runs/detect/train2', view at http://localhost:6006/\n"
          ]
        },
        {
          "output_type": "stream",
          "name": "stderr",
          "text": [
            "\u001b[34m\u001b[1mwandb\u001b[0m: Currently logged in as: \u001b[33mchandanab-bsc22\u001b[0m (\u001b[33mchandanab-bsc22-rv-university\u001b[0m). Use \u001b[1m`wandb login --relogin`\u001b[0m to force relogin\n"
          ]
        },
        {
          "output_type": "display_data",
          "data": {
            "text/plain": [
              "<IPython.core.display.HTML object>"
            ],
            "text/html": [
              "Tracking run with wandb version 0.18.5"
            ]
          },
          "metadata": {}
        },
        {
          "output_type": "display_data",
          "data": {
            "text/plain": [
              "<IPython.core.display.HTML object>"
            ],
            "text/html": [
              "Run data is saved locally in <code>/content/wandb/run-20241024_091059-zskenaiw</code>"
            ]
          },
          "metadata": {}
        },
        {
          "output_type": "display_data",
          "data": {
            "text/plain": [
              "<IPython.core.display.HTML object>"
            ],
            "text/html": [
              "Syncing run <strong><a href='https://wandb.ai/chandanab-bsc22-rv-university/Ultralytics/runs/zskenaiw' target=\"_blank\">train2</a></strong> to <a href='https://wandb.ai/chandanab-bsc22-rv-university/Ultralytics' target=\"_blank\">Weights & Biases</a> (<a href='https://wandb.me/run' target=\"_blank\">docs</a>)<br/>"
            ]
          },
          "metadata": {}
        },
        {
          "output_type": "display_data",
          "data": {
            "text/plain": [
              "<IPython.core.display.HTML object>"
            ],
            "text/html": [
              " View project at <a href='https://wandb.ai/chandanab-bsc22-rv-university/Ultralytics' target=\"_blank\">https://wandb.ai/chandanab-bsc22-rv-university/Ultralytics</a>"
            ]
          },
          "metadata": {}
        },
        {
          "output_type": "display_data",
          "data": {
            "text/plain": [
              "<IPython.core.display.HTML object>"
            ],
            "text/html": [
              " View run at <a href='https://wandb.ai/chandanab-bsc22-rv-university/Ultralytics/runs/zskenaiw' target=\"_blank\">https://wandb.ai/chandanab-bsc22-rv-university/Ultralytics/runs/zskenaiw</a>"
            ]
          },
          "metadata": {}
        },
        {
          "output_type": "stream",
          "name": "stdout",
          "text": [
            "Freezing layer 'model.22.dfl.conv.weight'\n",
            "\u001b[34m\u001b[1mAMP: \u001b[0mrunning Automatic Mixed Precision (AMP) checks...\n",
            "\u001b[34m\u001b[1mAMP: \u001b[0mchecks passed ✅\n"
          ]
        },
        {
          "output_type": "stream",
          "name": "stderr",
          "text": [
            "\u001b[34m\u001b[1mtrain: \u001b[0mScanning /content/drive/MyDrive/DataBase/teeth.v1i.yolov8/train/labels.cache... 36 images, 0 backgrounds, 0 corrupt: 100%|██████████| 36/36 [00:00<?, ?it/s]"
          ]
        },
        {
          "output_type": "stream",
          "name": "stdout",
          "text": [
            "\u001b[34m\u001b[1malbumentations: \u001b[0mBlur(p=0.01, blur_limit=(3, 7)), MedianBlur(p=0.01, blur_limit=(3, 7)), ToGray(p=0.01, num_output_channels=3, method='weighted_average'), CLAHE(p=0.01, clip_limit=(1, 4.0), tile_grid_size=(8, 8))\n"
          ]
        },
        {
          "output_type": "stream",
          "name": "stderr",
          "text": [
            "\n",
            "\u001b[34m\u001b[1mval: \u001b[0mScanning /content/drive/MyDrive/DataBase/teeth.v1i.yolov8/valid/labels.cache... 36 images, 0 backgrounds, 0 corrupt: 100%|██████████| 36/36 [00:00<?, ?it/s]\n"
          ]
        },
        {
          "output_type": "stream",
          "name": "stdout",
          "text": [
            "Plotting labels to runs/detect/train2/labels.jpg... \n",
            "\u001b[34m\u001b[1moptimizer:\u001b[0m 'optimizer=auto' found, ignoring 'lr0=0.01' and 'momentum=0.937' and determining best 'optimizer', 'lr0' and 'momentum' automatically... \n",
            "\u001b[34m\u001b[1moptimizer:\u001b[0m AdamW(lr=0.002, momentum=0.9) with parameter groups 57 weight(decay=0.0), 64 weight(decay=0.0005), 63 bias(decay=0.0)\n",
            "\u001b[34m\u001b[1mTensorBoard: \u001b[0mmodel graph visualization added ✅\n",
            "Image sizes 640 train, 640 val\n",
            "Using 2 dataloader workers\n",
            "Logging results to \u001b[1mruns/detect/train2\u001b[0m\n",
            "Starting training for 30 epochs...\n",
            "\n",
            "      Epoch    GPU_mem   box_loss   cls_loss   dfl_loss  Instances       Size\n"
          ]
        },
        {
          "output_type": "stream",
          "name": "stderr",
          "text": [
            "       1/30       2.4G       1.27      3.385      1.425        141        640: 100%|██████████| 3/3 [00:01<00:00,  1.60it/s]\n"
          ]
        },
        {
          "output_type": "stream",
          "name": "stdout",
          "text": [
            "\n",
            "      Epoch    GPU_mem   box_loss   cls_loss   dfl_loss  Instances       Size\n"
          ]
        },
        {
          "output_type": "stream",
          "name": "stderr",
          "text": [
            "       2/30      2.35G       1.24       3.38      1.407         71        640: 100%|██████████| 3/3 [00:00<00:00,  3.38it/s]\n"
          ]
        },
        {
          "output_type": "stream",
          "name": "stdout",
          "text": [
            "\n",
            "      Epoch    GPU_mem   box_loss   cls_loss   dfl_loss  Instances       Size\n"
          ]
        },
        {
          "output_type": "stream",
          "name": "stderr",
          "text": [
            "       3/30      2.47G      1.039      3.051      1.227        110        640: 100%|██████████| 3/3 [00:01<00:00,  2.20it/s]\n"
          ]
        },
        {
          "output_type": "stream",
          "name": "stdout",
          "text": [
            "\n",
            "      Epoch    GPU_mem   box_loss   cls_loss   dfl_loss  Instances       Size\n"
          ]
        },
        {
          "output_type": "stream",
          "name": "stderr",
          "text": [
            "       4/30       2.5G     0.8555      2.279      1.045         64        640: 100%|██████████| 3/3 [00:01<00:00,  2.12it/s]\n"
          ]
        },
        {
          "output_type": "stream",
          "name": "stdout",
          "text": [
            "\n",
            "      Epoch    GPU_mem   box_loss   cls_loss   dfl_loss  Instances       Size\n"
          ]
        },
        {
          "output_type": "stream",
          "name": "stderr",
          "text": [
            "       5/30      2.45G     0.8479       1.58     0.9915         76        640: 100%|██████████| 3/3 [00:01<00:00,  2.11it/s]\n"
          ]
        },
        {
          "output_type": "stream",
          "name": "stdout",
          "text": [
            "\n",
            "      Epoch    GPU_mem   box_loss   cls_loss   dfl_loss  Instances       Size\n"
          ]
        },
        {
          "output_type": "stream",
          "name": "stderr",
          "text": [
            "       6/30      2.45G     0.8923      1.243      1.004        104        640: 100%|██████████| 3/3 [00:01<00:00,  2.35it/s]\n"
          ]
        },
        {
          "output_type": "stream",
          "name": "stdout",
          "text": [
            "\n",
            "      Epoch    GPU_mem   box_loss   cls_loss   dfl_loss  Instances       Size\n"
          ]
        },
        {
          "output_type": "stream",
          "name": "stderr",
          "text": [
            "       7/30      2.39G     0.7987      1.034     0.9894        108        640: 100%|██████████| 3/3 [00:00<00:00,  4.14it/s]\n"
          ]
        },
        {
          "output_type": "stream",
          "name": "stdout",
          "text": [
            "\n",
            "      Epoch    GPU_mem   box_loss   cls_loss   dfl_loss  Instances       Size\n"
          ]
        },
        {
          "output_type": "stream",
          "name": "stderr",
          "text": [
            "       8/30      2.46G     0.8313     0.9708     0.9657        141        640: 100%|██████████| 3/3 [00:00<00:00,  4.02it/s]\n"
          ]
        },
        {
          "output_type": "stream",
          "name": "stdout",
          "text": [
            "\n",
            "      Epoch    GPU_mem   box_loss   cls_loss   dfl_loss  Instances       Size\n"
          ]
        },
        {
          "output_type": "stream",
          "name": "stderr",
          "text": [
            "       9/30      2.43G     0.8211     0.9258     0.9742        157        640: 100%|██████████| 3/3 [00:00<00:00,  3.53it/s]\n"
          ]
        },
        {
          "output_type": "stream",
          "name": "stdout",
          "text": [
            "\n",
            "      Epoch    GPU_mem   box_loss   cls_loss   dfl_loss  Instances       Size\n"
          ]
        },
        {
          "output_type": "stream",
          "name": "stderr",
          "text": [
            "      10/30      2.52G     0.8001     0.8611     0.9747        124        640: 100%|██████████| 3/3 [00:00<00:00,  4.06it/s]\n"
          ]
        },
        {
          "output_type": "stream",
          "name": "stdout",
          "text": [
            "\n",
            "      Epoch    GPU_mem   box_loss   cls_loss   dfl_loss  Instances       Size\n"
          ]
        },
        {
          "output_type": "stream",
          "name": "stderr",
          "text": [
            "      11/30      2.43G     0.7651     0.8375     0.9718         72        640: 100%|██████████| 3/3 [00:00<00:00,  3.60it/s]\n"
          ]
        },
        {
          "output_type": "stream",
          "name": "stdout",
          "text": [
            "\n",
            "      Epoch    GPU_mem   box_loss   cls_loss   dfl_loss  Instances       Size\n"
          ]
        },
        {
          "output_type": "stream",
          "name": "stderr",
          "text": [
            "      12/30      2.42G     0.7407     0.8048     0.9719        105        640: 100%|██████████| 3/3 [00:01<00:00,  2.82it/s]\n"
          ]
        },
        {
          "output_type": "stream",
          "name": "stdout",
          "text": [
            "\n",
            "      Epoch    GPU_mem   box_loss   cls_loss   dfl_loss  Instances       Size\n"
          ]
        },
        {
          "output_type": "stream",
          "name": "stderr",
          "text": [
            "      13/30      2.43G     0.7279     0.7797     0.9607         97        640: 100%|██████████| 3/3 [00:01<00:00,  2.41it/s]\n"
          ]
        },
        {
          "output_type": "stream",
          "name": "stdout",
          "text": [
            "\n",
            "      Epoch    GPU_mem   box_loss   cls_loss   dfl_loss  Instances       Size\n"
          ]
        },
        {
          "output_type": "stream",
          "name": "stderr",
          "text": [
            "      14/30      2.43G     0.6987     0.7896     0.9609         64        640: 100%|██████████| 3/3 [00:01<00:00,  2.65it/s]\n"
          ]
        },
        {
          "output_type": "stream",
          "name": "stdout",
          "text": [
            "\n",
            "      Epoch    GPU_mem   box_loss   cls_loss   dfl_loss  Instances       Size\n"
          ]
        },
        {
          "output_type": "stream",
          "name": "stderr",
          "text": [
            "      15/30      2.47G     0.7053     0.7363     0.9475        108        640: 100%|██████████| 3/3 [00:01<00:00,  2.21it/s]\n"
          ]
        },
        {
          "output_type": "stream",
          "name": "stdout",
          "text": [
            "\n",
            "      Epoch    GPU_mem   box_loss   cls_loss   dfl_loss  Instances       Size\n"
          ]
        },
        {
          "output_type": "stream",
          "name": "stderr",
          "text": [
            "      16/30      2.44G     0.6555     0.7264     0.9366         70        640: 100%|██████████| 3/3 [00:00<00:00,  3.83it/s]\n"
          ]
        },
        {
          "output_type": "stream",
          "name": "stdout",
          "text": [
            "\n",
            "      Epoch    GPU_mem   box_loss   cls_loss   dfl_loss  Instances       Size\n"
          ]
        },
        {
          "output_type": "stream",
          "name": "stderr",
          "text": [
            "      17/30      2.53G     0.6979     0.7086     0.9341         88        640: 100%|██████████| 3/3 [00:00<00:00,  4.10it/s]\n"
          ]
        },
        {
          "output_type": "stream",
          "name": "stdout",
          "text": [
            "\n",
            "      Epoch    GPU_mem   box_loss   cls_loss   dfl_loss  Instances       Size\n"
          ]
        },
        {
          "output_type": "stream",
          "name": "stderr",
          "text": [
            "      18/30      2.41G     0.7067      0.705     0.9405         90        640: 100%|██████████| 3/3 [00:00<00:00,  3.33it/s]\n"
          ]
        },
        {
          "output_type": "stream",
          "name": "stdout",
          "text": [
            "\n",
            "      Epoch    GPU_mem   box_loss   cls_loss   dfl_loss  Instances       Size\n"
          ]
        },
        {
          "output_type": "stream",
          "name": "stderr",
          "text": [
            "      19/30      2.33G     0.6875     0.6892     0.9305        100        640: 100%|██████████| 3/3 [00:00<00:00,  4.14it/s]\n"
          ]
        },
        {
          "output_type": "stream",
          "name": "stdout",
          "text": [
            "\n",
            "      Epoch    GPU_mem   box_loss   cls_loss   dfl_loss  Instances       Size\n"
          ]
        },
        {
          "output_type": "stream",
          "name": "stderr",
          "text": [
            "      20/30      2.46G     0.7084     0.7668      0.959         52        640: 100%|██████████| 3/3 [00:00<00:00,  4.33it/s]\n"
          ]
        },
        {
          "output_type": "stream",
          "name": "stdout",
          "text": [
            "Closing dataloader mosaic\n",
            "\u001b[34m\u001b[1malbumentations: \u001b[0mBlur(p=0.01, blur_limit=(3, 7)), MedianBlur(p=0.01, blur_limit=(3, 7)), ToGray(p=0.01, num_output_channels=3, method='weighted_average'), CLAHE(p=0.01, clip_limit=(1, 4.0), tile_grid_size=(8, 8))\n",
            "\n",
            "      Epoch    GPU_mem   box_loss   cls_loss   dfl_loss  Instances       Size\n"
          ]
        },
        {
          "output_type": "stream",
          "name": "stderr",
          "text": [
            "      21/30      2.32G     0.5838     0.6793     0.8922         79        640: 100%|██████████| 3/3 [00:02<00:00,  1.23it/s]\n"
          ]
        },
        {
          "output_type": "stream",
          "name": "stdout",
          "text": [
            "\n",
            "      Epoch    GPU_mem   box_loss   cls_loss   dfl_loss  Instances       Size\n"
          ]
        },
        {
          "output_type": "stream",
          "name": "stderr",
          "text": [
            "      22/30      2.31G     0.6056     0.6579     0.8804         60        640: 100%|██████████| 3/3 [00:00<00:00,  3.81it/s]\n"
          ]
        },
        {
          "output_type": "stream",
          "name": "stdout",
          "text": [
            "\n",
            "      Epoch    GPU_mem   box_loss   cls_loss   dfl_loss  Instances       Size\n"
          ]
        },
        {
          "output_type": "stream",
          "name": "stderr",
          "text": [
            "      23/30      2.31G     0.5615     0.6402     0.8822         78        640: 100%|██████████| 3/3 [00:00<00:00,  3.45it/s]\n"
          ]
        },
        {
          "output_type": "stream",
          "name": "stdout",
          "text": [
            "\n",
            "      Epoch    GPU_mem   box_loss   cls_loss   dfl_loss  Instances       Size\n"
          ]
        },
        {
          "output_type": "stream",
          "name": "stderr",
          "text": [
            "      24/30      2.32G     0.5731      0.639     0.8892         81        640: 100%|██████████| 3/3 [00:00<00:00,  3.75it/s]\n"
          ]
        },
        {
          "output_type": "stream",
          "name": "stdout",
          "text": [
            "\n",
            "      Epoch    GPU_mem   box_loss   cls_loss   dfl_loss  Instances       Size\n"
          ]
        },
        {
          "output_type": "stream",
          "name": "stderr",
          "text": [
            "      25/30      2.32G     0.5702     0.6766     0.9093         65        640: 100%|██████████| 3/3 [00:00<00:00,  5.72it/s]\n"
          ]
        },
        {
          "output_type": "stream",
          "name": "stdout",
          "text": [
            "\n",
            "      Epoch    GPU_mem   box_loss   cls_loss   dfl_loss  Instances       Size\n"
          ]
        },
        {
          "output_type": "stream",
          "name": "stderr",
          "text": [
            "      26/30      2.31G     0.5252     0.6588     0.8767         48        640: 100%|██████████| 3/3 [00:00<00:00,  5.82it/s]\n"
          ]
        },
        {
          "output_type": "stream",
          "name": "stdout",
          "text": [
            "\n",
            "      Epoch    GPU_mem   box_loss   cls_loss   dfl_loss  Instances       Size\n"
          ]
        },
        {
          "output_type": "stream",
          "name": "stderr",
          "text": [
            "      27/30      2.32G     0.5156     0.5969     0.8601         65        640: 100%|██████████| 3/3 [00:00<00:00,  6.04it/s]\n"
          ]
        },
        {
          "output_type": "stream",
          "name": "stdout",
          "text": [
            "\n",
            "      Epoch    GPU_mem   box_loss   cls_loss   dfl_loss  Instances       Size\n"
          ]
        },
        {
          "output_type": "stream",
          "name": "stderr",
          "text": [
            "      28/30      2.31G     0.5107     0.5849     0.8753         66        640: 100%|██████████| 3/3 [00:00<00:00,  5.56it/s]\n"
          ]
        },
        {
          "output_type": "stream",
          "name": "stdout",
          "text": [
            "\n",
            "      Epoch    GPU_mem   box_loss   cls_loss   dfl_loss  Instances       Size\n"
          ]
        },
        {
          "output_type": "stream",
          "name": "stderr",
          "text": [
            "      29/30      2.32G     0.5567     0.6007     0.8741         76        640: 100%|██████████| 3/3 [00:00<00:00,  5.95it/s]\n"
          ]
        },
        {
          "output_type": "stream",
          "name": "stdout",
          "text": [
            "\n",
            "      Epoch    GPU_mem   box_loss   cls_loss   dfl_loss  Instances       Size\n"
          ]
        },
        {
          "output_type": "stream",
          "name": "stderr",
          "text": [
            "      30/30      2.32G     0.5201     0.5758     0.8742         60        640: 100%|██████████| 3/3 [00:00<00:00,  5.80it/s]\n",
            "                 Class     Images  Instances      Box(P          R      mAP50  mAP50-95): 100%|██████████| 2/2 [00:01<00:00,  1.76it/s]\n"
          ]
        },
        {
          "output_type": "stream",
          "name": "stdout",
          "text": [
            "                   all         36        626      0.936      0.961      0.987      0.887\n",
            "\n",
            "30 epochs completed in 0.024 hours.\n",
            "Optimizer stripped from runs/detect/train2/weights/last.pt, 6.2MB\n",
            "Optimizer stripped from runs/detect/train2/weights/best.pt, 6.2MB\n",
            "\n",
            "Validating runs/detect/train2/weights/best.pt...\n",
            "Ultralytics 8.3.21 🚀 Python-3.10.12 torch-2.5.0+cu121 CUDA:0 (Tesla T4, 15102MiB)\n",
            "Model summary (fused): 168 layers, 3,005,843 parameters, 0 gradients, 8.1 GFLOPs\n"
          ]
        },
        {
          "output_type": "stream",
          "name": "stderr",
          "text": [
            "                 Class     Images  Instances      Box(P          R      mAP50  mAP50-95): 100%|██████████| 2/2 [00:00<00:00,  2.75it/s]\n"
          ]
        },
        {
          "output_type": "stream",
          "name": "stdout",
          "text": [
            "                   all         36        626      0.936       0.96      0.987      0.888\n",
            "Speed: 0.2ms preprocess, 3.7ms inference, 0.0ms loss, 3.3ms postprocess per image\n",
            "Results saved to \u001b[1mruns/detect/train2\u001b[0m\n"
          ]
        },
        {
          "output_type": "display_data",
          "data": {
            "text/plain": [
              "<IPython.core.display.HTML object>"
            ],
            "text/html": [
              "<style>\n",
              "    table.wandb td:nth-child(1) { padding: 0 10px; text-align: left ; width: auto;} td:nth-child(2) {text-align: left ; width: 100%}\n",
              "    .wandb-row { display: flex; flex-direction: row; flex-wrap: wrap; justify-content: flex-start; width: 100% }\n",
              "    .wandb-col { display: flex; flex-direction: column; flex-basis: 100%; flex: 1; padding: 10px; }\n",
              "    </style>\n",
              "<div class=\"wandb-row\"><div class=\"wandb-col\"><h3>Run history:</h3><br/><table class=\"wandb\"><tr><td>lr/pg0</td><td>▁▂▃▄▄▅▆▆▇▇▇████████▇▇▇▆▆▅▅▄▃▂▂</td></tr><tr><td>lr/pg1</td><td>▁▂▃▄▄▅▆▆▇▇▇████████▇▇▇▆▆▅▅▄▃▂▂</td></tr><tr><td>lr/pg2</td><td>▁▂▃▄▄▅▆▆▇▇▇████████▇▇▇▆▆▅▅▄▃▂▂</td></tr><tr><td>metrics/mAP50(B)</td><td>▁▁▁▁▁▁▁▁▁▁▁▁▁▁▁▁▁▁▁▁▁▁▁▁▁▁▁▁▁█</td></tr><tr><td>metrics/mAP50-95(B)</td><td>▁▁▁▁▁▁▁▁▁▁▁▁▁▁▁▁▁▁▁▁▁▁▁▁▁▁▁▁▁█</td></tr><tr><td>metrics/precision(B)</td><td>▁▁▁▁▁▁▁▁▁▁▁▁▁▁▁▁▁▁▁▁▁▁▁▁▁▁▁▁▁█</td></tr><tr><td>metrics/recall(B)</td><td>▁▁▁▁▁▁▁▁▁▁▁▁▁▁▁▁▁▁▁▁▁▁▁▁▁▁▁▁▁█</td></tr><tr><td>model/GFLOPs</td><td>▁</td></tr><tr><td>model/parameters</td><td>▁</td></tr><tr><td>model/speed_PyTorch(ms)</td><td>▁</td></tr><tr><td>train/box_loss</td><td>██▆▄▄▅▄▄▄▄▃▃▃▃▃▂▃▃▃▃▂▂▁▂▂▁▁▁▁▁</td></tr><tr><td>train/cls_loss</td><td>██▇▅▄▃▂▂▂▂▂▂▂▂▁▁▁▁▁▁▁▁▁▁▁▁▁▁▁▁</td></tr><tr><td>train/dfl_loss</td><td>██▆▃▃▃▃▂▂▂▂▂▂▂▂▂▂▂▂▂▁▁▁▁▂▁▁▁▁▁</td></tr><tr><td>val/box_loss</td><td>▁▁▁▁▁▁▁▁▁▁▁▁▁▁▁▁▁▁▁▁▁▁▁▁▁▁▁▁▁█</td></tr><tr><td>val/cls_loss</td><td>▁▁▁▁▁▁▁▁▁▁▁▁▁▁▁▁▁▁▁▁▁▁▁▁▁▁▁▁▁█</td></tr><tr><td>val/dfl_loss</td><td>▁▁▁▁▁▁▁▁▁▁▁▁▁▁▁▁▁▁▁▁▁▁▁▁▁▁▁▁▁█</td></tr></table><br/></div><div class=\"wandb-col\"><h3>Run summary:</h3><br/><table class=\"wandb\"><tr><td>lr/pg0</td><td>8e-05</td></tr><tr><td>lr/pg1</td><td>8e-05</td></tr><tr><td>lr/pg2</td><td>8e-05</td></tr><tr><td>metrics/mAP50(B)</td><td>0.98694</td></tr><tr><td>metrics/mAP50-95(B)</td><td>0.88771</td></tr><tr><td>metrics/precision(B)</td><td>0.93615</td></tr><tr><td>metrics/recall(B)</td><td>0.96028</td></tr><tr><td>model/GFLOPs</td><td>8.194</td></tr><tr><td>model/parameters</td><td>3011043</td></tr><tr><td>model/speed_PyTorch(ms)</td><td>0</td></tr><tr><td>train/box_loss</td><td>0.52013</td></tr><tr><td>train/cls_loss</td><td>0.57577</td></tr><tr><td>train/dfl_loss</td><td>0.87416</td></tr><tr><td>val/box_loss</td><td>0.50209</td></tr><tr><td>val/cls_loss</td><td>0.6496</td></tr><tr><td>val/dfl_loss</td><td>0.85348</td></tr></table><br/></div></div>"
            ]
          },
          "metadata": {}
        },
        {
          "output_type": "display_data",
          "data": {
            "text/plain": [
              "<IPython.core.display.HTML object>"
            ],
            "text/html": [
              " View run <strong style=\"color:#cdcd00\">train2</strong> at: <a href='https://wandb.ai/chandanab-bsc22-rv-university/Ultralytics/runs/zskenaiw' target=\"_blank\">https://wandb.ai/chandanab-bsc22-rv-university/Ultralytics/runs/zskenaiw</a><br/> View project at: <a href='https://wandb.ai/chandanab-bsc22-rv-university/Ultralytics' target=\"_blank\">https://wandb.ai/chandanab-bsc22-rv-university/Ultralytics</a><br/>Synced 5 W&B file(s), 0 media file(s), 10 artifact file(s) and 28 other file(s)"
            ]
          },
          "metadata": {}
        },
        {
          "output_type": "display_data",
          "data": {
            "text/plain": [
              "<IPython.core.display.HTML object>"
            ],
            "text/html": [
              "Find logs at: <code>./wandb/run-20241024_091059-zskenaiw/logs</code>"
            ]
          },
          "metadata": {}
        },
        {
          "output_type": "execute_result",
          "data": {
            "text/plain": [
              "ultralytics.utils.metrics.DetMetrics object with attributes:\n",
              "\n",
              "ap_class_index: array([0])\n",
              "box: ultralytics.utils.metrics.Metric object\n",
              "confusion_matrix: <ultralytics.utils.metrics.ConfusionMatrix object at 0x7acca36a3eb0>\n",
              "curves: ['Precision-Recall(B)', 'F1-Confidence(B)', 'Precision-Confidence(B)', 'Recall-Confidence(B)']\n",
              "curves_results: [[array([          0,    0.001001,    0.002002,    0.003003,    0.004004,    0.005005,    0.006006,    0.007007,    0.008008,    0.009009,     0.01001,    0.011011,    0.012012,    0.013013,    0.014014,    0.015015,    0.016016,    0.017017,    0.018018,    0.019019,     0.02002,    0.021021,    0.022022,    0.023023,\n",
              "          0.024024,    0.025025,    0.026026,    0.027027,    0.028028,    0.029029,     0.03003,    0.031031,    0.032032,    0.033033,    0.034034,    0.035035,    0.036036,    0.037037,    0.038038,    0.039039,     0.04004,    0.041041,    0.042042,    0.043043,    0.044044,    0.045045,    0.046046,    0.047047,\n",
              "          0.048048,    0.049049,     0.05005,    0.051051,    0.052052,    0.053053,    0.054054,    0.055055,    0.056056,    0.057057,    0.058058,    0.059059,     0.06006,    0.061061,    0.062062,    0.063063,    0.064064,    0.065065,    0.066066,    0.067067,    0.068068,    0.069069,     0.07007,    0.071071,\n",
              "          0.072072,    0.073073,    0.074074,    0.075075,    0.076076,    0.077077,    0.078078,    0.079079,     0.08008,    0.081081,    0.082082,    0.083083,    0.084084,    0.085085,    0.086086,    0.087087,    0.088088,    0.089089,     0.09009,    0.091091,    0.092092,    0.093093,    0.094094,    0.095095,\n",
              "          0.096096,    0.097097,    0.098098,    0.099099,      0.1001,      0.1011,      0.1021,      0.1031,      0.1041,     0.10511,     0.10611,     0.10711,     0.10811,     0.10911,     0.11011,     0.11111,     0.11211,     0.11311,     0.11411,     0.11512,     0.11612,     0.11712,     0.11812,     0.11912,\n",
              "           0.12012,     0.12112,     0.12212,     0.12312,     0.12412,     0.12513,     0.12613,     0.12713,     0.12813,     0.12913,     0.13013,     0.13113,     0.13213,     0.13313,     0.13413,     0.13514,     0.13614,     0.13714,     0.13814,     0.13914,     0.14014,     0.14114,     0.14214,     0.14314,\n",
              "           0.14414,     0.14515,     0.14615,     0.14715,     0.14815,     0.14915,     0.15015,     0.15115,     0.15215,     0.15315,     0.15415,     0.15516,     0.15616,     0.15716,     0.15816,     0.15916,     0.16016,     0.16116,     0.16216,     0.16316,     0.16416,     0.16517,     0.16617,     0.16717,\n",
              "           0.16817,     0.16917,     0.17017,     0.17117,     0.17217,     0.17317,     0.17417,     0.17518,     0.17618,     0.17718,     0.17818,     0.17918,     0.18018,     0.18118,     0.18218,     0.18318,     0.18418,     0.18519,     0.18619,     0.18719,     0.18819,     0.18919,     0.19019,     0.19119,\n",
              "           0.19219,     0.19319,     0.19419,      0.1952,      0.1962,      0.1972,      0.1982,      0.1992,      0.2002,      0.2012,      0.2022,      0.2032,      0.2042,     0.20521,     0.20621,     0.20721,     0.20821,     0.20921,     0.21021,     0.21121,     0.21221,     0.21321,     0.21421,     0.21522,\n",
              "           0.21622,     0.21722,     0.21822,     0.21922,     0.22022,     0.22122,     0.22222,     0.22322,     0.22422,     0.22523,     0.22623,     0.22723,     0.22823,     0.22923,     0.23023,     0.23123,     0.23223,     0.23323,     0.23423,     0.23524,     0.23624,     0.23724,     0.23824,     0.23924,\n",
              "           0.24024,     0.24124,     0.24224,     0.24324,     0.24424,     0.24525,     0.24625,     0.24725,     0.24825,     0.24925,     0.25025,     0.25125,     0.25225,     0.25325,     0.25425,     0.25526,     0.25626,     0.25726,     0.25826,     0.25926,     0.26026,     0.26126,     0.26226,     0.26326,\n",
              "           0.26426,     0.26527,     0.26627,     0.26727,     0.26827,     0.26927,     0.27027,     0.27127,     0.27227,     0.27327,     0.27427,     0.27528,     0.27628,     0.27728,     0.27828,     0.27928,     0.28028,     0.28128,     0.28228,     0.28328,     0.28428,     0.28529,     0.28629,     0.28729,\n",
              "           0.28829,     0.28929,     0.29029,     0.29129,     0.29229,     0.29329,     0.29429,      0.2953,      0.2963,      0.2973,      0.2983,      0.2993,      0.3003,      0.3013,      0.3023,      0.3033,      0.3043,     0.30531,     0.30631,     0.30731,     0.30831,     0.30931,     0.31031,     0.31131,\n",
              "           0.31231,     0.31331,     0.31431,     0.31532,     0.31632,     0.31732,     0.31832,     0.31932,     0.32032,     0.32132,     0.32232,     0.32332,     0.32432,     0.32533,     0.32633,     0.32733,     0.32833,     0.32933,     0.33033,     0.33133,     0.33233,     0.33333,     0.33433,     0.33534,\n",
              "           0.33634,     0.33734,     0.33834,     0.33934,     0.34034,     0.34134,     0.34234,     0.34334,     0.34434,     0.34535,     0.34635,     0.34735,     0.34835,     0.34935,     0.35035,     0.35135,     0.35235,     0.35335,     0.35435,     0.35536,     0.35636,     0.35736,     0.35836,     0.35936,\n",
              "           0.36036,     0.36136,     0.36236,     0.36336,     0.36436,     0.36537,     0.36637,     0.36737,     0.36837,     0.36937,     0.37037,     0.37137,     0.37237,     0.37337,     0.37437,     0.37538,     0.37638,     0.37738,     0.37838,     0.37938,     0.38038,     0.38138,     0.38238,     0.38338,\n",
              "           0.38438,     0.38539,     0.38639,     0.38739,     0.38839,     0.38939,     0.39039,     0.39139,     0.39239,     0.39339,     0.39439,      0.3954,      0.3964,      0.3974,      0.3984,      0.3994,      0.4004,      0.4014,      0.4024,      0.4034,      0.4044,     0.40541,     0.40641,     0.40741,\n",
              "           0.40841,     0.40941,     0.41041,     0.41141,     0.41241,     0.41341,     0.41441,     0.41542,     0.41642,     0.41742,     0.41842,     0.41942,     0.42042,     0.42142,     0.42242,     0.42342,     0.42442,     0.42543,     0.42643,     0.42743,     0.42843,     0.42943,     0.43043,     0.43143,\n",
              "           0.43243,     0.43343,     0.43443,     0.43544,     0.43644,     0.43744,     0.43844,     0.43944,     0.44044,     0.44144,     0.44244,     0.44344,     0.44444,     0.44545,     0.44645,     0.44745,     0.44845,     0.44945,     0.45045,     0.45145,     0.45245,     0.45345,     0.45445,     0.45546,\n",
              "           0.45646,     0.45746,     0.45846,     0.45946,     0.46046,     0.46146,     0.46246,     0.46346,     0.46446,     0.46547,     0.46647,     0.46747,     0.46847,     0.46947,     0.47047,     0.47147,     0.47247,     0.47347,     0.47447,     0.47548,     0.47648,     0.47748,     0.47848,     0.47948,\n",
              "           0.48048,     0.48148,     0.48248,     0.48348,     0.48448,     0.48549,     0.48649,     0.48749,     0.48849,     0.48949,     0.49049,     0.49149,     0.49249,     0.49349,     0.49449,      0.4955,      0.4965,      0.4975,      0.4985,      0.4995,      0.5005,      0.5015,      0.5025,      0.5035,\n",
              "            0.5045,     0.50551,     0.50651,     0.50751,     0.50851,     0.50951,     0.51051,     0.51151,     0.51251,     0.51351,     0.51451,     0.51552,     0.51652,     0.51752,     0.51852,     0.51952,     0.52052,     0.52152,     0.52252,     0.52352,     0.52452,     0.52553,     0.52653,     0.52753,\n",
              "           0.52853,     0.52953,     0.53053,     0.53153,     0.53253,     0.53353,     0.53453,     0.53554,     0.53654,     0.53754,     0.53854,     0.53954,     0.54054,     0.54154,     0.54254,     0.54354,     0.54454,     0.54555,     0.54655,     0.54755,     0.54855,     0.54955,     0.55055,     0.55155,\n",
              "           0.55255,     0.55355,     0.55455,     0.55556,     0.55656,     0.55756,     0.55856,     0.55956,     0.56056,     0.56156,     0.56256,     0.56356,     0.56456,     0.56557,     0.56657,     0.56757,     0.56857,     0.56957,     0.57057,     0.57157,     0.57257,     0.57357,     0.57457,     0.57558,\n",
              "           0.57658,     0.57758,     0.57858,     0.57958,     0.58058,     0.58158,     0.58258,     0.58358,     0.58458,     0.58559,     0.58659,     0.58759,     0.58859,     0.58959,     0.59059,     0.59159,     0.59259,     0.59359,     0.59459,      0.5956,      0.5966,      0.5976,      0.5986,      0.5996,\n",
              "            0.6006,      0.6016,      0.6026,      0.6036,      0.6046,     0.60561,     0.60661,     0.60761,     0.60861,     0.60961,     0.61061,     0.61161,     0.61261,     0.61361,     0.61461,     0.61562,     0.61662,     0.61762,     0.61862,     0.61962,     0.62062,     0.62162,     0.62262,     0.62362,\n",
              "           0.62462,     0.62563,     0.62663,     0.62763,     0.62863,     0.62963,     0.63063,     0.63163,     0.63263,     0.63363,     0.63463,     0.63564,     0.63664,     0.63764,     0.63864,     0.63964,     0.64064,     0.64164,     0.64264,     0.64364,     0.64464,     0.64565,     0.64665,     0.64765,\n",
              "           0.64865,     0.64965,     0.65065,     0.65165,     0.65265,     0.65365,     0.65465,     0.65566,     0.65666,     0.65766,     0.65866,     0.65966,     0.66066,     0.66166,     0.66266,     0.66366,     0.66466,     0.66567,     0.66667,     0.66767,     0.66867,     0.66967,     0.67067,     0.67167,\n",
              "           0.67267,     0.67367,     0.67467,     0.67568,     0.67668,     0.67768,     0.67868,     0.67968,     0.68068,     0.68168,     0.68268,     0.68368,     0.68468,     0.68569,     0.68669,     0.68769,     0.68869,     0.68969,     0.69069,     0.69169,     0.69269,     0.69369,     0.69469,      0.6957,\n",
              "            0.6967,      0.6977,      0.6987,      0.6997,      0.7007,      0.7017,      0.7027,      0.7037,      0.7047,     0.70571,     0.70671,     0.70771,     0.70871,     0.70971,     0.71071,     0.71171,     0.71271,     0.71371,     0.71471,     0.71572,     0.71672,     0.71772,     0.71872,     0.71972,\n",
              "           0.72072,     0.72172,     0.72272,     0.72372,     0.72472,     0.72573,     0.72673,     0.72773,     0.72873,     0.72973,     0.73073,     0.73173,     0.73273,     0.73373,     0.73473,     0.73574,     0.73674,     0.73774,     0.73874,     0.73974,     0.74074,     0.74174,     0.74274,     0.74374,\n",
              "           0.74474,     0.74575,     0.74675,     0.74775,     0.74875,     0.74975,     0.75075,     0.75175,     0.75275,     0.75375,     0.75475,     0.75576,     0.75676,     0.75776,     0.75876,     0.75976,     0.76076,     0.76176,     0.76276,     0.76376,     0.76476,     0.76577,     0.76677,     0.76777,\n",
              "           0.76877,     0.76977,     0.77077,     0.77177,     0.77277,     0.77377,     0.77477,     0.77578,     0.77678,     0.77778,     0.77878,     0.77978,     0.78078,     0.78178,     0.78278,     0.78378,     0.78478,     0.78579,     0.78679,     0.78779,     0.78879,     0.78979,     0.79079,     0.79179,\n",
              "           0.79279,     0.79379,     0.79479,      0.7958,      0.7968,      0.7978,      0.7988,      0.7998,      0.8008,      0.8018,      0.8028,      0.8038,      0.8048,     0.80581,     0.80681,     0.80781,     0.80881,     0.80981,     0.81081,     0.81181,     0.81281,     0.81381,     0.81481,     0.81582,\n",
              "           0.81682,     0.81782,     0.81882,     0.81982,     0.82082,     0.82182,     0.82282,     0.82382,     0.82482,     0.82583,     0.82683,     0.82783,     0.82883,     0.82983,     0.83083,     0.83183,     0.83283,     0.83383,     0.83483,     0.83584,     0.83684,     0.83784,     0.83884,     0.83984,\n",
              "           0.84084,     0.84184,     0.84284,     0.84384,     0.84484,     0.84585,     0.84685,     0.84785,     0.84885,     0.84985,     0.85085,     0.85185,     0.85285,     0.85385,     0.85485,     0.85586,     0.85686,     0.85786,     0.85886,     0.85986,     0.86086,     0.86186,     0.86286,     0.86386,\n",
              "           0.86486,     0.86587,     0.86687,     0.86787,     0.86887,     0.86987,     0.87087,     0.87187,     0.87287,     0.87387,     0.87487,     0.87588,     0.87688,     0.87788,     0.87888,     0.87988,     0.88088,     0.88188,     0.88288,     0.88388,     0.88488,     0.88589,     0.88689,     0.88789,\n",
              "           0.88889,     0.88989,     0.89089,     0.89189,     0.89289,     0.89389,     0.89489,      0.8959,      0.8969,      0.8979,      0.8989,      0.8999,      0.9009,      0.9019,      0.9029,      0.9039,      0.9049,     0.90591,     0.90691,     0.90791,     0.90891,     0.90991,     0.91091,     0.91191,\n",
              "           0.91291,     0.91391,     0.91491,     0.91592,     0.91692,     0.91792,     0.91892,     0.91992,     0.92092,     0.92192,     0.92292,     0.92392,     0.92492,     0.92593,     0.92693,     0.92793,     0.92893,     0.92993,     0.93093,     0.93193,     0.93293,     0.93393,     0.93493,     0.93594,\n",
              "           0.93694,     0.93794,     0.93894,     0.93994,     0.94094,     0.94194,     0.94294,     0.94394,     0.94494,     0.94595,     0.94695,     0.94795,     0.94895,     0.94995,     0.95095,     0.95195,     0.95295,     0.95395,     0.95495,     0.95596,     0.95696,     0.95796,     0.95896,     0.95996,\n",
              "           0.96096,     0.96196,     0.96296,     0.96396,     0.96496,     0.96597,     0.96697,     0.96797,     0.96897,     0.96997,     0.97097,     0.97197,     0.97297,     0.97397,     0.97497,     0.97598,     0.97698,     0.97798,     0.97898,     0.97998,     0.98098,     0.98198,     0.98298,     0.98398,\n",
              "           0.98498,     0.98599,     0.98699,     0.98799,     0.98899,     0.98999,     0.99099,     0.99199,     0.99299,     0.99399,     0.99499,       0.996,       0.997,       0.998,       0.999,           1]), array([[          1,           1,           1,           1,           1,           1,           1,           1,           1,           1,           1,           1,           1,           1,           1,           1,           1,           1,           1,           1,           1,           1,           1,\n",
              "                  1,           1,           1,           1,           1,           1,           1,           1,           1,           1,           1,           1,           1,           1,           1,           1,           1,           1,           1,           1,           1,           1,           1,\n",
              "                  1,           1,           1,           1,           1,           1,           1,           1,           1,           1,           1,           1,           1,           1,           1,           1,           1,           1,           1,           1,           1,           1,           1,\n",
              "                  1,           1,           1,           1,           1,           1,           1,           1,           1,           1,           1,           1,           1,           1,           1,           1,           1,           1,           1,           1,           1,           1,           1,\n",
              "                  1,           1,           1,           1,           1,           1,           1,           1,           1,           1,           1,           1,           1,           1,           1,           1,           1,           1,           1,           1,           1,           1,           1,\n",
              "                  1,           1,           1,           1,           1,           1,           1,           1,           1,           1,           1,           1,           1,           1,           1,           1,           1,           1,           1,           1,           1,           1,           1,\n",
              "                  1,           1,           1,           1,           1,           1,           1,           1,           1,           1,           1,           1,           1,           1,           1,           1,           1,           1,           1,           1,           1,           1,           1,\n",
              "                  1,           1,           1,           1,           1,           1,           1,           1,           1,           1,           1,           1,           1,           1,           1,           1,           1,           1,           1,           1,           1,           1,           1,\n",
              "                  1,           1,           1,           1,           1,           1,           1,           1,           1,           1,           1,           1,           1,           1,           1,           1,           1,           1,           1,           1,           1,           1,           1,\n",
              "                  1,           1,           1,           1,           1,           1,           1,           1,           1,           1,           1,           1,           1,           1,           1,           1,           1,           1,           1,           1,           1,           1,           1,\n",
              "                  1,           1,           1,           1,           1,           1,           1,           1,           1,           1,           1,           1,           1,           1,           1,           1,           1,           1,           1,           1,           1,           1,           1,\n",
              "                  1,           1,           1,           1,           1,           1,           1,           1,           1,           1,           1,           1,           1,           1,           1,           1,           1,           1,           1,           1,           1,           1,           1,\n",
              "                  1,           1,           1,           1,           1,           1,           1,           1,           1,           1,           1,           1,           1,           1,           1,           1,           1,           1,           1,           1,           1,           1,           1,\n",
              "                  1,           1,           1,           1,           1,           1,           1,           1,           1,           1,           1,           1,           1,           1,           1,           1,           1,           1,           1,           1,           1,           1,           1,\n",
              "                  1,           1,           1,           1,           1,           1,           1,           1,           1,           1,           1,           1,           1,           1,           1,           1,           1,           1,           1,           1,           1,           1,           1,\n",
              "                  1,           1,           1,           1,           1,           1,           1,           1,           1,           1,           1,           1,           1,           1,           1,           1,           1,           1,           1,           1,           1,           1,           1,\n",
              "                  1,           1,           1,           1,           1,           1,           1,           1,           1,           1,           1,           1,           1,           1,           1,           1,           1,           1,           1,           1,           1,           1,           1,\n",
              "                  1,           1,           1,           1,           1,           1,           1,           1,           1,           1,           1,           1,           1,           1,           1,           1,           1,           1,           1,           1,           1,           1,           1,\n",
              "                  1,           1,           1,           1,           1,           1,           1,           1,           1,           1,           1,           1,           1,           1,           1,           1,           1,           1,           1,           1,           1,           1,           1,\n",
              "                  1,           1,           1,           1,           1,           1,           1,           1,           1,           1,           1,           1,           1,           1,           1,           1,           1,           1,           1,           1,           1,           1,           1,\n",
              "                  1,           1,           1,           1,           1,           1,           1,           1,           1,           1,           1,           1,           1,           1,           1,           1,           1,           1,           1,           1,           1,           1,           1,\n",
              "                  1,           1,           1,           1,           1,           1,           1,           1,           1,           1,           1,           1,           1,           1,           1,           1,           1,           1,           1,           1,           1,           1,           1,\n",
              "                  1,           1,           1,           1,           1,           1,           1,           1,           1,           1,           1,           1,           1,           1,           1,           1,           1,           1,           1,           1,           1,           1,           1,\n",
              "                  1,           1,           1,           1,           1,           1,           1,           1,           1,           1,           1,           1,           1,           1,           1,           1,           1,           1,           1,           1,           1,           1,           1,\n",
              "                  1,           1,           1,           1,           1,           1,           1,           1,           1,           1,           1,           1,           1,           1,           1,           1,           1,           1,           1,           1,           1,           1,           1,\n",
              "                  1,           1,           1,           1,           1,           1,           1,           1,           1,           1,           1,           1,           1,           1,           1,           1,           1,           1,           1,           1,           1,           1,           1,\n",
              "                  1,           1,           1,           1,           1,           1,           1,           1,           1,           1,           1,           1,           1,           1,           1,           1,           1,           1,           1,           1,           1,           1,           1,\n",
              "                  1,           1,           1,           1,           1,           1,           1,           1,           1,           1,           1,           1,           1,           1,           1,           1,           1,           1,           1,           1,           1,           1,           1,\n",
              "                  1,           1,           1,           1,           1,           1,           1,           1,           1,           1,           1,           1,           1,           1,           1,           1,           1,           1,           1,           1,           1,           1,           1,\n",
              "                  1,           1,           1,           1,           1,           1,           1,           1,           1,           1,           1,           1,           1,           1,           1,           1,           1,           1,           1,           1,           1,           1,           1,\n",
              "                  1,           1,           1,           1,           1,           1,           1,           1,           1,           1,           1,           1,           1,           1,           1,           1,           1,           1,           1,           1,           1,           1,           1,\n",
              "                  1,           1,           1,           1,           1,           1,           1,           1,           1,           1,           1,           1,           1,           1,           1,     0.99794,     0.99794,     0.99794,     0.99794,     0.99794,     0.99794,     0.99794,     0.99794,\n",
              "            0.99794,     0.99794,     0.99794,     0.99794,     0.99794,     0.99794,     0.99794,     0.99794,     0.99794,     0.99794,     0.99794,     0.99794,     0.99794,     0.99794,     0.99794,     0.99794,     0.99794,     0.99794,     0.99794,     0.99794,     0.99794,     0.99794,     0.99794,\n",
              "            0.99794,     0.99794,     0.99794,     0.99794,     0.99794,     0.99794,     0.99794,     0.99794,     0.99794,     0.99794,     0.99794,     0.99794,     0.99794,     0.99794,     0.99413,     0.99413,     0.99413,     0.99413,     0.99413,     0.99413,     0.99413,     0.99413,     0.99413,\n",
              "            0.99413,     0.99413,     0.99413,     0.99413,     0.99413,     0.99413,     0.99413,     0.99413,     0.99413,     0.99413,     0.99413,     0.99413,     0.99413,     0.99413,     0.99413,     0.99413,     0.99413,     0.99413,     0.99413,     0.99413,     0.99413,     0.99413,     0.99413,\n",
              "            0.99413,     0.99413,     0.99413,     0.99413,     0.99413,     0.99413,      0.9922,      0.9922,     0.99062,     0.99062,     0.99062,     0.99062,     0.99062,     0.99062,     0.99062,     0.99062,     0.99062,     0.99062,     0.99062,     0.99062,     0.99062,     0.99062,     0.99062,\n",
              "            0.99062,     0.99062,     0.99062,     0.99062,     0.99062,     0.99062,     0.99062,     0.99062,     0.99062,     0.99062,     0.99062,     0.99062,     0.99062,     0.99062,     0.99062,     0.98718,     0.98718,     0.98718,     0.98718,     0.98718,     0.98718,     0.98718,     0.98718,\n",
              "            0.98718,     0.98718,     0.98718,     0.98718,     0.98718,     0.98718,     0.98718,     0.98718,     0.98718,     0.98718,     0.98543,     0.98543,     0.98543,      0.9839,      0.9839,      0.9839,      0.9839,      0.9839,      0.9839,      0.9839,      0.9839,      0.9839,      0.9839,\n",
              "             0.9839,      0.9839,      0.9839,      0.9839,     0.98063,     0.98063,     0.98063,     0.98063,     0.98063,     0.98063,     0.98063,     0.98063,     0.98063,     0.98063,     0.98063,     0.97723,     0.97723,       0.974,       0.974,       0.974,       0.974,       0.974,       0.974,\n",
              "            0.97074,     0.97074,     0.97074,     0.97074,     0.96928,     0.96928,     0.96928,     0.96928,     0.96928,     0.96928,     0.96796,     0.96796,     0.96796,     0.96796,     0.96796,     0.96796,     0.96796,     0.96796,     0.96796,     0.96796,     0.96672,     0.96672,     0.96672,\n",
              "            0.96672,     0.96672,     0.96672,     0.96672,     0.96672,     0.96672,     0.96672,     0.96672,     0.96046,     0.96046,     0.96046,     0.95745,     0.95745,     0.95745,     0.95447,     0.95447,     0.95447,     0.95153,     0.95153,     0.95153,     0.94444,     0.94444,     0.94444,\n",
              "            0.94444,     0.94444,     0.94444,     0.94444,     0.94444,     0.94444,     0.94444,     0.93906,     0.93906,     0.93906,     0.93906,     0.93906,     0.93906,     0.93906,     0.93906,     0.93906,     0.93906,     0.93634,     0.93634,     0.93634,     0.92934,     0.92934,     0.92934,\n",
              "            0.92813,     0.92813,     0.92813,     0.91717,     0.91717,     0.91717,      0.9148,      0.9148,      0.9148,      0.9148,      0.9148,     0.91098,     0.91098,     0.91098,     0.89665,     0.89665,     0.89665,     0.89665,     0.81854,     0.81854,     0.81854,     0.81046,     0.81046,\n",
              "            0.81046,      0.7396,      0.7396,      0.7396,     0.68722,     0.68722,     0.68722,    0.054308,    0.036205,    0.018103,           0]]), 'Recall', 'Precision'], [array([          0,    0.001001,    0.002002,    0.003003,    0.004004,    0.005005,    0.006006,    0.007007,    0.008008,    0.009009,     0.01001,    0.011011,    0.012012,    0.013013,    0.014014,    0.015015,    0.016016,    0.017017,    0.018018,    0.019019,     0.02002,    0.021021,    0.022022,    0.023023,\n",
              "          0.024024,    0.025025,    0.026026,    0.027027,    0.028028,    0.029029,     0.03003,    0.031031,    0.032032,    0.033033,    0.034034,    0.035035,    0.036036,    0.037037,    0.038038,    0.039039,     0.04004,    0.041041,    0.042042,    0.043043,    0.044044,    0.045045,    0.046046,    0.047047,\n",
              "          0.048048,    0.049049,     0.05005,    0.051051,    0.052052,    0.053053,    0.054054,    0.055055,    0.056056,    0.057057,    0.058058,    0.059059,     0.06006,    0.061061,    0.062062,    0.063063,    0.064064,    0.065065,    0.066066,    0.067067,    0.068068,    0.069069,     0.07007,    0.071071,\n",
              "          0.072072,    0.073073,    0.074074,    0.075075,    0.076076,    0.077077,    0.078078,    0.079079,     0.08008,    0.081081,    0.082082,    0.083083,    0.084084,    0.085085,    0.086086,    0.087087,    0.088088,    0.089089,     0.09009,    0.091091,    0.092092,    0.093093,    0.094094,    0.095095,\n",
              "          0.096096,    0.097097,    0.098098,    0.099099,      0.1001,      0.1011,      0.1021,      0.1031,      0.1041,     0.10511,     0.10611,     0.10711,     0.10811,     0.10911,     0.11011,     0.11111,     0.11211,     0.11311,     0.11411,     0.11512,     0.11612,     0.11712,     0.11812,     0.11912,\n",
              "           0.12012,     0.12112,     0.12212,     0.12312,     0.12412,     0.12513,     0.12613,     0.12713,     0.12813,     0.12913,     0.13013,     0.13113,     0.13213,     0.13313,     0.13413,     0.13514,     0.13614,     0.13714,     0.13814,     0.13914,     0.14014,     0.14114,     0.14214,     0.14314,\n",
              "           0.14414,     0.14515,     0.14615,     0.14715,     0.14815,     0.14915,     0.15015,     0.15115,     0.15215,     0.15315,     0.15415,     0.15516,     0.15616,     0.15716,     0.15816,     0.15916,     0.16016,     0.16116,     0.16216,     0.16316,     0.16416,     0.16517,     0.16617,     0.16717,\n",
              "           0.16817,     0.16917,     0.17017,     0.17117,     0.17217,     0.17317,     0.17417,     0.17518,     0.17618,     0.17718,     0.17818,     0.17918,     0.18018,     0.18118,     0.18218,     0.18318,     0.18418,     0.18519,     0.18619,     0.18719,     0.18819,     0.18919,     0.19019,     0.19119,\n",
              "           0.19219,     0.19319,     0.19419,      0.1952,      0.1962,      0.1972,      0.1982,      0.1992,      0.2002,      0.2012,      0.2022,      0.2032,      0.2042,     0.20521,     0.20621,     0.20721,     0.20821,     0.20921,     0.21021,     0.21121,     0.21221,     0.21321,     0.21421,     0.21522,\n",
              "           0.21622,     0.21722,     0.21822,     0.21922,     0.22022,     0.22122,     0.22222,     0.22322,     0.22422,     0.22523,     0.22623,     0.22723,     0.22823,     0.22923,     0.23023,     0.23123,     0.23223,     0.23323,     0.23423,     0.23524,     0.23624,     0.23724,     0.23824,     0.23924,\n",
              "           0.24024,     0.24124,     0.24224,     0.24324,     0.24424,     0.24525,     0.24625,     0.24725,     0.24825,     0.24925,     0.25025,     0.25125,     0.25225,     0.25325,     0.25425,     0.25526,     0.25626,     0.25726,     0.25826,     0.25926,     0.26026,     0.26126,     0.26226,     0.26326,\n",
              "           0.26426,     0.26527,     0.26627,     0.26727,     0.26827,     0.26927,     0.27027,     0.27127,     0.27227,     0.27327,     0.27427,     0.27528,     0.27628,     0.27728,     0.27828,     0.27928,     0.28028,     0.28128,     0.28228,     0.28328,     0.28428,     0.28529,     0.28629,     0.28729,\n",
              "           0.28829,     0.28929,     0.29029,     0.29129,     0.29229,     0.29329,     0.29429,      0.2953,      0.2963,      0.2973,      0.2983,      0.2993,      0.3003,      0.3013,      0.3023,      0.3033,      0.3043,     0.30531,     0.30631,     0.30731,     0.30831,     0.30931,     0.31031,     0.31131,\n",
              "           0.31231,     0.31331,     0.31431,     0.31532,     0.31632,     0.31732,     0.31832,     0.31932,     0.32032,     0.32132,     0.32232,     0.32332,     0.32432,     0.32533,     0.32633,     0.32733,     0.32833,     0.32933,     0.33033,     0.33133,     0.33233,     0.33333,     0.33433,     0.33534,\n",
              "           0.33634,     0.33734,     0.33834,     0.33934,     0.34034,     0.34134,     0.34234,     0.34334,     0.34434,     0.34535,     0.34635,     0.34735,     0.34835,     0.34935,     0.35035,     0.35135,     0.35235,     0.35335,     0.35435,     0.35536,     0.35636,     0.35736,     0.35836,     0.35936,\n",
              "           0.36036,     0.36136,     0.36236,     0.36336,     0.36436,     0.36537,     0.36637,     0.36737,     0.36837,     0.36937,     0.37037,     0.37137,     0.37237,     0.37337,     0.37437,     0.37538,     0.37638,     0.37738,     0.37838,     0.37938,     0.38038,     0.38138,     0.38238,     0.38338,\n",
              "           0.38438,     0.38539,     0.38639,     0.38739,     0.38839,     0.38939,     0.39039,     0.39139,     0.39239,     0.39339,     0.39439,      0.3954,      0.3964,      0.3974,      0.3984,      0.3994,      0.4004,      0.4014,      0.4024,      0.4034,      0.4044,     0.40541,     0.40641,     0.40741,\n",
              "           0.40841,     0.40941,     0.41041,     0.41141,     0.41241,     0.41341,     0.41441,     0.41542,     0.41642,     0.41742,     0.41842,     0.41942,     0.42042,     0.42142,     0.42242,     0.42342,     0.42442,     0.42543,     0.42643,     0.42743,     0.42843,     0.42943,     0.43043,     0.43143,\n",
              "           0.43243,     0.43343,     0.43443,     0.43544,     0.43644,     0.43744,     0.43844,     0.43944,     0.44044,     0.44144,     0.44244,     0.44344,     0.44444,     0.44545,     0.44645,     0.44745,     0.44845,     0.44945,     0.45045,     0.45145,     0.45245,     0.45345,     0.45445,     0.45546,\n",
              "           0.45646,     0.45746,     0.45846,     0.45946,     0.46046,     0.46146,     0.46246,     0.46346,     0.46446,     0.46547,     0.46647,     0.46747,     0.46847,     0.46947,     0.47047,     0.47147,     0.47247,     0.47347,     0.47447,     0.47548,     0.47648,     0.47748,     0.47848,     0.47948,\n",
              "           0.48048,     0.48148,     0.48248,     0.48348,     0.48448,     0.48549,     0.48649,     0.48749,     0.48849,     0.48949,     0.49049,     0.49149,     0.49249,     0.49349,     0.49449,      0.4955,      0.4965,      0.4975,      0.4985,      0.4995,      0.5005,      0.5015,      0.5025,      0.5035,\n",
              "            0.5045,     0.50551,     0.50651,     0.50751,     0.50851,     0.50951,     0.51051,     0.51151,     0.51251,     0.51351,     0.51451,     0.51552,     0.51652,     0.51752,     0.51852,     0.51952,     0.52052,     0.52152,     0.52252,     0.52352,     0.52452,     0.52553,     0.52653,     0.52753,\n",
              "           0.52853,     0.52953,     0.53053,     0.53153,     0.53253,     0.53353,     0.53453,     0.53554,     0.53654,     0.53754,     0.53854,     0.53954,     0.54054,     0.54154,     0.54254,     0.54354,     0.54454,     0.54555,     0.54655,     0.54755,     0.54855,     0.54955,     0.55055,     0.55155,\n",
              "           0.55255,     0.55355,     0.55455,     0.55556,     0.55656,     0.55756,     0.55856,     0.55956,     0.56056,     0.56156,     0.56256,     0.56356,     0.56456,     0.56557,     0.56657,     0.56757,     0.56857,     0.56957,     0.57057,     0.57157,     0.57257,     0.57357,     0.57457,     0.57558,\n",
              "           0.57658,     0.57758,     0.57858,     0.57958,     0.58058,     0.58158,     0.58258,     0.58358,     0.58458,     0.58559,     0.58659,     0.58759,     0.58859,     0.58959,     0.59059,     0.59159,     0.59259,     0.59359,     0.59459,      0.5956,      0.5966,      0.5976,      0.5986,      0.5996,\n",
              "            0.6006,      0.6016,      0.6026,      0.6036,      0.6046,     0.60561,     0.60661,     0.60761,     0.60861,     0.60961,     0.61061,     0.61161,     0.61261,     0.61361,     0.61461,     0.61562,     0.61662,     0.61762,     0.61862,     0.61962,     0.62062,     0.62162,     0.62262,     0.62362,\n",
              "           0.62462,     0.62563,     0.62663,     0.62763,     0.62863,     0.62963,     0.63063,     0.63163,     0.63263,     0.63363,     0.63463,     0.63564,     0.63664,     0.63764,     0.63864,     0.63964,     0.64064,     0.64164,     0.64264,     0.64364,     0.64464,     0.64565,     0.64665,     0.64765,\n",
              "           0.64865,     0.64965,     0.65065,     0.65165,     0.65265,     0.65365,     0.65465,     0.65566,     0.65666,     0.65766,     0.65866,     0.65966,     0.66066,     0.66166,     0.66266,     0.66366,     0.66466,     0.66567,     0.66667,     0.66767,     0.66867,     0.66967,     0.67067,     0.67167,\n",
              "           0.67267,     0.67367,     0.67467,     0.67568,     0.67668,     0.67768,     0.67868,     0.67968,     0.68068,     0.68168,     0.68268,     0.68368,     0.68468,     0.68569,     0.68669,     0.68769,     0.68869,     0.68969,     0.69069,     0.69169,     0.69269,     0.69369,     0.69469,      0.6957,\n",
              "            0.6967,      0.6977,      0.6987,      0.6997,      0.7007,      0.7017,      0.7027,      0.7037,      0.7047,     0.70571,     0.70671,     0.70771,     0.70871,     0.70971,     0.71071,     0.71171,     0.71271,     0.71371,     0.71471,     0.71572,     0.71672,     0.71772,     0.71872,     0.71972,\n",
              "           0.72072,     0.72172,     0.72272,     0.72372,     0.72472,     0.72573,     0.72673,     0.72773,     0.72873,     0.72973,     0.73073,     0.73173,     0.73273,     0.73373,     0.73473,     0.73574,     0.73674,     0.73774,     0.73874,     0.73974,     0.74074,     0.74174,     0.74274,     0.74374,\n",
              "           0.74474,     0.74575,     0.74675,     0.74775,     0.74875,     0.74975,     0.75075,     0.75175,     0.75275,     0.75375,     0.75475,     0.75576,     0.75676,     0.75776,     0.75876,     0.75976,     0.76076,     0.76176,     0.76276,     0.76376,     0.76476,     0.76577,     0.76677,     0.76777,\n",
              "           0.76877,     0.76977,     0.77077,     0.77177,     0.77277,     0.77377,     0.77477,     0.77578,     0.77678,     0.77778,     0.77878,     0.77978,     0.78078,     0.78178,     0.78278,     0.78378,     0.78478,     0.78579,     0.78679,     0.78779,     0.78879,     0.78979,     0.79079,     0.79179,\n",
              "           0.79279,     0.79379,     0.79479,      0.7958,      0.7968,      0.7978,      0.7988,      0.7998,      0.8008,      0.8018,      0.8028,      0.8038,      0.8048,     0.80581,     0.80681,     0.80781,     0.80881,     0.80981,     0.81081,     0.81181,     0.81281,     0.81381,     0.81481,     0.81582,\n",
              "           0.81682,     0.81782,     0.81882,     0.81982,     0.82082,     0.82182,     0.82282,     0.82382,     0.82482,     0.82583,     0.82683,     0.82783,     0.82883,     0.82983,     0.83083,     0.83183,     0.83283,     0.83383,     0.83483,     0.83584,     0.83684,     0.83784,     0.83884,     0.83984,\n",
              "           0.84084,     0.84184,     0.84284,     0.84384,     0.84484,     0.84585,     0.84685,     0.84785,     0.84885,     0.84985,     0.85085,     0.85185,     0.85285,     0.85385,     0.85485,     0.85586,     0.85686,     0.85786,     0.85886,     0.85986,     0.86086,     0.86186,     0.86286,     0.86386,\n",
              "           0.86486,     0.86587,     0.86687,     0.86787,     0.86887,     0.86987,     0.87087,     0.87187,     0.87287,     0.87387,     0.87487,     0.87588,     0.87688,     0.87788,     0.87888,     0.87988,     0.88088,     0.88188,     0.88288,     0.88388,     0.88488,     0.88589,     0.88689,     0.88789,\n",
              "           0.88889,     0.88989,     0.89089,     0.89189,     0.89289,     0.89389,     0.89489,      0.8959,      0.8969,      0.8979,      0.8989,      0.8999,      0.9009,      0.9019,      0.9029,      0.9039,      0.9049,     0.90591,     0.90691,     0.90791,     0.90891,     0.90991,     0.91091,     0.91191,\n",
              "           0.91291,     0.91391,     0.91491,     0.91592,     0.91692,     0.91792,     0.91892,     0.91992,     0.92092,     0.92192,     0.92292,     0.92392,     0.92492,     0.92593,     0.92693,     0.92793,     0.92893,     0.92993,     0.93093,     0.93193,     0.93293,     0.93393,     0.93493,     0.93594,\n",
              "           0.93694,     0.93794,     0.93894,     0.93994,     0.94094,     0.94194,     0.94294,     0.94394,     0.94494,     0.94595,     0.94695,     0.94795,     0.94895,     0.94995,     0.95095,     0.95195,     0.95295,     0.95395,     0.95495,     0.95596,     0.95696,     0.95796,     0.95896,     0.95996,\n",
              "           0.96096,     0.96196,     0.96296,     0.96396,     0.96496,     0.96597,     0.96697,     0.96797,     0.96897,     0.96997,     0.97097,     0.97197,     0.97297,     0.97397,     0.97497,     0.97598,     0.97698,     0.97798,     0.97898,     0.97998,     0.98098,     0.98198,     0.98298,     0.98398,\n",
              "           0.98498,     0.98599,     0.98699,     0.98799,     0.98899,     0.98999,     0.99099,     0.99199,     0.99299,     0.99399,     0.99499,       0.996,       0.997,       0.998,       0.999,           1]), array([[    0.10922,     0.10922,     0.11327,     0.13365,     0.14444,      0.1548,     0.17134,     0.19929,     0.24042,     0.31473,     0.39619,     0.49106,     0.57487,     0.63344,     0.68311,     0.70389,      0.7266,     0.73914,     0.75646,     0.76477,     0.77547,     0.78175,     0.78895,\n",
              "            0.79513,     0.80144,     0.80409,     0.80754,     0.81271,     0.81801,     0.82251,     0.82519,     0.83045,      0.8346,     0.83947,     0.84403,     0.84691,     0.84892,     0.85215,      0.8558,     0.86028,      0.8654,     0.86797,      0.8688,     0.87131,     0.87306,     0.87476,\n",
              "            0.87727,     0.87971,      0.8811,     0.88363,     0.88424,     0.88525,     0.88557,     0.88588,      0.8862,     0.88723,     0.88907,     0.89105,     0.88999,     0.89137,     0.89233,     0.89456,     0.89483,     0.89397,     0.89393,     0.89447,     0.89602,     0.89626,     0.89651,\n",
              "            0.89767,     0.89917,      0.9013,     0.90166,     0.90271,     0.90316,     0.90342,     0.90365,     0.90389,     0.90494,     0.90597,     0.90626,     0.90725,     0.90871,     0.90909,     0.91066,     0.91094,     0.91122,     0.91217,     0.91331,     0.91351,     0.91371,     0.91392,\n",
              "            0.91755,     0.91782,     0.91903,     0.92018,      0.9203,     0.92042,     0.92055,     0.92067,     0.92148,     0.92163,     0.92177,     0.92191,     0.92205,     0.92331,     0.92457,     0.92582,     0.92643,     0.92656,     0.92669,     0.92682,     0.92695,     0.92737,     0.92832,\n",
              "             0.9292,      0.9293,      0.9294,      0.9295,      0.9296,      0.9297,      0.9298,     0.93075,     0.93103,       0.932,     0.93222,     0.93244,     0.93337,     0.93361,     0.93384,     0.93405,     0.93417,     0.93428,     0.93439,      0.9345,     0.93461,     0.93473,     0.93564,\n",
              "            0.93588,     0.93611,      0.9364,      0.9367,     0.93763,     0.93771,     0.93779,     0.93787,     0.93795,     0.93804,     0.93812,      0.9382,     0.93828,     0.93715,     0.93674,     0.93702,      0.9373,     0.93768,     0.93813,     0.93859,     0.93963,     0.93981,     0.93998,\n",
              "            0.94015,     0.94264,     0.94396,     0.94431,     0.94376,     0.94346,     0.94316,     0.94452,     0.94468,     0.94485,     0.94502,     0.94516,     0.94492,     0.94468,     0.94444,     0.94341,     0.94321,     0.94301,      0.9428,     0.94284,     0.94302,      0.9432,     0.94338,\n",
              "            0.94356,     0.94374,     0.94391,     0.94409,     0.94334,     0.94327,      0.9432,     0.94314,     0.94307,       0.943,     0.94293,     0.94287,      0.9428,     0.94273,     0.94266,      0.9426,     0.94335,     0.94365,     0.94396,     0.94477,      0.9448,     0.94483,     0.94486,\n",
              "            0.94488,     0.94491,     0.94494,     0.94497,       0.945,     0.94503,     0.94506,     0.94508,     0.94511,     0.94514,     0.94517,      0.9452,     0.94523,     0.94526,     0.94529,     0.94531,     0.94534,     0.94537,      0.9454,     0.94543,     0.94546,     0.94624,     0.94645,\n",
              "            0.94667,     0.94689,     0.94792,     0.94826,     0.94698,     0.94593,     0.94598,     0.94603,     0.94608,     0.94614,     0.94619,     0.94624,     0.94629,     0.94634,      0.9464,     0.94645,      0.9465,     0.94655,      0.9466,     0.94756,     0.94788,     0.94895,     0.94929,\n",
              "            0.94877,     0.94863,     0.94848,     0.94834,      0.9482,     0.94806,     0.94874,     0.94893,     0.94913,     0.94932,     0.94908,     0.94775,      0.9477,     0.94764,     0.94759,     0.94754,     0.94748,     0.94743,     0.94737,     0.94732,     0.94726,     0.94721,     0.94716,\n",
              "             0.9471,     0.94705,     0.94699,     0.94527,     0.94522,     0.94517,     0.94512,     0.94507,     0.94502,     0.94497,     0.94492,     0.94487,     0.94482,     0.94477,     0.94472,     0.94467,     0.94462,     0.94457,     0.94452,     0.94447,     0.94526,     0.94541,     0.94556,\n",
              "            0.94572,     0.94587,     0.94682,     0.94706,      0.9473,     0.94654,     0.94634,     0.94614,     0.94594,     0.94489,     0.94469,     0.94448,     0.94428,     0.94322,     0.94272,     0.94242,     0.94247,     0.94253,     0.94259,     0.94264,      0.9427,     0.94275,     0.94281,\n",
              "            0.94286,     0.94292,     0.94297,     0.94303,     0.94308,     0.94314,     0.94403,      0.9442,     0.94437,     0.94455,     0.94544,     0.94549,     0.94554,     0.94559,     0.94565,      0.9457,     0.94575,      0.9458,     0.94585,      0.9459,     0.94595,       0.946,     0.94605,\n",
              "             0.9461,     0.94616,     0.94485,     0.94527,     0.94531,     0.94534,     0.94538,     0.94541,     0.94545,     0.94548,     0.94552,     0.94555,     0.94559,     0.94562,     0.94566,      0.9457,     0.94573,     0.94577,      0.9458,     0.94584,     0.94587,     0.94591,     0.94594,\n",
              "            0.94598,     0.94601,     0.94508,      0.9451,     0.94512,     0.94514,     0.94516,     0.94519,     0.94521,     0.94523,     0.94525,     0.94527,     0.94529,     0.94532,     0.94534,     0.94536,     0.94538,      0.9454,     0.94542,     0.94545,     0.94547,     0.94549,     0.94551,\n",
              "            0.94553,     0.94555,     0.94558,      0.9456,     0.94562,     0.94564,     0.94566,     0.94568,      0.9457,     0.94573,     0.94575,     0.94577,     0.94579,     0.94581,     0.94583,     0.94578,     0.94571,     0.94565,     0.94559,     0.94552,     0.94546,     0.94539,     0.94533,\n",
              "            0.94526,      0.9452,     0.94513,     0.94507,       0.945,     0.94485,     0.94467,     0.94448,      0.9443,     0.94492,     0.94518,     0.94544,     0.94467,     0.94479,     0.94518,     0.94628,     0.94642,     0.94655,     0.94668,     0.94681,     0.94694,     0.94605,     0.94573,\n",
              "             0.9454,       0.945,     0.94456,     0.94336,     0.94307,     0.94277,      0.9418,     0.94175,     0.94169,     0.94164,     0.94158,     0.94152,     0.94147,     0.94141,     0.94135,      0.9413,     0.94124,     0.94118,     0.94113,     0.94107,     0.94101,     0.94107,     0.94127,\n",
              "            0.94147,     0.94167,      0.9404,     0.93729,     0.93711,     0.93694,     0.93676,     0.93658,     0.93666,     0.93686,     0.93705,     0.93725,     0.93634,     0.93624,     0.93614,     0.93604,     0.93594,     0.93584,     0.93574,     0.93564,     0.93465,     0.93443,      0.9342,\n",
              "            0.93398,     0.93379,     0.93395,     0.93411,     0.93427,     0.93443,     0.93363,     0.93348,     0.93333,     0.93318,     0.93303,     0.93287,     0.93359,     0.93368,     0.93377,     0.93385,     0.93394,     0.93403,     0.93412,     0.93421,      0.9343,     0.93341,     0.93335,\n",
              "             0.9333,     0.93324,     0.93318,     0.93313,     0.93307,     0.93301,     0.93296,      0.9329,     0.93284,     0.93278,     0.93273,     0.93267,     0.93261,     0.93256,     0.93122,     0.93157,     0.93197,     0.93233,     0.93228,     0.93222,     0.93217,     0.93212,     0.93207,\n",
              "            0.93202,     0.93197,     0.93192,     0.93187,     0.93182,     0.93177,     0.93172,     0.93167,     0.93161,     0.93156,     0.93151,     0.93146,     0.93232,     0.93252,     0.93272,     0.93292,     0.93199,     0.93181,     0.93162,     0.93144,     0.93125,     0.93052,     0.92918,\n",
              "            0.92887,     0.92856,     0.92825,     0.92794,     0.92764,     0.92737,      0.9271,     0.92684,      0.9275,     0.92752,     0.92755,     0.92757,     0.92759,     0.92762,     0.92764,     0.92766,     0.92769,     0.92771,     0.92773,     0.92775,     0.92778,      0.9278,     0.92782,\n",
              "            0.92785,     0.92787,     0.92789,     0.92792,     0.92794,     0.92796,     0.92799,     0.92801,     0.92803,     0.92806,     0.92808,      0.9281,     0.92813,     0.92815,     0.92817,      0.9282,     0.92822,     0.92824,     0.92827,     0.92546,     0.92535,     0.92524,     0.92513,\n",
              "            0.92502,     0.92491,      0.9248,     0.92469,     0.92451,     0.92428,     0.92404,     0.92381,     0.92272,     0.92258,     0.92243,     0.92229,     0.92215,       0.922,      0.9207,      0.9201,     0.92018,     0.92027,     0.92035,     0.92043,     0.92052,      0.9206,     0.92069,\n",
              "            0.92077,     0.91993,     0.91985,     0.91978,     0.91971,     0.91964,     0.91956,     0.91949,     0.91942,     0.91935,     0.91927,      0.9192,     0.91913,     0.91906,     0.91904,     0.91912,      0.9192,     0.91928,     0.91936,     0.91944,     0.91952,      0.9196,     0.91968,\n",
              "            0.91977,     0.91878,     0.91864,     0.91849,     0.91834,      0.9182,     0.91805,       0.917,      0.9169,     0.91681,     0.91671,     0.91662,     0.91652,     0.91643,     0.91633,     0.91624,     0.91614,     0.91508,      0.9149,     0.91473,     0.91456,     0.91438,     0.91413,\n",
              "             0.9135,     0.91218,     0.91191,     0.91163,     0.91047,     0.91038,     0.91029,      0.9102,     0.91011,     0.91002,     0.90992,     0.90983,     0.90974,     0.90965,     0.91035,     0.91058,     0.91081,     0.91104,     0.90989,      0.9094,     0.90881,     0.90817,     0.90752,\n",
              "            0.90634,     0.90623,     0.90613,     0.90603,     0.90593,     0.90582,     0.90572,     0.90562,     0.90552,     0.90438,      0.9041,     0.90382,     0.90248,     0.90137,     0.90088,     0.90029,     0.89862,     0.89775,     0.89743,      0.8971,     0.89487,     0.89467,     0.89447,\n",
              "            0.89427,     0.89408,     0.89283,     0.89291,     0.89299,     0.89307,     0.89315,     0.89323,     0.89331,     0.89339,     0.89347,     0.89355,     0.89061,     0.89027,     0.88994,     0.88859,     0.88808,      0.8862,     0.88423,     0.88256,     0.88188,     0.88143,     0.88102,\n",
              "            0.87968,     0.87943,     0.87917,     0.87891,     0.87766,      0.8774,     0.87714,     0.87689,      0.8756,     0.87531,     0.87502,     0.87372,     0.87346,      0.8732,     0.87294,      0.8716,     0.87108,     0.87058,     0.87081,     0.87104,     0.87127,     0.86829,     0.86671,\n",
              "            0.86619,     0.86481,     0.86446,     0.86309,     0.86291,     0.86274,     0.86256,     0.86238,     0.86221,     0.86081,     0.85894,     0.85882,     0.85871,      0.8586,     0.85849,     0.85838,     0.85826,     0.85815,     0.85804,     0.85793,     0.85741,     0.85583,      0.8554,\n",
              "            0.85497,     0.85344,      0.8529,     0.85026,     0.84972,     0.84824,     0.84788,     0.84752,     0.84596,     0.84541,      0.8426,     0.84198,     0.84064,     0.84051,     0.84039,     0.84027,     0.84015,     0.84003,      0.8399,     0.83978,     0.83844,     0.83611,     0.83555,\n",
              "            0.83201,     0.83145,     0.82948,     0.82754,     0.82729,     0.82704,     0.82679,     0.82644,     0.82588,     0.82531,     0.82475,     0.82308,     0.82251,     0.82005,     0.81831,     0.81774,     0.81717,     0.81319,     0.81094,     0.81017,      0.8094,     0.80856,      0.8074,\n",
              "            0.80522,     0.80463,     0.80408,     0.80361,     0.80314,     0.80164,      0.8013,     0.80096,     0.79712,     0.79664,     0.79617,     0.79268,     0.79208,     0.79032,     0.78998,     0.78964,      0.7893,     0.78762,     0.78701,     0.78628,     0.78158,     0.77795,     0.77523,\n",
              "            0.77431,     0.77349,     0.77267,     0.77029,     0.76849,       0.768,     0.76542,      0.7641,     0.75958,     0.75751,     0.75668,     0.75626,     0.75584,     0.75284,     0.75156,     0.74904,     0.74625,      0.7408,      0.7389,     0.73853,     0.73816,     0.73649,     0.73606,\n",
              "            0.73562,     0.73306,     0.73121,     0.73088,     0.73055,     0.73022,      0.7259,     0.72371,     0.72282,     0.72036,     0.71574,     0.71186,     0.71131,     0.71077,     0.70602,     0.70327,     0.70051,      0.6927,     0.69157,     0.69101,     0.69045,     0.68502,     0.67113,\n",
              "            0.66905,     0.66857,     0.66809,     0.66518,     0.66187,     0.65799,     0.65637,     0.65331,     0.65257,     0.64988,     0.64002,     0.63889,     0.63856,     0.63822,     0.63788,     0.63607,     0.63576,     0.63546,     0.63516,     0.63485,     0.63185,     0.62874,     0.62544,\n",
              "            0.62492,      0.6244,     0.62103,      0.6178,     0.61255,     0.60943,     0.60319,     0.59421,     0.59097,      0.5889,     0.58309,     0.58227,     0.57638,     0.57452,     0.57098,     0.56816,     0.56447,     0.55852,     0.55436,     0.54672,     0.54035,     0.53947,     0.53811,\n",
              "            0.52689,     0.52315,     0.50365,     0.49979,     0.49628,     0.49075,     0.48335,     0.47266,     0.46832,     0.45308,     0.44694,     0.43745,     0.42556,     0.42134,     0.41228,     0.40317,     0.39075,     0.37608,     0.36746,     0.34796,     0.33909,     0.33197,     0.31879,\n",
              "            0.30312,     0.29149,     0.28388,     0.26773,     0.26461,     0.25481,     0.23501,     0.22353,      0.2218,     0.20682,     0.19895,      0.1884,     0.17772,      0.1687,     0.16139,     0.14916,     0.13114,     0.12519,     0.11836,     0.10833,     0.10278,      0.1013,    0.090809,\n",
              "           0.084164,     0.07747,    0.069094,    0.050908,    0.038079,    0.021336,    0.019196,           0,           0,           0,           0]]), 'Confidence', 'F1'], [array([          0,    0.001001,    0.002002,    0.003003,    0.004004,    0.005005,    0.006006,    0.007007,    0.008008,    0.009009,     0.01001,    0.011011,    0.012012,    0.013013,    0.014014,    0.015015,    0.016016,    0.017017,    0.018018,    0.019019,     0.02002,    0.021021,    0.022022,    0.023023,\n",
              "          0.024024,    0.025025,    0.026026,    0.027027,    0.028028,    0.029029,     0.03003,    0.031031,    0.032032,    0.033033,    0.034034,    0.035035,    0.036036,    0.037037,    0.038038,    0.039039,     0.04004,    0.041041,    0.042042,    0.043043,    0.044044,    0.045045,    0.046046,    0.047047,\n",
              "          0.048048,    0.049049,     0.05005,    0.051051,    0.052052,    0.053053,    0.054054,    0.055055,    0.056056,    0.057057,    0.058058,    0.059059,     0.06006,    0.061061,    0.062062,    0.063063,    0.064064,    0.065065,    0.066066,    0.067067,    0.068068,    0.069069,     0.07007,    0.071071,\n",
              "          0.072072,    0.073073,    0.074074,    0.075075,    0.076076,    0.077077,    0.078078,    0.079079,     0.08008,    0.081081,    0.082082,    0.083083,    0.084084,    0.085085,    0.086086,    0.087087,    0.088088,    0.089089,     0.09009,    0.091091,    0.092092,    0.093093,    0.094094,    0.095095,\n",
              "          0.096096,    0.097097,    0.098098,    0.099099,      0.1001,      0.1011,      0.1021,      0.1031,      0.1041,     0.10511,     0.10611,     0.10711,     0.10811,     0.10911,     0.11011,     0.11111,     0.11211,     0.11311,     0.11411,     0.11512,     0.11612,     0.11712,     0.11812,     0.11912,\n",
              "           0.12012,     0.12112,     0.12212,     0.12312,     0.12412,     0.12513,     0.12613,     0.12713,     0.12813,     0.12913,     0.13013,     0.13113,     0.13213,     0.13313,     0.13413,     0.13514,     0.13614,     0.13714,     0.13814,     0.13914,     0.14014,     0.14114,     0.14214,     0.14314,\n",
              "           0.14414,     0.14515,     0.14615,     0.14715,     0.14815,     0.14915,     0.15015,     0.15115,     0.15215,     0.15315,     0.15415,     0.15516,     0.15616,     0.15716,     0.15816,     0.15916,     0.16016,     0.16116,     0.16216,     0.16316,     0.16416,     0.16517,     0.16617,     0.16717,\n",
              "           0.16817,     0.16917,     0.17017,     0.17117,     0.17217,     0.17317,     0.17417,     0.17518,     0.17618,     0.17718,     0.17818,     0.17918,     0.18018,     0.18118,     0.18218,     0.18318,     0.18418,     0.18519,     0.18619,     0.18719,     0.18819,     0.18919,     0.19019,     0.19119,\n",
              "           0.19219,     0.19319,     0.19419,      0.1952,      0.1962,      0.1972,      0.1982,      0.1992,      0.2002,      0.2012,      0.2022,      0.2032,      0.2042,     0.20521,     0.20621,     0.20721,     0.20821,     0.20921,     0.21021,     0.21121,     0.21221,     0.21321,     0.21421,     0.21522,\n",
              "           0.21622,     0.21722,     0.21822,     0.21922,     0.22022,     0.22122,     0.22222,     0.22322,     0.22422,     0.22523,     0.22623,     0.22723,     0.22823,     0.22923,     0.23023,     0.23123,     0.23223,     0.23323,     0.23423,     0.23524,     0.23624,     0.23724,     0.23824,     0.23924,\n",
              "           0.24024,     0.24124,     0.24224,     0.24324,     0.24424,     0.24525,     0.24625,     0.24725,     0.24825,     0.24925,     0.25025,     0.25125,     0.25225,     0.25325,     0.25425,     0.25526,     0.25626,     0.25726,     0.25826,     0.25926,     0.26026,     0.26126,     0.26226,     0.26326,\n",
              "           0.26426,     0.26527,     0.26627,     0.26727,     0.26827,     0.26927,     0.27027,     0.27127,     0.27227,     0.27327,     0.27427,     0.27528,     0.27628,     0.27728,     0.27828,     0.27928,     0.28028,     0.28128,     0.28228,     0.28328,     0.28428,     0.28529,     0.28629,     0.28729,\n",
              "           0.28829,     0.28929,     0.29029,     0.29129,     0.29229,     0.29329,     0.29429,      0.2953,      0.2963,      0.2973,      0.2983,      0.2993,      0.3003,      0.3013,      0.3023,      0.3033,      0.3043,     0.30531,     0.30631,     0.30731,     0.30831,     0.30931,     0.31031,     0.31131,\n",
              "           0.31231,     0.31331,     0.31431,     0.31532,     0.31632,     0.31732,     0.31832,     0.31932,     0.32032,     0.32132,     0.32232,     0.32332,     0.32432,     0.32533,     0.32633,     0.32733,     0.32833,     0.32933,     0.33033,     0.33133,     0.33233,     0.33333,     0.33433,     0.33534,\n",
              "           0.33634,     0.33734,     0.33834,     0.33934,     0.34034,     0.34134,     0.34234,     0.34334,     0.34434,     0.34535,     0.34635,     0.34735,     0.34835,     0.34935,     0.35035,     0.35135,     0.35235,     0.35335,     0.35435,     0.35536,     0.35636,     0.35736,     0.35836,     0.35936,\n",
              "           0.36036,     0.36136,     0.36236,     0.36336,     0.36436,     0.36537,     0.36637,     0.36737,     0.36837,     0.36937,     0.37037,     0.37137,     0.37237,     0.37337,     0.37437,     0.37538,     0.37638,     0.37738,     0.37838,     0.37938,     0.38038,     0.38138,     0.38238,     0.38338,\n",
              "           0.38438,     0.38539,     0.38639,     0.38739,     0.38839,     0.38939,     0.39039,     0.39139,     0.39239,     0.39339,     0.39439,      0.3954,      0.3964,      0.3974,      0.3984,      0.3994,      0.4004,      0.4014,      0.4024,      0.4034,      0.4044,     0.40541,     0.40641,     0.40741,\n",
              "           0.40841,     0.40941,     0.41041,     0.41141,     0.41241,     0.41341,     0.41441,     0.41542,     0.41642,     0.41742,     0.41842,     0.41942,     0.42042,     0.42142,     0.42242,     0.42342,     0.42442,     0.42543,     0.42643,     0.42743,     0.42843,     0.42943,     0.43043,     0.43143,\n",
              "           0.43243,     0.43343,     0.43443,     0.43544,     0.43644,     0.43744,     0.43844,     0.43944,     0.44044,     0.44144,     0.44244,     0.44344,     0.44444,     0.44545,     0.44645,     0.44745,     0.44845,     0.44945,     0.45045,     0.45145,     0.45245,     0.45345,     0.45445,     0.45546,\n",
              "           0.45646,     0.45746,     0.45846,     0.45946,     0.46046,     0.46146,     0.46246,     0.46346,     0.46446,     0.46547,     0.46647,     0.46747,     0.46847,     0.46947,     0.47047,     0.47147,     0.47247,     0.47347,     0.47447,     0.47548,     0.47648,     0.47748,     0.47848,     0.47948,\n",
              "           0.48048,     0.48148,     0.48248,     0.48348,     0.48448,     0.48549,     0.48649,     0.48749,     0.48849,     0.48949,     0.49049,     0.49149,     0.49249,     0.49349,     0.49449,      0.4955,      0.4965,      0.4975,      0.4985,      0.4995,      0.5005,      0.5015,      0.5025,      0.5035,\n",
              "            0.5045,     0.50551,     0.50651,     0.50751,     0.50851,     0.50951,     0.51051,     0.51151,     0.51251,     0.51351,     0.51451,     0.51552,     0.51652,     0.51752,     0.51852,     0.51952,     0.52052,     0.52152,     0.52252,     0.52352,     0.52452,     0.52553,     0.52653,     0.52753,\n",
              "           0.52853,     0.52953,     0.53053,     0.53153,     0.53253,     0.53353,     0.53453,     0.53554,     0.53654,     0.53754,     0.53854,     0.53954,     0.54054,     0.54154,     0.54254,     0.54354,     0.54454,     0.54555,     0.54655,     0.54755,     0.54855,     0.54955,     0.55055,     0.55155,\n",
              "           0.55255,     0.55355,     0.55455,     0.55556,     0.55656,     0.55756,     0.55856,     0.55956,     0.56056,     0.56156,     0.56256,     0.56356,     0.56456,     0.56557,     0.56657,     0.56757,     0.56857,     0.56957,     0.57057,     0.57157,     0.57257,     0.57357,     0.57457,     0.57558,\n",
              "           0.57658,     0.57758,     0.57858,     0.57958,     0.58058,     0.58158,     0.58258,     0.58358,     0.58458,     0.58559,     0.58659,     0.58759,     0.58859,     0.58959,     0.59059,     0.59159,     0.59259,     0.59359,     0.59459,      0.5956,      0.5966,      0.5976,      0.5986,      0.5996,\n",
              "            0.6006,      0.6016,      0.6026,      0.6036,      0.6046,     0.60561,     0.60661,     0.60761,     0.60861,     0.60961,     0.61061,     0.61161,     0.61261,     0.61361,     0.61461,     0.61562,     0.61662,     0.61762,     0.61862,     0.61962,     0.62062,     0.62162,     0.62262,     0.62362,\n",
              "           0.62462,     0.62563,     0.62663,     0.62763,     0.62863,     0.62963,     0.63063,     0.63163,     0.63263,     0.63363,     0.63463,     0.63564,     0.63664,     0.63764,     0.63864,     0.63964,     0.64064,     0.64164,     0.64264,     0.64364,     0.64464,     0.64565,     0.64665,     0.64765,\n",
              "           0.64865,     0.64965,     0.65065,     0.65165,     0.65265,     0.65365,     0.65465,     0.65566,     0.65666,     0.65766,     0.65866,     0.65966,     0.66066,     0.66166,     0.66266,     0.66366,     0.66466,     0.66567,     0.66667,     0.66767,     0.66867,     0.66967,     0.67067,     0.67167,\n",
              "           0.67267,     0.67367,     0.67467,     0.67568,     0.67668,     0.67768,     0.67868,     0.67968,     0.68068,     0.68168,     0.68268,     0.68368,     0.68468,     0.68569,     0.68669,     0.68769,     0.68869,     0.68969,     0.69069,     0.69169,     0.69269,     0.69369,     0.69469,      0.6957,\n",
              "            0.6967,      0.6977,      0.6987,      0.6997,      0.7007,      0.7017,      0.7027,      0.7037,      0.7047,     0.70571,     0.70671,     0.70771,     0.70871,     0.70971,     0.71071,     0.71171,     0.71271,     0.71371,     0.71471,     0.71572,     0.71672,     0.71772,     0.71872,     0.71972,\n",
              "           0.72072,     0.72172,     0.72272,     0.72372,     0.72472,     0.72573,     0.72673,     0.72773,     0.72873,     0.72973,     0.73073,     0.73173,     0.73273,     0.73373,     0.73473,     0.73574,     0.73674,     0.73774,     0.73874,     0.73974,     0.74074,     0.74174,     0.74274,     0.74374,\n",
              "           0.74474,     0.74575,     0.74675,     0.74775,     0.74875,     0.74975,     0.75075,     0.75175,     0.75275,     0.75375,     0.75475,     0.75576,     0.75676,     0.75776,     0.75876,     0.75976,     0.76076,     0.76176,     0.76276,     0.76376,     0.76476,     0.76577,     0.76677,     0.76777,\n",
              "           0.76877,     0.76977,     0.77077,     0.77177,     0.77277,     0.77377,     0.77477,     0.77578,     0.77678,     0.77778,     0.77878,     0.77978,     0.78078,     0.78178,     0.78278,     0.78378,     0.78478,     0.78579,     0.78679,     0.78779,     0.78879,     0.78979,     0.79079,     0.79179,\n",
              "           0.79279,     0.79379,     0.79479,      0.7958,      0.7968,      0.7978,      0.7988,      0.7998,      0.8008,      0.8018,      0.8028,      0.8038,      0.8048,     0.80581,     0.80681,     0.80781,     0.80881,     0.80981,     0.81081,     0.81181,     0.81281,     0.81381,     0.81481,     0.81582,\n",
              "           0.81682,     0.81782,     0.81882,     0.81982,     0.82082,     0.82182,     0.82282,     0.82382,     0.82482,     0.82583,     0.82683,     0.82783,     0.82883,     0.82983,     0.83083,     0.83183,     0.83283,     0.83383,     0.83483,     0.83584,     0.83684,     0.83784,     0.83884,     0.83984,\n",
              "           0.84084,     0.84184,     0.84284,     0.84384,     0.84484,     0.84585,     0.84685,     0.84785,     0.84885,     0.84985,     0.85085,     0.85185,     0.85285,     0.85385,     0.85485,     0.85586,     0.85686,     0.85786,     0.85886,     0.85986,     0.86086,     0.86186,     0.86286,     0.86386,\n",
              "           0.86486,     0.86587,     0.86687,     0.86787,     0.86887,     0.86987,     0.87087,     0.87187,     0.87287,     0.87387,     0.87487,     0.87588,     0.87688,     0.87788,     0.87888,     0.87988,     0.88088,     0.88188,     0.88288,     0.88388,     0.88488,     0.88589,     0.88689,     0.88789,\n",
              "           0.88889,     0.88989,     0.89089,     0.89189,     0.89289,     0.89389,     0.89489,      0.8959,      0.8969,      0.8979,      0.8989,      0.8999,      0.9009,      0.9019,      0.9029,      0.9039,      0.9049,     0.90591,     0.90691,     0.90791,     0.90891,     0.90991,     0.91091,     0.91191,\n",
              "           0.91291,     0.91391,     0.91491,     0.91592,     0.91692,     0.91792,     0.91892,     0.91992,     0.92092,     0.92192,     0.92292,     0.92392,     0.92492,     0.92593,     0.92693,     0.92793,     0.92893,     0.92993,     0.93093,     0.93193,     0.93293,     0.93393,     0.93493,     0.93594,\n",
              "           0.93694,     0.93794,     0.93894,     0.93994,     0.94094,     0.94194,     0.94294,     0.94394,     0.94494,     0.94595,     0.94695,     0.94795,     0.94895,     0.94995,     0.95095,     0.95195,     0.95295,     0.95395,     0.95495,     0.95596,     0.95696,     0.95796,     0.95896,     0.95996,\n",
              "           0.96096,     0.96196,     0.96296,     0.96396,     0.96496,     0.96597,     0.96697,     0.96797,     0.96897,     0.96997,     0.97097,     0.97197,     0.97297,     0.97397,     0.97497,     0.97598,     0.97698,     0.97798,     0.97898,     0.97998,     0.98098,     0.98198,     0.98298,     0.98398,\n",
              "           0.98498,     0.98599,     0.98699,     0.98799,     0.98899,     0.98999,     0.99099,     0.99199,     0.99299,     0.99399,     0.99499,       0.996,       0.997,       0.998,       0.999,           1]), array([[   0.057778,    0.057778,    0.060046,    0.071625,    0.077863,    0.083918,    0.093723,     0.11071,      0.1367,     0.18687,     0.24723,     0.32577,      0.4039,     0.46422,     0.51959,     0.54403,     0.57164,     0.58733,      0.6095,     0.62037,     0.63457,     0.64302,     0.65283,\n",
              "            0.66133,     0.67011,     0.67382,     0.67867,     0.68753,     0.69515,     0.70168,     0.70559,     0.71332,     0.71947,     0.72673,     0.73359,     0.73917,     0.74279,     0.74776,      0.7534,     0.76037,      0.7684,     0.77247,     0.77378,     0.77778,     0.78056,      0.7833,\n",
              "            0.78732,     0.79127,     0.79352,     0.79763,     0.79863,     0.80028,     0.80079,     0.80131,     0.80183,     0.80351,     0.80654,     0.80981,     0.81001,     0.81249,     0.81408,     0.81781,     0.81826,     0.81823,     0.81895,     0.81985,     0.82247,     0.82288,     0.82329,\n",
              "            0.82524,     0.82779,      0.8314,     0.83201,      0.8338,     0.83458,     0.83503,     0.83542,     0.83582,     0.83762,     0.83938,     0.83989,     0.84158,     0.84411,     0.84476,     0.84748,     0.84796,     0.84844,     0.85009,     0.85207,     0.85243,     0.85278,     0.85313,\n",
              "            0.85948,     0.85996,     0.86209,     0.86411,     0.86433,     0.86455,     0.86476,     0.86498,     0.86642,     0.86667,     0.86692,     0.86717,     0.86742,     0.86966,     0.87188,     0.87411,      0.8752,     0.87543,     0.87567,      0.8759,     0.87613,     0.87689,     0.87858,\n",
              "            0.88016,     0.88034,     0.88052,      0.8807,     0.88088,     0.88105,     0.88123,     0.88295,     0.88346,      0.8852,      0.8856,       0.886,     0.88768,      0.8881,     0.88852,     0.88891,     0.88912,     0.88932,     0.88952,     0.88972,     0.88993,     0.89013,     0.89179,\n",
              "            0.89222,     0.89264,     0.89316,     0.89372,     0.89541,     0.89556,     0.89571,     0.89586,       0.896,     0.89615,      0.8963,     0.89645,      0.8966,     0.89644,     0.89644,     0.89695,     0.89746,     0.89817,       0.899,     0.89983,     0.90176,     0.90208,      0.9024,\n",
              "            0.90272,      0.9073,     0.90976,     0.91041,     0.91084,     0.91079,     0.91074,     0.91357,     0.91388,     0.91419,      0.9145,      0.9148,     0.91476,     0.91472,     0.91468,     0.91452,     0.91449,     0.91446,     0.91443,     0.91462,     0.91497,     0.91531,     0.91565,\n",
              "            0.91599,     0.91632,     0.91665,     0.91698,     0.91704,     0.91703,     0.91702,     0.91701,       0.917,     0.91699,     0.91698,     0.91697,     0.91696,     0.91695,     0.91694,     0.91693,     0.91845,     0.91902,     0.91959,     0.92114,     0.92119,     0.92125,      0.9213,\n",
              "            0.92135,     0.92141,     0.92146,     0.92152,     0.92157,     0.92163,     0.92168,     0.92174,     0.92179,     0.92184,      0.9219,     0.92195,     0.92201,     0.92206,     0.92212,     0.92217,     0.92222,     0.92228,     0.92233,     0.92239,     0.92244,     0.92393,     0.92434,\n",
              "            0.92475,     0.92517,     0.92715,     0.92779,     0.92794,     0.92921,     0.92931,     0.92941,     0.92951,     0.92961,     0.92971,     0.92981,     0.92991,     0.93001,     0.93011,     0.93021,     0.93031,     0.93041,     0.93051,     0.93236,     0.93298,     0.93507,     0.93573,\n",
              "            0.93624,     0.93622,      0.9362,     0.93618,     0.93617,     0.93615,     0.93768,     0.93806,     0.93843,     0.93881,     0.93902,     0.93887,     0.93886,     0.93886,     0.93885,     0.93884,     0.93884,     0.93883,     0.93882,     0.93882,     0.93881,     0.93881,      0.9388,\n",
              "            0.93879,     0.93879,     0.93878,     0.93858,     0.93858,     0.93857,     0.93856,     0.93856,     0.93855,     0.93855,     0.93854,     0.93854,     0.93853,     0.93852,     0.93852,     0.93851,     0.93851,      0.9385,      0.9385,     0.93849,     0.94009,     0.94039,      0.9407,\n",
              "              0.941,     0.94131,     0.94319,     0.94367,     0.94414,     0.94435,     0.94433,     0.94431,     0.94428,     0.94417,     0.94415,     0.94413,     0.94411,       0.944,     0.94394,     0.94395,     0.94406,     0.94417,     0.94428,     0.94439,      0.9445,     0.94461,     0.94473,\n",
              "            0.94484,     0.94495,     0.94506,     0.94517,     0.94528,     0.94539,     0.94719,     0.94753,     0.94788,     0.94823,     0.95003,     0.95013,     0.95024,     0.95034,     0.95044,     0.95055,     0.95065,     0.95075,     0.95086,     0.95096,     0.95106,     0.95117,     0.95127,\n",
              "            0.95137,     0.95148,     0.95141,     0.95297,     0.95304,     0.95311,     0.95319,     0.95326,     0.95333,      0.9534,     0.95347,     0.95354,     0.95361,     0.95369,     0.95376,     0.95383,      0.9539,     0.95397,     0.95404,     0.95411,     0.95418,     0.95426,     0.95433,\n",
              "             0.9544,     0.95447,     0.95589,     0.95594,     0.95598,     0.95603,     0.95607,     0.95611,     0.95616,      0.9562,     0.95625,     0.95629,     0.95634,     0.95638,     0.95642,     0.95647,     0.95651,     0.95656,      0.9566,     0.95665,     0.95669,     0.95673,     0.95678,\n",
              "            0.95682,     0.95687,     0.95691,     0.95696,       0.957,     0.95704,     0.95709,     0.95713,     0.95718,     0.95722,     0.95726,     0.95731,     0.95735,      0.9574,     0.95744,     0.95744,     0.95744,     0.95743,     0.95743,     0.95742,     0.95742,     0.95741,     0.95741,\n",
              "             0.9574,     0.95739,     0.95739,     0.95738,     0.95738,     0.95737,     0.95735,     0.95734,     0.95732,     0.95893,     0.95947,     0.96001,     0.96039,     0.96207,     0.96289,     0.96518,     0.96545,     0.96573,       0.966,     0.96628,     0.96655,     0.96666,     0.96664,\n",
              "            0.96662,     0.96659,     0.96656,     0.96648,     0.96647,     0.96645,     0.96638,     0.96638,     0.96638,     0.96637,     0.96637,     0.96637,     0.96636,     0.96636,     0.96635,     0.96635,     0.96635,     0.96634,     0.96634,     0.96634,     0.96633,     0.96652,     0.96694,\n",
              "            0.96735,     0.96777,     0.96787,     0.96768,     0.96767,     0.96766,     0.96765,     0.96764,     0.96793,     0.96835,     0.96877,      0.9692,     0.96923,     0.96922,     0.96921,     0.96921,      0.9692,      0.9692,     0.96919,     0.96918,     0.96913,     0.96911,      0.9691,\n",
              "            0.96908,     0.96911,     0.96945,     0.96979,     0.97014,     0.97048,     0.97069,     0.97068,     0.97067,     0.97066,     0.97065,     0.97064,     0.97239,     0.97258,     0.97277,     0.97297,     0.97316,     0.97335,     0.97354,     0.97373,     0.97393,     0.97396,     0.97395,\n",
              "            0.97395,     0.97395,     0.97394,     0.97394,     0.97394,     0.97394,     0.97393,     0.97393,     0.97393,     0.97392,     0.97392,     0.97392,     0.97392,     0.97391,     0.97384,     0.97556,     0.97643,     0.97723,     0.97723,     0.97723,     0.97723,     0.97722,     0.97722,\n",
              "            0.97722,     0.97722,     0.97721,     0.97721,     0.97721,     0.97721,     0.97721,      0.9772,      0.9772,      0.9772,      0.9772,     0.97719,     0.97914,     0.97958,     0.98003,     0.98047,      0.9806,     0.98059,     0.98058,     0.98057,     0.98057,     0.98054,     0.98049,\n",
              "            0.98048,     0.98046,     0.98045,     0.98044,     0.98043,     0.98042,     0.98041,      0.9804,     0.98217,     0.98222,     0.98227,     0.98233,     0.98238,     0.98243,     0.98248,     0.98253,     0.98259,     0.98264,     0.98269,     0.98274,      0.9828,     0.98285,      0.9829,\n",
              "            0.98295,       0.983,     0.98306,     0.98311,     0.98316,     0.98321,     0.98327,     0.98332,     0.98337,     0.98342,     0.98347,     0.98353,     0.98358,     0.98363,     0.98368,     0.98374,     0.98379,     0.98384,     0.98389,     0.98381,     0.98381,      0.9838,      0.9838,\n",
              "             0.9838,     0.98379,     0.98379,     0.98379,     0.98378,     0.98377,     0.98376,     0.98376,     0.98372,     0.98372,     0.98371,     0.98371,      0.9837,      0.9837,     0.98366,      0.9837,     0.98389,     0.98409,     0.98428,     0.98447,     0.98467,     0.98486,     0.98505,\n",
              "            0.98525,      0.9854,      0.9854,      0.9854,      0.9854,     0.98539,     0.98539,     0.98539,     0.98539,     0.98538,     0.98538,     0.98538,     0.98538,     0.98538,     0.98545,     0.98563,     0.98582,       0.986,     0.98619,     0.98637,     0.98656,     0.98674,     0.98693,\n",
              "            0.98711,     0.98715,     0.98715,     0.98715,     0.98714,     0.98714,     0.98714,     0.98711,     0.98711,      0.9871,      0.9871,      0.9871,      0.9871,     0.98709,     0.98709,     0.98709,     0.98709,     0.98706,     0.98705,     0.98705,     0.98705,     0.98704,     0.98703,\n",
              "            0.98702,     0.98698,     0.98698,     0.98697,     0.98694,     0.98694,     0.98693,     0.98693,     0.98693,     0.98693,     0.98693,     0.98692,     0.98692,     0.98692,     0.98879,     0.98933,     0.98987,     0.99042,      0.9906,     0.99059,     0.99058,     0.99056,     0.99055,\n",
              "            0.99053,     0.99053,     0.99052,     0.99052,     0.99052,     0.99052,     0.99052,     0.99052,     0.99051,     0.99049,     0.99049,     0.99048,     0.99046,     0.99043,     0.99042,     0.99041,     0.99038,     0.99036,     0.99036,     0.99035,     0.99031,     0.99031,      0.9903,\n",
              "             0.9903,     0.99029,     0.99226,     0.99246,     0.99266,     0.99286,     0.99306,     0.99326,     0.99346,     0.99366,     0.99386,     0.99406,     0.99409,     0.99409,     0.99409,     0.99407,     0.99406,     0.99404,     0.99402,       0.994,     0.99399,     0.99398,     0.99398,\n",
              "            0.99396,     0.99396,     0.99396,     0.99395,     0.99394,     0.99393,     0.99393,     0.99393,     0.99391,     0.99391,     0.99391,     0.99389,     0.99389,     0.99388,     0.99388,     0.99386,     0.99386,     0.99609,     0.99669,     0.99729,     0.99789,     0.99793,     0.99792,\n",
              "            0.99792,     0.99791,     0.99791,      0.9979,      0.9979,      0.9979,      0.9979,      0.9979,      0.9979,     0.99789,     0.99789,     0.99789,     0.99788,     0.99788,     0.99788,     0.99788,     0.99788,     0.99788,     0.99788,     0.99788,     0.99788,     0.99787,     0.99787,\n",
              "            0.99787,     0.99786,     0.99786,     0.99785,     0.99785,     0.99784,     0.99784,     0.99784,     0.99783,     0.99783,     0.99921,           1,           1,           1,           1,           1,           1,           1,           1,           1,           1,           1,           1,\n",
              "                  1,           1,           1,           1,           1,           1,           1,           1,           1,           1,           1,           1,           1,           1,           1,           1,           1,           1,           1,           1,           1,           1,           1,\n",
              "                  1,           1,           1,           1,           1,           1,           1,           1,           1,           1,           1,           1,           1,           1,           1,           1,           1,           1,           1,           1,           1,           1,           1,\n",
              "                  1,           1,           1,           1,           1,           1,           1,           1,           1,           1,           1,           1,           1,           1,           1,           1,           1,           1,           1,           1,           1,           1,           1,\n",
              "                  1,           1,           1,           1,           1,           1,           1,           1,           1,           1,           1,           1,           1,           1,           1,           1,           1,           1,           1,           1,           1,           1,           1,\n",
              "                  1,           1,           1,           1,           1,           1,           1,           1,           1,           1,           1,           1,           1,           1,           1,           1,           1,           1,           1,           1,           1,           1,           1,\n",
              "                  1,           1,           1,           1,           1,           1,           1,           1,           1,           1,           1,           1,           1,           1,           1,           1,           1,           1,           1,           1,           1,           1,           1,\n",
              "                  1,           1,           1,           1,           1,           1,           1,           1,           1,           1,           1,           1,           1,           1,           1,           1,           1,           1,           1,           1,           1,           1,           1,\n",
              "                  1,           1,           1,           1,           1,           1,           1,           1,           1,           1,           1,           1,           1,           1,           1,           1,           1,           1,           1,           1,           1,           1,           1,\n",
              "                  1,           1,           1,           1,           1,           1,           1,           1,           1,           1,           1]]), 'Confidence', 'Precision'], [array([          0,    0.001001,    0.002002,    0.003003,    0.004004,    0.005005,    0.006006,    0.007007,    0.008008,    0.009009,     0.01001,    0.011011,    0.012012,    0.013013,    0.014014,    0.015015,    0.016016,    0.017017,    0.018018,    0.019019,     0.02002,    0.021021,    0.022022,    0.023023,\n",
              "          0.024024,    0.025025,    0.026026,    0.027027,    0.028028,    0.029029,     0.03003,    0.031031,    0.032032,    0.033033,    0.034034,    0.035035,    0.036036,    0.037037,    0.038038,    0.039039,     0.04004,    0.041041,    0.042042,    0.043043,    0.044044,    0.045045,    0.046046,    0.047047,\n",
              "          0.048048,    0.049049,     0.05005,    0.051051,    0.052052,    0.053053,    0.054054,    0.055055,    0.056056,    0.057057,    0.058058,    0.059059,     0.06006,    0.061061,    0.062062,    0.063063,    0.064064,    0.065065,    0.066066,    0.067067,    0.068068,    0.069069,     0.07007,    0.071071,\n",
              "          0.072072,    0.073073,    0.074074,    0.075075,    0.076076,    0.077077,    0.078078,    0.079079,     0.08008,    0.081081,    0.082082,    0.083083,    0.084084,    0.085085,    0.086086,    0.087087,    0.088088,    0.089089,     0.09009,    0.091091,    0.092092,    0.093093,    0.094094,    0.095095,\n",
              "          0.096096,    0.097097,    0.098098,    0.099099,      0.1001,      0.1011,      0.1021,      0.1031,      0.1041,     0.10511,     0.10611,     0.10711,     0.10811,     0.10911,     0.11011,     0.11111,     0.11211,     0.11311,     0.11411,     0.11512,     0.11612,     0.11712,     0.11812,     0.11912,\n",
              "           0.12012,     0.12112,     0.12212,     0.12312,     0.12412,     0.12513,     0.12613,     0.12713,     0.12813,     0.12913,     0.13013,     0.13113,     0.13213,     0.13313,     0.13413,     0.13514,     0.13614,     0.13714,     0.13814,     0.13914,     0.14014,     0.14114,     0.14214,     0.14314,\n",
              "           0.14414,     0.14515,     0.14615,     0.14715,     0.14815,     0.14915,     0.15015,     0.15115,     0.15215,     0.15315,     0.15415,     0.15516,     0.15616,     0.15716,     0.15816,     0.15916,     0.16016,     0.16116,     0.16216,     0.16316,     0.16416,     0.16517,     0.16617,     0.16717,\n",
              "           0.16817,     0.16917,     0.17017,     0.17117,     0.17217,     0.17317,     0.17417,     0.17518,     0.17618,     0.17718,     0.17818,     0.17918,     0.18018,     0.18118,     0.18218,     0.18318,     0.18418,     0.18519,     0.18619,     0.18719,     0.18819,     0.18919,     0.19019,     0.19119,\n",
              "           0.19219,     0.19319,     0.19419,      0.1952,      0.1962,      0.1972,      0.1982,      0.1992,      0.2002,      0.2012,      0.2022,      0.2032,      0.2042,     0.20521,     0.20621,     0.20721,     0.20821,     0.20921,     0.21021,     0.21121,     0.21221,     0.21321,     0.21421,     0.21522,\n",
              "           0.21622,     0.21722,     0.21822,     0.21922,     0.22022,     0.22122,     0.22222,     0.22322,     0.22422,     0.22523,     0.22623,     0.22723,     0.22823,     0.22923,     0.23023,     0.23123,     0.23223,     0.23323,     0.23423,     0.23524,     0.23624,     0.23724,     0.23824,     0.23924,\n",
              "           0.24024,     0.24124,     0.24224,     0.24324,     0.24424,     0.24525,     0.24625,     0.24725,     0.24825,     0.24925,     0.25025,     0.25125,     0.25225,     0.25325,     0.25425,     0.25526,     0.25626,     0.25726,     0.25826,     0.25926,     0.26026,     0.26126,     0.26226,     0.26326,\n",
              "           0.26426,     0.26527,     0.26627,     0.26727,     0.26827,     0.26927,     0.27027,     0.27127,     0.27227,     0.27327,     0.27427,     0.27528,     0.27628,     0.27728,     0.27828,     0.27928,     0.28028,     0.28128,     0.28228,     0.28328,     0.28428,     0.28529,     0.28629,     0.28729,\n",
              "           0.28829,     0.28929,     0.29029,     0.29129,     0.29229,     0.29329,     0.29429,      0.2953,      0.2963,      0.2973,      0.2983,      0.2993,      0.3003,      0.3013,      0.3023,      0.3033,      0.3043,     0.30531,     0.30631,     0.30731,     0.30831,     0.30931,     0.31031,     0.31131,\n",
              "           0.31231,     0.31331,     0.31431,     0.31532,     0.31632,     0.31732,     0.31832,     0.31932,     0.32032,     0.32132,     0.32232,     0.32332,     0.32432,     0.32533,     0.32633,     0.32733,     0.32833,     0.32933,     0.33033,     0.33133,     0.33233,     0.33333,     0.33433,     0.33534,\n",
              "           0.33634,     0.33734,     0.33834,     0.33934,     0.34034,     0.34134,     0.34234,     0.34334,     0.34434,     0.34535,     0.34635,     0.34735,     0.34835,     0.34935,     0.35035,     0.35135,     0.35235,     0.35335,     0.35435,     0.35536,     0.35636,     0.35736,     0.35836,     0.35936,\n",
              "           0.36036,     0.36136,     0.36236,     0.36336,     0.36436,     0.36537,     0.36637,     0.36737,     0.36837,     0.36937,     0.37037,     0.37137,     0.37237,     0.37337,     0.37437,     0.37538,     0.37638,     0.37738,     0.37838,     0.37938,     0.38038,     0.38138,     0.38238,     0.38338,\n",
              "           0.38438,     0.38539,     0.38639,     0.38739,     0.38839,     0.38939,     0.39039,     0.39139,     0.39239,     0.39339,     0.39439,      0.3954,      0.3964,      0.3974,      0.3984,      0.3994,      0.4004,      0.4014,      0.4024,      0.4034,      0.4044,     0.40541,     0.40641,     0.40741,\n",
              "           0.40841,     0.40941,     0.41041,     0.41141,     0.41241,     0.41341,     0.41441,     0.41542,     0.41642,     0.41742,     0.41842,     0.41942,     0.42042,     0.42142,     0.42242,     0.42342,     0.42442,     0.42543,     0.42643,     0.42743,     0.42843,     0.42943,     0.43043,     0.43143,\n",
              "           0.43243,     0.43343,     0.43443,     0.43544,     0.43644,     0.43744,     0.43844,     0.43944,     0.44044,     0.44144,     0.44244,     0.44344,     0.44444,     0.44545,     0.44645,     0.44745,     0.44845,     0.44945,     0.45045,     0.45145,     0.45245,     0.45345,     0.45445,     0.45546,\n",
              "           0.45646,     0.45746,     0.45846,     0.45946,     0.46046,     0.46146,     0.46246,     0.46346,     0.46446,     0.46547,     0.46647,     0.46747,     0.46847,     0.46947,     0.47047,     0.47147,     0.47247,     0.47347,     0.47447,     0.47548,     0.47648,     0.47748,     0.47848,     0.47948,\n",
              "           0.48048,     0.48148,     0.48248,     0.48348,     0.48448,     0.48549,     0.48649,     0.48749,     0.48849,     0.48949,     0.49049,     0.49149,     0.49249,     0.49349,     0.49449,      0.4955,      0.4965,      0.4975,      0.4985,      0.4995,      0.5005,      0.5015,      0.5025,      0.5035,\n",
              "            0.5045,     0.50551,     0.50651,     0.50751,     0.50851,     0.50951,     0.51051,     0.51151,     0.51251,     0.51351,     0.51451,     0.51552,     0.51652,     0.51752,     0.51852,     0.51952,     0.52052,     0.52152,     0.52252,     0.52352,     0.52452,     0.52553,     0.52653,     0.52753,\n",
              "           0.52853,     0.52953,     0.53053,     0.53153,     0.53253,     0.53353,     0.53453,     0.53554,     0.53654,     0.53754,     0.53854,     0.53954,     0.54054,     0.54154,     0.54254,     0.54354,     0.54454,     0.54555,     0.54655,     0.54755,     0.54855,     0.54955,     0.55055,     0.55155,\n",
              "           0.55255,     0.55355,     0.55455,     0.55556,     0.55656,     0.55756,     0.55856,     0.55956,     0.56056,     0.56156,     0.56256,     0.56356,     0.56456,     0.56557,     0.56657,     0.56757,     0.56857,     0.56957,     0.57057,     0.57157,     0.57257,     0.57357,     0.57457,     0.57558,\n",
              "           0.57658,     0.57758,     0.57858,     0.57958,     0.58058,     0.58158,     0.58258,     0.58358,     0.58458,     0.58559,     0.58659,     0.58759,     0.58859,     0.58959,     0.59059,     0.59159,     0.59259,     0.59359,     0.59459,      0.5956,      0.5966,      0.5976,      0.5986,      0.5996,\n",
              "            0.6006,      0.6016,      0.6026,      0.6036,      0.6046,     0.60561,     0.60661,     0.60761,     0.60861,     0.60961,     0.61061,     0.61161,     0.61261,     0.61361,     0.61461,     0.61562,     0.61662,     0.61762,     0.61862,     0.61962,     0.62062,     0.62162,     0.62262,     0.62362,\n",
              "           0.62462,     0.62563,     0.62663,     0.62763,     0.62863,     0.62963,     0.63063,     0.63163,     0.63263,     0.63363,     0.63463,     0.63564,     0.63664,     0.63764,     0.63864,     0.63964,     0.64064,     0.64164,     0.64264,     0.64364,     0.64464,     0.64565,     0.64665,     0.64765,\n",
              "           0.64865,     0.64965,     0.65065,     0.65165,     0.65265,     0.65365,     0.65465,     0.65566,     0.65666,     0.65766,     0.65866,     0.65966,     0.66066,     0.66166,     0.66266,     0.66366,     0.66466,     0.66567,     0.66667,     0.66767,     0.66867,     0.66967,     0.67067,     0.67167,\n",
              "           0.67267,     0.67367,     0.67467,     0.67568,     0.67668,     0.67768,     0.67868,     0.67968,     0.68068,     0.68168,     0.68268,     0.68368,     0.68468,     0.68569,     0.68669,     0.68769,     0.68869,     0.68969,     0.69069,     0.69169,     0.69269,     0.69369,     0.69469,      0.6957,\n",
              "            0.6967,      0.6977,      0.6987,      0.6997,      0.7007,      0.7017,      0.7027,      0.7037,      0.7047,     0.70571,     0.70671,     0.70771,     0.70871,     0.70971,     0.71071,     0.71171,     0.71271,     0.71371,     0.71471,     0.71572,     0.71672,     0.71772,     0.71872,     0.71972,\n",
              "           0.72072,     0.72172,     0.72272,     0.72372,     0.72472,     0.72573,     0.72673,     0.72773,     0.72873,     0.72973,     0.73073,     0.73173,     0.73273,     0.73373,     0.73473,     0.73574,     0.73674,     0.73774,     0.73874,     0.73974,     0.74074,     0.74174,     0.74274,     0.74374,\n",
              "           0.74474,     0.74575,     0.74675,     0.74775,     0.74875,     0.74975,     0.75075,     0.75175,     0.75275,     0.75375,     0.75475,     0.75576,     0.75676,     0.75776,     0.75876,     0.75976,     0.76076,     0.76176,     0.76276,     0.76376,     0.76476,     0.76577,     0.76677,     0.76777,\n",
              "           0.76877,     0.76977,     0.77077,     0.77177,     0.77277,     0.77377,     0.77477,     0.77578,     0.77678,     0.77778,     0.77878,     0.77978,     0.78078,     0.78178,     0.78278,     0.78378,     0.78478,     0.78579,     0.78679,     0.78779,     0.78879,     0.78979,     0.79079,     0.79179,\n",
              "           0.79279,     0.79379,     0.79479,      0.7958,      0.7968,      0.7978,      0.7988,      0.7998,      0.8008,      0.8018,      0.8028,      0.8038,      0.8048,     0.80581,     0.80681,     0.80781,     0.80881,     0.80981,     0.81081,     0.81181,     0.81281,     0.81381,     0.81481,     0.81582,\n",
              "           0.81682,     0.81782,     0.81882,     0.81982,     0.82082,     0.82182,     0.82282,     0.82382,     0.82482,     0.82583,     0.82683,     0.82783,     0.82883,     0.82983,     0.83083,     0.83183,     0.83283,     0.83383,     0.83483,     0.83584,     0.83684,     0.83784,     0.83884,     0.83984,\n",
              "           0.84084,     0.84184,     0.84284,     0.84384,     0.84484,     0.84585,     0.84685,     0.84785,     0.84885,     0.84985,     0.85085,     0.85185,     0.85285,     0.85385,     0.85485,     0.85586,     0.85686,     0.85786,     0.85886,     0.85986,     0.86086,     0.86186,     0.86286,     0.86386,\n",
              "           0.86486,     0.86587,     0.86687,     0.86787,     0.86887,     0.86987,     0.87087,     0.87187,     0.87287,     0.87387,     0.87487,     0.87588,     0.87688,     0.87788,     0.87888,     0.87988,     0.88088,     0.88188,     0.88288,     0.88388,     0.88488,     0.88589,     0.88689,     0.88789,\n",
              "           0.88889,     0.88989,     0.89089,     0.89189,     0.89289,     0.89389,     0.89489,      0.8959,      0.8969,      0.8979,      0.8989,      0.8999,      0.9009,      0.9019,      0.9029,      0.9039,      0.9049,     0.90591,     0.90691,     0.90791,     0.90891,     0.90991,     0.91091,     0.91191,\n",
              "           0.91291,     0.91391,     0.91491,     0.91592,     0.91692,     0.91792,     0.91892,     0.91992,     0.92092,     0.92192,     0.92292,     0.92392,     0.92492,     0.92593,     0.92693,     0.92793,     0.92893,     0.92993,     0.93093,     0.93193,     0.93293,     0.93393,     0.93493,     0.93594,\n",
              "           0.93694,     0.93794,     0.93894,     0.93994,     0.94094,     0.94194,     0.94294,     0.94394,     0.94494,     0.94595,     0.94695,     0.94795,     0.94895,     0.94995,     0.95095,     0.95195,     0.95295,     0.95395,     0.95495,     0.95596,     0.95696,     0.95796,     0.95896,     0.95996,\n",
              "           0.96096,     0.96196,     0.96296,     0.96396,     0.96496,     0.96597,     0.96697,     0.96797,     0.96897,     0.96997,     0.97097,     0.97197,     0.97297,     0.97397,     0.97497,     0.97598,     0.97698,     0.97798,     0.97898,     0.97998,     0.98098,     0.98198,     0.98298,     0.98398,\n",
              "           0.98498,     0.98599,     0.98699,     0.98799,     0.98899,     0.98999,     0.99099,     0.99199,     0.99299,     0.99399,     0.99499,       0.996,       0.997,       0.998,       0.999,           1]), array([[    0.99681,     0.99681,     0.99681,     0.99681,     0.99681,     0.99681,     0.99681,     0.99681,     0.99681,     0.99681,     0.99681,     0.99681,     0.99681,     0.99681,     0.99681,     0.99681,     0.99681,     0.99681,     0.99681,     0.99681,     0.99681,     0.99681,     0.99681,\n",
              "            0.99681,     0.99681,     0.99681,     0.99681,     0.99361,     0.99361,     0.99361,     0.99361,     0.99361,     0.99361,     0.99361,     0.99361,     0.99142,     0.99042,     0.99042,     0.99042,     0.99042,     0.99042,     0.99042,     0.99042,     0.99042,     0.99042,     0.99042,\n",
              "            0.99042,     0.99042,     0.99042,     0.99042,     0.99042,     0.99042,     0.99042,     0.99042,     0.99042,     0.99042,     0.99042,     0.99042,     0.98751,     0.98722,     0.98722,     0.98722,     0.98722,     0.98515,     0.98403,     0.98403,     0.98403,     0.98403,     0.98403,\n",
              "            0.98403,     0.98403,     0.98403,     0.98403,     0.98403,     0.98403,     0.98403,     0.98403,     0.98403,     0.98403,     0.98403,     0.98403,     0.98403,     0.98403,     0.98403,     0.98403,     0.98403,     0.98403,     0.98403,     0.98403,     0.98403,     0.98403,     0.98403,\n",
              "            0.98403,     0.98403,     0.98403,     0.98403,     0.98403,     0.98403,     0.98403,     0.98403,     0.98403,     0.98403,     0.98403,     0.98403,     0.98403,     0.98403,     0.98403,     0.98403,     0.98403,     0.98403,     0.98403,     0.98403,     0.98403,     0.98403,     0.98403,\n",
              "            0.98403,     0.98403,     0.98403,     0.98403,     0.98403,     0.98403,     0.98403,     0.98403,     0.98403,     0.98403,     0.98403,     0.98403,     0.98403,     0.98403,     0.98403,     0.98403,     0.98403,     0.98403,     0.98403,     0.98403,     0.98403,     0.98403,     0.98403,\n",
              "            0.98403,     0.98403,     0.98403,     0.98403,     0.98403,     0.98403,     0.98403,     0.98403,     0.98403,     0.98403,     0.98403,     0.98403,     0.98403,     0.98173,     0.98083,     0.98083,     0.98083,     0.98083,     0.98083,     0.98083,     0.98083,     0.98083,     0.98083,\n",
              "            0.98083,     0.98083,     0.98083,     0.98083,     0.97916,     0.97856,     0.97797,     0.97764,     0.97764,     0.97764,     0.97764,     0.97761,     0.97714,     0.97668,     0.97621,     0.97419,     0.97379,     0.97339,       0.973,     0.97284,     0.97284,     0.97284,     0.97284,\n",
              "            0.97284,     0.97284,     0.97284,     0.97284,     0.97119,     0.97106,     0.97093,     0.97079,     0.97066,     0.97053,      0.9704,     0.97027,     0.97014,     0.97001,     0.96988,     0.96975,     0.96965,     0.96965,     0.96965,     0.96965,     0.96965,     0.96965,     0.96965,\n",
              "            0.96965,     0.96965,     0.96965,     0.96965,     0.96965,     0.96965,     0.96965,     0.96965,     0.96965,     0.96965,     0.96965,     0.96965,     0.96965,     0.96965,     0.96965,     0.96965,     0.96965,     0.96965,     0.96965,     0.96965,     0.96965,     0.96965,     0.96965,\n",
              "            0.96965,     0.96965,     0.96965,     0.96965,     0.96682,     0.96326,     0.96326,     0.96326,     0.96326,     0.96326,     0.96326,     0.96326,     0.96326,     0.96326,     0.96326,     0.96326,     0.96326,     0.96326,     0.96326,     0.96326,     0.96326,     0.96326,     0.96326,\n",
              "            0.96164,     0.96137,     0.96109,     0.96082,     0.96055,     0.96028,     0.96006,     0.96006,     0.96006,     0.96006,     0.95936,     0.95681,      0.9567,      0.9566,      0.9565,     0.95639,     0.95629,     0.95618,     0.95608,     0.95598,     0.95587,     0.95577,     0.95566,\n",
              "            0.95556,     0.95546,     0.95535,     0.95206,     0.95196,     0.95187,     0.95177,     0.95168,     0.95158,     0.95149,     0.95139,      0.9513,      0.9512,     0.95111,     0.95101,     0.95092,     0.95082,     0.95073,     0.95063,     0.95054,     0.95048,     0.95048,     0.95048,\n",
              "            0.95048,     0.95048,     0.95048,     0.95048,     0.95048,     0.94875,     0.94836,     0.94798,     0.94759,     0.94561,     0.94522,     0.94484,     0.94445,     0.94244,      0.9415,     0.94089,     0.94089,     0.94089,     0.94089,     0.94089,     0.94089,     0.94089,     0.94089,\n",
              "            0.94089,     0.94089,     0.94089,     0.94089,     0.94089,     0.94089,     0.94089,     0.94089,     0.94089,     0.94089,     0.94089,     0.94089,     0.94089,     0.94089,     0.94089,     0.94089,     0.94089,     0.94089,     0.94089,     0.94089,     0.94089,     0.94089,     0.94089,\n",
              "            0.94089,     0.94089,     0.93837,      0.9377,      0.9377,      0.9377,      0.9377,      0.9377,      0.9377,      0.9377,      0.9377,      0.9377,      0.9377,      0.9377,      0.9377,      0.9377,      0.9377,      0.9377,      0.9377,      0.9377,      0.9377,      0.9377,      0.9377,\n",
              "             0.9377,      0.9377,      0.9345,      0.9345,      0.9345,      0.9345,      0.9345,      0.9345,      0.9345,      0.9345,      0.9345,      0.9345,      0.9345,      0.9345,      0.9345,      0.9345,      0.9345,      0.9345,      0.9345,      0.9345,      0.9345,      0.9345,      0.9345,\n",
              "             0.9345,      0.9345,      0.9345,      0.9345,      0.9345,      0.9345,      0.9345,      0.9345,      0.9345,      0.9345,      0.9345,      0.9345,      0.9345,      0.9345,      0.9345,      0.9344,     0.93428,     0.93415,     0.93403,     0.93391,     0.93379,     0.93367,     0.93355,\n",
              "            0.93343,     0.93331,     0.93318,     0.93306,     0.93294,     0.93266,     0.93232,     0.93197,     0.93163,     0.93131,     0.93131,     0.93131,     0.92946,     0.92812,     0.92812,     0.92812,     0.92812,     0.92812,     0.92812,     0.92812,     0.92812,     0.92629,      0.9257,\n",
              "             0.9251,     0.92435,     0.92353,     0.92132,     0.92077,     0.92023,     0.91845,     0.91834,     0.91824,     0.91813,     0.91803,     0.91793,     0.91782,     0.91772,     0.91761,     0.91751,     0.91741,      0.9173,      0.9172,     0.91709,     0.91699,     0.91693,     0.91693,\n",
              "            0.91693,     0.91693,     0.91444,     0.90876,     0.90843,      0.9081,     0.90778,     0.90745,     0.90735,     0.90735,     0.90735,     0.90735,     0.90561,     0.90542,     0.90524,     0.90506,     0.90488,      0.9047,     0.90452,     0.90433,     0.90255,     0.90214,     0.90173,\n",
              "            0.90132,     0.90096,     0.90096,     0.90096,     0.90096,     0.90096,      0.8993,     0.89902,     0.89875,     0.89848,     0.89821,     0.89793,     0.89776,     0.89776,     0.89776,     0.89776,     0.89776,     0.89776,     0.89776,     0.89776,     0.89776,      0.8961,       0.896,\n",
              "             0.8959,      0.8958,      0.8957,     0.89559,     0.89549,     0.89539,     0.89529,     0.89518,     0.89508,     0.89498,     0.89488,     0.89477,     0.89467,     0.89457,     0.89216,     0.89137,     0.89137,     0.89137,     0.89128,     0.89118,     0.89109,       0.891,     0.89091,\n",
              "            0.89082,     0.89073,     0.89064,     0.89055,     0.89046,     0.89037,     0.89027,     0.89018,     0.89009,        0.89,     0.88991,     0.88982,     0.88978,     0.88978,     0.88978,     0.88978,     0.88797,     0.88765,     0.88732,     0.88699,     0.88666,     0.88536,     0.88297,\n",
              "            0.88242,     0.88187,     0.88133,     0.88078,     0.88024,     0.87976,      0.8793,     0.87883,     0.87859,     0.87859,     0.87859,     0.87859,     0.87859,     0.87859,     0.87859,     0.87859,     0.87859,     0.87859,     0.87859,     0.87859,     0.87859,     0.87859,     0.87859,\n",
              "            0.87859,     0.87859,     0.87859,     0.87859,     0.87859,     0.87859,     0.87859,     0.87859,     0.87859,     0.87859,     0.87859,     0.87859,     0.87859,     0.87859,     0.87859,     0.87859,     0.87859,     0.87859,     0.87859,     0.87364,     0.87345,     0.87325,     0.87306,\n",
              "            0.87287,     0.87268,     0.87248,     0.87229,     0.87198,     0.87157,     0.87116,     0.87075,     0.86885,     0.86859,     0.86834,     0.86809,     0.86784,     0.86759,     0.86531,     0.86422,     0.86422,     0.86422,     0.86422,     0.86422,     0.86422,     0.86422,     0.86422,\n",
              "            0.86422,     0.86261,     0.86249,     0.86236,     0.86223,     0.86211,     0.86198,     0.86186,     0.86173,      0.8616,     0.86148,     0.86135,     0.86123,      0.8611,     0.86102,     0.86102,     0.86102,     0.86102,     0.86102,     0.86102,     0.86102,     0.86102,     0.86102,\n",
              "            0.86102,     0.85927,     0.85902,     0.85876,     0.85851,     0.85826,     0.85801,     0.85618,     0.85602,     0.85586,     0.85569,     0.85553,     0.85536,      0.8552,     0.85504,     0.85487,     0.85471,     0.85288,     0.85258,     0.85228,     0.85198,     0.85169,     0.85126,\n",
              "            0.85017,     0.84792,     0.84745,     0.84698,       0.845,     0.84485,     0.84469,     0.84454,     0.84438,     0.84422,     0.84407,     0.84391,     0.84376,      0.8436,     0.84345,     0.84345,     0.84345,     0.84345,     0.84134,     0.84052,     0.83952,     0.83843,     0.83734,\n",
              "            0.83533,     0.83516,     0.83499,     0.83482,     0.83464,     0.83447,      0.8343,     0.83413,     0.83396,     0.83204,     0.83158,     0.83111,     0.82886,       0.827,     0.82618,     0.82519,     0.82242,     0.82098,     0.82044,     0.81989,     0.81621,     0.81588,     0.81555,\n",
              "            0.81523,      0.8149,      0.8115,      0.8115,      0.8115,      0.8115,      0.8115,      0.8115,      0.8115,      0.8115,      0.8115,      0.8115,     0.80663,     0.80609,     0.80554,     0.80334,     0.80252,     0.79946,     0.79628,     0.79359,      0.7925,     0.79178,     0.79112,\n",
              "            0.78897,     0.78856,     0.78815,     0.78774,     0.78574,     0.78533,     0.78492,     0.78451,     0.78247,       0.782,     0.78153,     0.77948,     0.77907,     0.77866,     0.77825,     0.77612,      0.7753,     0.77316,     0.77316,     0.77316,     0.77316,     0.76846,       0.766,\n",
              "            0.76518,     0.76304,     0.76249,     0.76036,     0.76009,     0.75982,     0.75955,     0.75927,       0.759,     0.75684,     0.75395,     0.75378,     0.75361,     0.75344,     0.75326,     0.75309,     0.75292,     0.75275,     0.75257,      0.7524,      0.7516,     0.74919,     0.74853,\n",
              "            0.74788,     0.74553,     0.74471,      0.7407,     0.73988,     0.73765,      0.7371,     0.73656,     0.73421,     0.73339,     0.72843,     0.72708,     0.72509,      0.7249,     0.72472,     0.72454,     0.72436,     0.72418,     0.72399,     0.72381,     0.72182,     0.71837,     0.71756,\n",
              "            0.71234,     0.71153,     0.70864,     0.70581,     0.70545,     0.70509,     0.70472,     0.70422,      0.7034,     0.70258,     0.70176,     0.69934,     0.69853,     0.69498,      0.6925,     0.69168,     0.69086,     0.68519,     0.68201,     0.68092,     0.67982,     0.67864,       0.677,\n",
              "            0.67395,     0.67313,     0.67235,      0.6717,     0.67104,     0.66894,     0.66848,     0.66801,     0.66267,     0.66202,     0.66136,     0.65656,     0.65573,     0.65333,     0.65287,      0.6524,     0.65193,     0.64964,     0.64882,     0.64782,     0.64147,     0.63659,     0.63295,\n",
              "            0.63174,     0.63065,     0.62956,      0.6264,     0.62403,     0.62337,     0.61998,     0.61826,     0.61236,     0.60967,      0.6086,     0.60806,     0.60751,     0.60364,       0.602,     0.59877,     0.59522,      0.5883,     0.58592,     0.58545,     0.58499,      0.5829,     0.58235,\n",
              "             0.5818,      0.5786,     0.57631,      0.5759,     0.57549,     0.57508,     0.56973,     0.56704,     0.56595,     0.56294,     0.55731,     0.55262,     0.55197,     0.55131,     0.54562,     0.54234,     0.53907,     0.52988,     0.52855,     0.52789,     0.52724,     0.52093,     0.50504,\n",
              "            0.50269,     0.50214,      0.5016,     0.49833,     0.49462,      0.4903,     0.48851,     0.48513,     0.48431,     0.48135,     0.47061,     0.46939,     0.46903,     0.46866,      0.4683,     0.46635,     0.46602,      0.4657,     0.46537,     0.46504,     0.46183,     0.45851,     0.45501,\n",
              "            0.45446,     0.45391,     0.45036,     0.44697,      0.4415,     0.43826,     0.43183,     0.42269,     0.41941,     0.41734,     0.41152,      0.4107,     0.40487,     0.40304,     0.39956,     0.39681,     0.39322,     0.38746,     0.38347,      0.3762,     0.37019,     0.36937,     0.36809,\n",
              "            0.35767,     0.35424,     0.33659,     0.33315,     0.33004,     0.32516,     0.31869,     0.30947,     0.30575,      0.2929,     0.28778,     0.27996,     0.27029,     0.26689,     0.25967,     0.25248,     0.24281,     0.23159,     0.22508,     0.21063,     0.20416,     0.19902,     0.18962,\n",
              "            0.17864,     0.17061,     0.16542,     0.15455,     0.15248,     0.14601,     0.13315,     0.12583,     0.12473,     0.11534,     0.11047,       0.104,    0.097526,     0.09212,    0.087781,    0.080592,    0.070168,    0.066774,      0.0629,    0.057269,    0.054174,    0.053355,    0.047564,\n",
              "           0.043931,    0.040296,    0.035783,    0.026119,    0.019409,    0.010783,   0.0096913,           0,           0,           0,           0]]), 'Confidence', 'Recall']]\n",
              "fitness: 0.897633967486523\n",
              "keys: ['metrics/precision(B)', 'metrics/recall(B)', 'metrics/mAP50(B)', 'metrics/mAP50-95(B)']\n",
              "maps: array([    0.88771])\n",
              "names: {0: 'Tooth'}\n",
              "plot: True\n",
              "results_dict: {'metrics/precision(B)': 0.9361502074765085, 'metrics/recall(B)': 0.9602751713374716, 'metrics/mAP50(B)': 0.9869372043285825, 'metrics/mAP50-95(B)': 0.887711385615183, 'fitness': 0.897633967486523}\n",
              "save_dir: PosixPath('runs/detect/train2')\n",
              "speed: {'preprocess': 0.23049778408474395, 'inference': 3.6918189790513782, 'loss': 0.0008013513353135851, 'postprocess': 3.339277373419868}\n",
              "task: 'detect'"
            ]
          },
          "metadata": {},
          "execution_count": 4
        }
      ]
    },
    {
      "cell_type": "code",
      "source": [
        "results_braces = braces_model.predict(source='/content/bracess.png')\n",
        "results_teeth = teeth_model.predict(source='/content/braceKart_frame_2.png')"
      ],
      "metadata": {
        "id": "MdhuAM66mwbi",
        "colab": {
          "base_uri": "https://localhost:8080/"
        },
        "outputId": "3bc22ae7-b32d-4442-d098-d45a21f74e37"
      },
      "execution_count": 6,
      "outputs": [
        {
          "output_type": "stream",
          "name": "stdout",
          "text": [
            "\n",
            "image 1/1 /content/bracess.png: 640x640 4 brackets, 7.2ms\n",
            "Speed: 4.4ms preprocess, 7.2ms inference, 2.2ms postprocess per image at shape (1, 3, 640, 640)\n",
            "\n",
            "image 1/1 /content/braceKart_frame_2.png: 480x640 3 Tooths, 34.7ms\n",
            "Speed: 1.1ms preprocess, 34.7ms inference, 1.3ms postprocess per image at shape (1, 3, 480, 640)\n"
          ]
        }
      ]
    },
    {
      "cell_type": "code",
      "source": [
        "from google.colab import drive\n",
        "drive.mount('/content/drive')"
      ],
      "metadata": {
        "colab": {
          "base_uri": "https://localhost:8080/"
        },
        "id": "48BEzc9p0Hnj",
        "outputId": "6fe312dd-111a-4d0c-bc7f-889b401a1b75"
      },
      "execution_count": 8,
      "outputs": [
        {
          "output_type": "stream",
          "name": "stdout",
          "text": [
            "Drive already mounted at /content/drive; to attempt to forcibly remount, call drive.mount(\"/content/drive\", force_remount=True).\n"
          ]
        }
      ]
    },
    {
      "cell_type": "code",
      "source": [
        "model = YOLO('/content/yolov8n.pt')  # Load your model\n",
        "model.save('/content/yolov8n.pt')    # Save to a specific path"
      ],
      "metadata": {
        "id": "Ak-9NsM10vSd"
      },
      "execution_count": 9,
      "outputs": []
    },
    {
      "cell_type": "code",
      "source": [
        "from tensorflow.keras.models import load_model, save_model # Import both load_model and save_model functions\n",
        "# Define the path to save the model\n",
        "model.save = '/content/drive/MyDrive/face_teeth.h5'\n",
        "\n",
        "# # Save the model\n",
        "# save_model(load_model('/content/drive/MyDrive/face_teeth.h5'), model_save_path)\n",
        "# print(f\"Model saved to: {model_save_path}\")\n",
        "\n",
        "# model = load_model('/content/drive/MyDrive/face_teeth.h5')"
      ],
      "metadata": {
        "id": "7UDlfW07z_x0"
      },
      "execution_count": 10,
      "outputs": []
    },
    {
      "cell_type": "code",
      "source": [
        "# from google.colab import drive\n",
        "# drive.mount('/content/drive') # Mount your Google Drive\n",
        "\n",
        "# from tensorflow.keras.models import load_model # Import the load_model function\n",
        "\n",
        "# # Ensure the file path is correct and the file exists in your Drive\n",
        "# model_path = '/content/drive/MyDrive/face_teeth.h5'\n",
        "\n",
        "# # Load the model\n",
        "# # model = load_model(model_path)"
      ],
      "metadata": {
        "colab": {
          "base_uri": "https://localhost:8080/"
        },
        "id": "TW7tanc50_ys",
        "outputId": "07b4c51a-6e82-4bdd-db58-e01d65c629ea"
      },
      "execution_count": 11,
      "outputs": [
        {
          "output_type": "stream",
          "name": "stdout",
          "text": [
            "Drive already mounted at /content/drive; to attempt to forcibly remount, call drive.mount(\"/content/drive\", force_remount=True).\n"
          ]
        }
      ]
    },
    {
      "cell_type": "code",
      "source": [
        "# Install necessary libraries\n",
        "!pip install ultralytics\n",
        "\n",
        "# Import YOLO from ultralytics\n",
        "from ultralytics import YOLO\n",
        "\n",
        "# Mount Google Drive (if using Colab for data storage)\n",
        "from google.colab import drive\n",
        "drive.mount('/content/drive')\n",
        "\n",
        "# Train Braces Detection Model\n",
        "braces_model = YOLO('yolov8m.pt')  # You can use 'yolov8l.pt' for more accuracy\n",
        "braces_model.train(data='/content/drive/MyDrive/bracket instance segmentation.v1i.yolov8/data.yaml', epochs=30, imgsz=768, batch=16)\n",
        "\n",
        "# Train Teeth Detection Model\n",
        "teeth_model = YOLO('yolov8m.pt')\n",
        "teeth_model.train(data='/content/drive/MyDrive/teeth.v1i.yolov8/data.yaml', epochs=30, imgsz=768, batch=16)\n"
      ],
      "metadata": {
        "colab": {
          "base_uri": "https://localhost:8080/",
          "height": 373
        },
        "id": "ZzFcD6R7AVr_",
        "outputId": "86daa349-3798-4a49-87ab-7bced4786ca7"
      },
      "execution_count": 12,
      "outputs": [
        {
          "output_type": "error",
          "ename": "NotImplementedError",
          "evalue": "A UTF-8 locale is required. Got ANSI_X3.4-1968",
          "traceback": [
            "\u001b[0;31m---------------------------------------------------------------------------\u001b[0m",
            "\u001b[0;31mNotImplementedError\u001b[0m                       Traceback (most recent call last)",
            "\u001b[0;32m<ipython-input-12-d660d1590435>\u001b[0m in \u001b[0;36m<cell line: 2>\u001b[0;34m()\u001b[0m\n\u001b[1;32m      1\u001b[0m \u001b[0;31m# Install necessary libraries\u001b[0m\u001b[0;34m\u001b[0m\u001b[0;34m\u001b[0m\u001b[0m\n\u001b[0;32m----> 2\u001b[0;31m \u001b[0mget_ipython\u001b[0m\u001b[0;34m(\u001b[0m\u001b[0;34m)\u001b[0m\u001b[0;34m.\u001b[0m\u001b[0msystem\u001b[0m\u001b[0;34m(\u001b[0m\u001b[0;34m'pip install ultralytics'\u001b[0m\u001b[0;34m)\u001b[0m\u001b[0;34m\u001b[0m\u001b[0;34m\u001b[0m\u001b[0m\n\u001b[0m\u001b[1;32m      3\u001b[0m \u001b[0;34m\u001b[0m\u001b[0m\n\u001b[1;32m      4\u001b[0m \u001b[0;31m# Import YOLO from ultralytics\u001b[0m\u001b[0;34m\u001b[0m\u001b[0;34m\u001b[0m\u001b[0m\n\u001b[1;32m      5\u001b[0m \u001b[0;32mfrom\u001b[0m \u001b[0multralytics\u001b[0m \u001b[0;32mimport\u001b[0m \u001b[0mYOLO\u001b[0m\u001b[0;34m\u001b[0m\u001b[0;34m\u001b[0m\u001b[0m\n",
            "\u001b[0;32m/usr/local/lib/python3.10/dist-packages/google/colab/_shell.py\u001b[0m in \u001b[0;36msystem\u001b[0;34m(self, *args, **kwargs)\u001b[0m\n\u001b[1;32m     97\u001b[0m       \u001b[0mkwargs\u001b[0m\u001b[0;34m.\u001b[0m\u001b[0mupdate\u001b[0m\u001b[0;34m(\u001b[0m\u001b[0;34m{\u001b[0m\u001b[0;34m'also_return_output'\u001b[0m\u001b[0;34m:\u001b[0m \u001b[0;32mTrue\u001b[0m\u001b[0;34m}\u001b[0m\u001b[0;34m)\u001b[0m\u001b[0;34m\u001b[0m\u001b[0;34m\u001b[0m\u001b[0m\n\u001b[1;32m     98\u001b[0m \u001b[0;34m\u001b[0m\u001b[0m\n\u001b[0;32m---> 99\u001b[0;31m     \u001b[0moutput\u001b[0m \u001b[0;34m=\u001b[0m \u001b[0m_system_commands\u001b[0m\u001b[0;34m.\u001b[0m\u001b[0m_system_compat\u001b[0m\u001b[0;34m(\u001b[0m\u001b[0mself\u001b[0m\u001b[0;34m,\u001b[0m \u001b[0;34m*\u001b[0m\u001b[0margs\u001b[0m\u001b[0;34m,\u001b[0m \u001b[0;34m**\u001b[0m\u001b[0mkwargs\u001b[0m\u001b[0;34m)\u001b[0m  \u001b[0;31m# pylint:disable=protected-access\u001b[0m\u001b[0;34m\u001b[0m\u001b[0;34m\u001b[0m\u001b[0m\n\u001b[0m\u001b[1;32m    100\u001b[0m \u001b[0;34m\u001b[0m\u001b[0m\n\u001b[1;32m    101\u001b[0m     \u001b[0;32mif\u001b[0m \u001b[0mpip_warn\u001b[0m\u001b[0;34m:\u001b[0m\u001b[0;34m\u001b[0m\u001b[0;34m\u001b[0m\u001b[0m\n",
            "\u001b[0;32m/usr/local/lib/python3.10/dist-packages/google/colab/_system_commands.py\u001b[0m in \u001b[0;36m_system_compat\u001b[0;34m(shell, cmd, also_return_output)\u001b[0m\n\u001b[1;32m    452\u001b[0m   \u001b[0;31m# is expected to call this function, thus adding one level of nesting to the\u001b[0m\u001b[0;34m\u001b[0m\u001b[0;34m\u001b[0m\u001b[0m\n\u001b[1;32m    453\u001b[0m   \u001b[0;31m# stack.\u001b[0m\u001b[0;34m\u001b[0m\u001b[0;34m\u001b[0m\u001b[0m\n\u001b[0;32m--> 454\u001b[0;31m   result = _run_command(\n\u001b[0m\u001b[1;32m    455\u001b[0m       \u001b[0mshell\u001b[0m\u001b[0;34m.\u001b[0m\u001b[0mvar_expand\u001b[0m\u001b[0;34m(\u001b[0m\u001b[0mcmd\u001b[0m\u001b[0;34m,\u001b[0m \u001b[0mdepth\u001b[0m\u001b[0;34m=\u001b[0m\u001b[0;36m2\u001b[0m\u001b[0;34m)\u001b[0m\u001b[0;34m,\u001b[0m \u001b[0mclear_streamed_output\u001b[0m\u001b[0;34m=\u001b[0m\u001b[0;32mFalse\u001b[0m\u001b[0;34m\u001b[0m\u001b[0;34m\u001b[0m\u001b[0m\n\u001b[1;32m    456\u001b[0m   )\n",
            "\u001b[0;32m/usr/local/lib/python3.10/dist-packages/google/colab/_system_commands.py\u001b[0m in \u001b[0;36m_run_command\u001b[0;34m(cmd, clear_streamed_output)\u001b[0m\n\u001b[1;32m    166\u001b[0m     \u001b[0mlocale_encoding\u001b[0m \u001b[0;34m=\u001b[0m \u001b[0mlocale\u001b[0m\u001b[0;34m.\u001b[0m\u001b[0mgetpreferredencoding\u001b[0m\u001b[0;34m(\u001b[0m\u001b[0;34m)\u001b[0m\u001b[0;34m\u001b[0m\u001b[0;34m\u001b[0m\u001b[0m\n\u001b[1;32m    167\u001b[0m     \u001b[0;32mif\u001b[0m \u001b[0mlocale_encoding\u001b[0m \u001b[0;34m!=\u001b[0m \u001b[0m_ENCODING\u001b[0m\u001b[0;34m:\u001b[0m\u001b[0;34m\u001b[0m\u001b[0;34m\u001b[0m\u001b[0m\n\u001b[0;32m--> 168\u001b[0;31m       raise NotImplementedError(\n\u001b[0m\u001b[1;32m    169\u001b[0m           \u001b[0;34m'A UTF-8 locale is required. Got {}'\u001b[0m\u001b[0;34m.\u001b[0m\u001b[0mformat\u001b[0m\u001b[0;34m(\u001b[0m\u001b[0mlocale_encoding\u001b[0m\u001b[0;34m)\u001b[0m\u001b[0;34m\u001b[0m\u001b[0;34m\u001b[0m\u001b[0m\n\u001b[1;32m    170\u001b[0m       )\n",
            "\u001b[0;31mNotImplementedError\u001b[0m: A UTF-8 locale is required. Got ANSI_X3.4-1968"
          ]
        }
      ]
    },
    {
      "cell_type": "code",
      "source": [
        "import cv2\n",
        "from ultralytics import YOLO\n",
        "\n",
        "# Load pre-trained models with explicit task definition\n",
        "braces_model = YOLO('/content/drive/MyDrive/bracket instance segmentation.v1i.yolov8', task='detect')\n",
        "teeth_model = YOLO('/content/drive/MyDrive/teeth.v1i.yolov8', task='detect')\n",
        "\n",
        "# Capture live image from webcam\n",
        "cap = cv2.VideoCapture(0)\n",
        "ret, frame = cap.read()\n",
        "\n",
        "if ret:\n",
        "    # Perform inference to detect teeth\n",
        "    teeth_results = teeth_model(frame)\n",
        "\n",
        "    # Get bounding boxes of teeth from the results\n",
        "    teeth_boxes = teeth_results[0].boxes.xyxy  # (xmin, ymin, xmax, ymax) format\n",
        "\n",
        "    # Perform inference to detect braces\n",
        "    braces_results = braces_model(frame)\n",
        "\n",
        "    # Get bounding boxes of braces\n",
        "    braces_boxes = braces_results[0].boxes.xyxy\n",
        "\n",
        "    # For simplicity, let's assume you are working with a single set of teeth and braces\n",
        "    if len(teeth_boxes) > 0 and len(braces_boxes) > 0:\n",
        "        # Overlay braces onto the detected teeth\n",
        "        for teeth_box, braces_box in zip(teeth_boxes, braces_boxes):\n",
        "            # Extract the region of interest (ROI) where the teeth are located\n",
        "            xmin_teeth, ymin_teeth, xmax_teeth, ymax_teeth = map(int, teeth_box)\n",
        "            teeth_roi = frame[ymin_teeth:ymax_teeth, xmin_teeth:xmax_teeth]\n",
        "\n",
        "            # Similarly, extract the braces ROI\n",
        "            xmin_braces, ymin_braces, xmax_braces, ymax_braces = map(int, braces_box)\n",
        "            braces_roi = frame[ymin_braces:ymax_braces, xmin_braces:xmax_braces]\n",
        "\n",
        "            # Resize braces to fit on teeth\n",
        "            braces_resized = cv2.resize(braces_roi, (xmax_teeth - xmin_teeth, ymax_teeth - ymin_teeth))\n",
        "\n",
        "            # Overlay braces on teeth (using simple alpha blending)\n",
        "            blended = cv2.addWeighted(teeth_roi, 0.7, braces_resized, 0.3, 0)\n",
        "\n",
        "            # Replace the teeth region in the original frame with the blended result\n",
        "            frame[ymin_teeth:ymax_teeth, xmin_teeth:xmax_teeth] = blended\n",
        "\n",
        "    # Display the frame with braces overlay\n",
        "    cv2.imshow('Teeth with Braces', frame)\n",
        "    cv2.waitKey(0)\n",
        "\n",
        "# Release the camera\n",
        "cap.release()\n",
        "# Commenting out to avoid errors in headless environments\n",
        "# cv2.destroyAllWindows()\n"
      ],
      "metadata": {
        "id": "wYdDzuk7AfZn"
      },
      "execution_count": null,
      "outputs": []
    },
    {
      "cell_type": "code",
      "source": [
        "# Install necessary libraries\n",
        "!pip install ultralytics\n",
        "\n",
        "# Import YOLO from ultralytics\n",
        "from ultralytics import YOLO  # Import YOLO here\n",
        "\n",
        "# Load pre-trained models with explicit task definition and the correct weight file path\n",
        "# Verify this path is correct for your training output\n",
        "braces_model = YOLO('/content/drive/MyDrive/bracket instance segmentation.v1i.yolov8', task='detect')  # Updated path to include weights file\n",
        "# Verify this path is correct for your training output\n",
        "teeth_model = YOLO('/content/drive/MyDrive/teeth.v1i.yolov8', task='detect')  # Updated path to include weights file\n",
        "\n",
        "# Define the validation data path\n",
        "validation_data_braces = '/content/drive/MyDrive/bracket instance segmentation.v1i.yolov8/data.yaml'  # Update with your validation data path\n",
        "validation_data_teeth = '/content/drive/MyDrive/teeth.v1i.yolov8/data.yaml'  # Update with your validation data path\n",
        "\n",
        "# Evaluate the models and store the results in variables\n",
        "braces_results = braces_model.val(data=validation_data_braces)  # Evaluate braces model\n",
        "teeth_results = teeth_model.val(data=validation_data_teeth)  # Evaluate teeth model\n",
        "\n",
        "# Access metrics from the results (example: using metrics dictionary)\n",
        "braces_metrics = braces_results.metrics\n",
        "teeth_metrics = teeth_results.metrics\n",
        "\n",
        "# ... (rest of your code)\n",
        "print(\"Braces Model Evaluation:\", braces_metrics)\n",
        "print(\"Teeth Model Evaluation:\", teeth_metrics)"
      ],
      "metadata": {
        "id": "pkLHL7HOAilA"
      },
      "execution_count": null,
      "outputs": []
    }
  ]
}